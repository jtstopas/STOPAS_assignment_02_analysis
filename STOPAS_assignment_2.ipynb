{
 "cells": [
  {
   "cell_type": "markdown",
   "id": "81611819-dfa6-4758-944c-21aa486b53da",
   "metadata": {},
   "source": [
    "JASON STOPAS<br>\n",
    "ASSIGNMENT 2"
   ]
  },
  {
   "cell_type": "code",
   "execution_count": 1,
   "id": "66b62f14-7847-45e2-8874-51d6643cc664",
   "metadata": {},
   "outputs": [],
   "source": [
    "import gdown\n",
    "import polars as pl\n",
    "import pandas as pd\n",
    "import numpy as np\n",
    "import sqlite3\n",
    "import plotly.express as px\n",
    "import plotly.graph_objects as go\n",
    "import duckdb\n",
    "import os"
   ]
  },
  {
   "cell_type": "code",
   "execution_count": 2,
   "id": "3a79a542-ffe0-4219-871b-96853c1db85d",
   "metadata": {},
   "outputs": [
    {
     "name": "stderr",
     "output_type": "stream",
     "text": [
      "Downloading...\n",
      "From (original): https://drive.google.com/uc?id=1V2GCHGt2dkFGqVBeoUFckU4IhUgk4ocQ\n",
      "From (redirected): https://drive.google.com/uc?id=1V2GCHGt2dkFGqVBeoUFckU4IhUgk4ocQ&confirm=t&uuid=b30187d9-5a5e-4c6b-86cf-64e773acd6a4\n",
      "To: C:\\Users\\jtsto\\OneDrive\\Documents\\03 BU SPRING 2025\\AD 688\\Assignment_2\\downloaded_file.csv\n",
      "100%|██████████| 717M/717M [01:13<00:00, 9.71MB/s] \n"
     ]
    }
   ],
   "source": [
    "drive_loc = 'https://drive.google.com/uc?id=1V2GCHGt2dkFGqVBeoUFckU4IhUgk4ocQ'\n",
    "\n",
    "download_LC = 'downloaded_file.csv'\n",
    "gdown.download(drive_loc, download_LC, quiet=False)\n",
    "\n",
    "Jobs = pl.read_csv(download_LC)"
   ]
  },
  {
   "cell_type": "code",
   "execution_count": 3,
   "id": "7e680c4c-360f-49f7-81cd-4911bd24993f",
   "metadata": {},
   "outputs": [
    {
     "name": "stdout",
     "output_type": "stream",
     "text": [
      "['ID', 'LAST_UPDATED_DATE', 'LAST_UPDATED_TIMESTAMP', 'DUPLICATES', 'POSTED', 'EXPIRED', 'DURATION', 'SOURCE_TYPES', 'SOURCES', 'URL', 'ACTIVE_URLS', 'ACTIVE_SOURCES_INFO', 'TITLE_RAW', 'BODY', 'MODELED_EXPIRED', 'MODELED_DURATION', 'COMPANY', 'COMPANY_NAME', 'COMPANY_RAW', 'COMPANY_IS_STAFFING', 'EDUCATION_LEVELS', 'EDUCATION_LEVELS_NAME', 'MIN_EDULEVELS', 'MIN_EDULEVELS_NAME', 'MAX_EDULEVELS', 'MAX_EDULEVELS_NAME', 'EMPLOYMENT_TYPE', 'EMPLOYMENT_TYPE_NAME', 'MIN_YEARS_EXPERIENCE', 'MAX_YEARS_EXPERIENCE', 'IS_INTERNSHIP', 'SALARY', 'REMOTE_TYPE', 'REMOTE_TYPE_NAME', 'ORIGINAL_PAY_PERIOD', 'SALARY_TO', 'SALARY_FROM', 'LOCATION', 'CITY', 'CITY_NAME', 'COUNTY', 'COUNTY_NAME', 'MSA', 'MSA_NAME', 'STATE', 'STATE_NAME', 'COUNTY_OUTGOING', 'COUNTY_NAME_OUTGOING', 'COUNTY_INCOMING', 'COUNTY_NAME_INCOMING', 'MSA_OUTGOING', 'MSA_NAME_OUTGOING', 'MSA_INCOMING', 'MSA_NAME_INCOMING', 'NAICS2', 'NAICS2_NAME', 'NAICS3', 'NAICS3_NAME', 'NAICS4', 'NAICS4_NAME', 'NAICS5', 'NAICS5_NAME', 'NAICS6', 'NAICS6_NAME', 'TITLE', 'TITLE_NAME', 'TITLE_CLEAN', 'SKILLS', 'SKILLS_NAME', 'SPECIALIZED_SKILLS', 'SPECIALIZED_SKILLS_NAME', 'CERTIFICATIONS', 'CERTIFICATIONS_NAME', 'COMMON_SKILLS', 'COMMON_SKILLS_NAME', 'SOFTWARE_SKILLS', 'SOFTWARE_SKILLS_NAME', 'ONET', 'ONET_NAME', 'ONET_2019', 'ONET_2019_NAME', 'CIP6', 'CIP6_NAME', 'CIP4', 'CIP4_NAME', 'CIP2', 'CIP2_NAME', 'SOC_2021_2', 'SOC_2021_2_NAME', 'SOC_2021_3', 'SOC_2021_3_NAME', 'SOC_2021_4', 'SOC_2021_4_NAME', 'SOC_2021_5', 'SOC_2021_5_NAME', 'LOT_CAREER_AREA', 'LOT_CAREER_AREA_NAME', 'LOT_OCCUPATION', 'LOT_OCCUPATION_NAME', 'LOT_SPECIALIZED_OCCUPATION', 'LOT_SPECIALIZED_OCCUPATION_NAME', 'LOT_OCCUPATION_GROUP', 'LOT_OCCUPATION_GROUP_NAME', 'LOT_V6_SPECIALIZED_OCCUPATION', 'LOT_V6_SPECIALIZED_OCCUPATION_NAME', 'LOT_V6_OCCUPATION', 'LOT_V6_OCCUPATION_NAME', 'LOT_V6_OCCUPATION_GROUP', 'LOT_V6_OCCUPATION_GROUP_NAME', 'LOT_V6_CAREER_AREA', 'LOT_V6_CAREER_AREA_NAME', 'SOC_2', 'SOC_2_NAME', 'SOC_3', 'SOC_3_NAME', 'SOC_4', 'SOC_4_NAME', 'SOC_5', 'SOC_5_NAME', 'LIGHTCAST_SECTORS', 'LIGHTCAST_SECTORS_NAME', 'NAICS_2022_2', 'NAICS_2022_2_NAME', 'NAICS_2022_3', 'NAICS_2022_3_NAME', 'NAICS_2022_4', 'NAICS_2022_4_NAME', 'NAICS_2022_5', 'NAICS_2022_5_NAME', 'NAICS_2022_6', 'NAICS_2022_6_NAME']\n"
     ]
    },
    {
     "data": {
      "text/html": [
       "<div><style>\n",
       ".dataframe > thead > tr,\n",
       ".dataframe > tbody > tr {\n",
       "  text-align: right;\n",
       "  white-space: pre-wrap;\n",
       "}\n",
       "</style>\n",
       "<small>shape: (3, 131)</small><table border=\"1\" class=\"dataframe\"><thead><tr><th>ID</th><th>LAST_UPDATED_DATE</th><th>LAST_UPDATED_TIMESTAMP</th><th>DUPLICATES</th><th>POSTED</th><th>EXPIRED</th><th>DURATION</th><th>SOURCE_TYPES</th><th>SOURCES</th><th>URL</th><th>ACTIVE_URLS</th><th>ACTIVE_SOURCES_INFO</th><th>TITLE_RAW</th><th>BODY</th><th>MODELED_EXPIRED</th><th>MODELED_DURATION</th><th>COMPANY</th><th>COMPANY_NAME</th><th>COMPANY_RAW</th><th>COMPANY_IS_STAFFING</th><th>EDUCATION_LEVELS</th><th>EDUCATION_LEVELS_NAME</th><th>MIN_EDULEVELS</th><th>MIN_EDULEVELS_NAME</th><th>MAX_EDULEVELS</th><th>MAX_EDULEVELS_NAME</th><th>EMPLOYMENT_TYPE</th><th>EMPLOYMENT_TYPE_NAME</th><th>MIN_YEARS_EXPERIENCE</th><th>MAX_YEARS_EXPERIENCE</th><th>IS_INTERNSHIP</th><th>SALARY</th><th>REMOTE_TYPE</th><th>REMOTE_TYPE_NAME</th><th>ORIGINAL_PAY_PERIOD</th><th>SALARY_TO</th><th>SALARY_FROM</th><th>&hellip;</th><th>SOC_2021_5_NAME</th><th>LOT_CAREER_AREA</th><th>LOT_CAREER_AREA_NAME</th><th>LOT_OCCUPATION</th><th>LOT_OCCUPATION_NAME</th><th>LOT_SPECIALIZED_OCCUPATION</th><th>LOT_SPECIALIZED_OCCUPATION_NAME</th><th>LOT_OCCUPATION_GROUP</th><th>LOT_OCCUPATION_GROUP_NAME</th><th>LOT_V6_SPECIALIZED_OCCUPATION</th><th>LOT_V6_SPECIALIZED_OCCUPATION_NAME</th><th>LOT_V6_OCCUPATION</th><th>LOT_V6_OCCUPATION_NAME</th><th>LOT_V6_OCCUPATION_GROUP</th><th>LOT_V6_OCCUPATION_GROUP_NAME</th><th>LOT_V6_CAREER_AREA</th><th>LOT_V6_CAREER_AREA_NAME</th><th>SOC_2</th><th>SOC_2_NAME</th><th>SOC_3</th><th>SOC_3_NAME</th><th>SOC_4</th><th>SOC_4_NAME</th><th>SOC_5</th><th>SOC_5_NAME</th><th>LIGHTCAST_SECTORS</th><th>LIGHTCAST_SECTORS_NAME</th><th>NAICS_2022_2</th><th>NAICS_2022_2_NAME</th><th>NAICS_2022_3</th><th>NAICS_2022_3_NAME</th><th>NAICS_2022_4</th><th>NAICS_2022_4_NAME</th><th>NAICS_2022_5</th><th>NAICS_2022_5_NAME</th><th>NAICS_2022_6</th><th>NAICS_2022_6_NAME</th></tr><tr><td>str</td><td>str</td><td>str</td><td>i64</td><td>str</td><td>str</td><td>i64</td><td>str</td><td>str</td><td>str</td><td>str</td><td>str</td><td>str</td><td>str</td><td>str</td><td>i64</td><td>i64</td><td>str</td><td>str</td><td>bool</td><td>str</td><td>str</td><td>i64</td><td>str</td><td>i64</td><td>str</td><td>i64</td><td>str</td><td>i64</td><td>i64</td><td>bool</td><td>i64</td><td>i64</td><td>str</td><td>str</td><td>i64</td><td>i64</td><td>&hellip;</td><td>str</td><td>i64</td><td>str</td><td>i64</td><td>str</td><td>i64</td><td>str</td><td>i64</td><td>str</td><td>i64</td><td>str</td><td>i64</td><td>str</td><td>i64</td><td>str</td><td>i64</td><td>str</td><td>str</td><td>str</td><td>str</td><td>str</td><td>str</td><td>str</td><td>str</td><td>str</td><td>str</td><td>str</td><td>i64</td><td>str</td><td>i64</td><td>str</td><td>i64</td><td>str</td><td>i64</td><td>str</td><td>i64</td><td>str</td></tr></thead><tbody><tr><td>&quot;1f57d95acf4dc67ed2819eb12f049f…</td><td>&quot;9/6/2024&quot;</td><td>&quot;2024-09-06 20:32:57.352 Z&quot;</td><td>0</td><td>&quot;6/2/2024&quot;</td><td>&quot;6/8/2024&quot;</td><td>6</td><td>&quot;[\n",
       "&nbsp;&nbsp;&quot;Company&quot;\n",
       "]&quot;</td><td>&quot;[\n",
       "&nbsp;&nbsp;&quot;brassring.com&quot;\n",
       "]&quot;</td><td>&quot;[\n",
       "&nbsp;&nbsp;&quot;https://sjobs.brassring.c…</td><td>&quot;[]&quot;</td><td>null</td><td>&quot;Enterprise Analyst (II-III)&quot;</td><td>&quot;31-May-2024\n",
       "\n",
       "Enterprise Analys…</td><td>&quot;6/8/2024&quot;</td><td>6</td><td>894731</td><td>&quot;Murphy USA&quot;</td><td>&quot;Murphy USA&quot;</td><td>false</td><td>&quot;[\n",
       "&nbsp;&nbsp;2\n",
       "]&quot;</td><td>&quot;[\n",
       "&nbsp;&nbsp;&quot;Bachelor&#x27;s degree&quot;\n",
       "]&quot;</td><td>2</td><td>&quot;Bachelor&#x27;s degree&quot;</td><td>null</td><td>null</td><td>1</td><td>&quot;Full-time (&gt; 32 hours)&quot;</td><td>2</td><td>2</td><td>false</td><td>null</td><td>0</td><td>&quot;[None]&quot;</td><td>null</td><td>null</td><td>null</td><td>&hellip;</td><td>&quot;Data Scientists&quot;</td><td>23</td><td>&quot;Information Technology and Com…</td><td>231010</td><td>&quot;Business Intelligence Analyst&quot;</td><td>23101011</td><td>&quot;General ERP Analyst / Consulta…</td><td>2310</td><td>&quot;Business Intelligence&quot;</td><td>23101011</td><td>&quot;General ERP Analyst / Consulta…</td><td>231010</td><td>&quot;Business Intelligence Analyst&quot;</td><td>2310</td><td>&quot;Business Intelligence&quot;</td><td>23</td><td>&quot;Information Technology and Com…</td><td>&quot;15-0000&quot;</td><td>&quot;Computer and Mathematical Occu…</td><td>&quot;15-2000&quot;</td><td>&quot;Mathematical Science Occupatio…</td><td>&quot;15-2050&quot;</td><td>&quot;Data Scientists&quot;</td><td>&quot;15-2051&quot;</td><td>&quot;Data Scientists&quot;</td><td>&quot;[\n",
       "&nbsp;&nbsp;7\n",
       "]&quot;</td><td>&quot;[\n",
       "&nbsp;&nbsp;&quot;Artificial Intelligence&quot;\n",
       "…</td><td>44</td><td>&quot;Retail Trade&quot;</td><td>441</td><td>&quot;Motor Vehicle and Parts Dealer…</td><td>4413</td><td>&quot;Automotive Parts, Accessories,…</td><td>44133</td><td>&quot;Automotive Parts and Accessori…</td><td>441330</td><td>&quot;Automotive Parts and Accessori…</td></tr><tr><td>&quot;0cb072af26757b6c4ea9464472a50a…</td><td>&quot;8/2/2024&quot;</td><td>&quot;2024-08-02 17:08:58.838 Z&quot;</td><td>0</td><td>&quot;6/2/2024&quot;</td><td>&quot;8/1/2024&quot;</td><td>null</td><td>&quot;[\n",
       "&nbsp;&nbsp;&quot;Job Board&quot;\n",
       "]&quot;</td><td>&quot;[\n",
       "&nbsp;&nbsp;&quot;maine.gov&quot;\n",
       "]&quot;</td><td>&quot;[\n",
       "&nbsp;&nbsp;&quot;https://joblink.maine.gov…</td><td>&quot;[]&quot;</td><td>null</td><td>&quot;Oracle Consultant - Reports (3…</td><td>&quot;Oracle Consultant - Reports (3…</td><td>&quot;8/1/2024&quot;</td><td>null</td><td>133098</td><td>&quot;Smx Corporation Limited&quot;</td><td>&quot;SMX&quot;</td><td>true</td><td>&quot;[\n",
       "&nbsp;&nbsp;99\n",
       "]&quot;</td><td>&quot;[\n",
       "&nbsp;&nbsp;&quot;No Education Listed&quot;\n",
       "]&quot;</td><td>99</td><td>&quot;No Education Listed&quot;</td><td>null</td><td>null</td><td>1</td><td>&quot;Full-time (&gt; 32 hours)&quot;</td><td>3</td><td>3</td><td>false</td><td>null</td><td>1</td><td>&quot;Remote&quot;</td><td>null</td><td>null</td><td>null</td><td>&hellip;</td><td>&quot;Data Scientists&quot;</td><td>23</td><td>&quot;Information Technology and Com…</td><td>231010</td><td>&quot;Business Intelligence Analyst&quot;</td><td>23101012</td><td>&quot;Oracle Consultant / Analyst&quot;</td><td>2310</td><td>&quot;Business Intelligence&quot;</td><td>23101012</td><td>&quot;Oracle Consultant / Analyst&quot;</td><td>231010</td><td>&quot;Business Intelligence Analyst&quot;</td><td>2310</td><td>&quot;Business Intelligence&quot;</td><td>23</td><td>&quot;Information Technology and Com…</td><td>&quot;15-0000&quot;</td><td>&quot;Computer and Mathematical Occu…</td><td>&quot;15-2000&quot;</td><td>&quot;Mathematical Science Occupatio…</td><td>&quot;15-2050&quot;</td><td>&quot;Data Scientists&quot;</td><td>&quot;15-2051&quot;</td><td>&quot;Data Scientists&quot;</td><td>null</td><td>null</td><td>56</td><td>&quot;Administrative and Support and…</td><td>561</td><td>&quot;Administrative and Support Ser…</td><td>5613</td><td>&quot;Employment Services&quot;</td><td>56132</td><td>&quot;Temporary Help Services&quot;</td><td>561320</td><td>&quot;Temporary Help Services&quot;</td></tr><tr><td>&quot;85318b12b3331fa490d32ad014379d…</td><td>&quot;9/6/2024&quot;</td><td>&quot;2024-09-06 20:32:57.352 Z&quot;</td><td>1</td><td>&quot;6/2/2024&quot;</td><td>&quot;7/7/2024&quot;</td><td>35</td><td>&quot;[\n",
       "&nbsp;&nbsp;&quot;Job Board&quot;\n",
       "]&quot;</td><td>&quot;[\n",
       "&nbsp;&nbsp;&quot;dejobs.org&quot;\n",
       "]&quot;</td><td>&quot;[\n",
       "&nbsp;&nbsp;&quot;https://dejobs.org/dallas…</td><td>&quot;[]&quot;</td><td>null</td><td>&quot;Data Analyst&quot;</td><td>&quot;Taking care of people is at th…</td><td>&quot;6/10/2024&quot;</td><td>8</td><td>39063746</td><td>&quot;Sedgwick&quot;</td><td>&quot;Sedgwick&quot;</td><td>false</td><td>&quot;[\n",
       "&nbsp;&nbsp;2\n",
       "]&quot;</td><td>&quot;[\n",
       "&nbsp;&nbsp;&quot;Bachelor&#x27;s degree&quot;\n",
       "]&quot;</td><td>2</td><td>&quot;Bachelor&#x27;s degree&quot;</td><td>null</td><td>null</td><td>1</td><td>&quot;Full-time (&gt; 32 hours)&quot;</td><td>5</td><td>null</td><td>false</td><td>null</td><td>0</td><td>&quot;[None]&quot;</td><td>null</td><td>null</td><td>null</td><td>&hellip;</td><td>&quot;Data Scientists&quot;</td><td>23</td><td>&quot;Information Technology and Com…</td><td>231113</td><td>&quot;Data / Data Mining Analyst&quot;</td><td>23111310</td><td>&quot;Data Analyst&quot;</td><td>2311</td><td>&quot;Data Analysis and Mathematics&quot;</td><td>23111310</td><td>&quot;Data Analyst&quot;</td><td>231113</td><td>&quot;Data / Data Mining Analyst&quot;</td><td>2311</td><td>&quot;Data Analysis and Mathematics&quot;</td><td>23</td><td>&quot;Information Technology and Com…</td><td>&quot;15-0000&quot;</td><td>&quot;Computer and Mathematical Occu…</td><td>&quot;15-2000&quot;</td><td>&quot;Mathematical Science Occupatio…</td><td>&quot;15-2050&quot;</td><td>&quot;Data Scientists&quot;</td><td>&quot;15-2051&quot;</td><td>&quot;Data Scientists&quot;</td><td>null</td><td>null</td><td>52</td><td>&quot;Finance and Insurance&quot;</td><td>524</td><td>&quot;Insurance Carriers and Related…</td><td>5242</td><td>&quot;Agencies, Brokerages, and Othe…</td><td>52429</td><td>&quot;Other Insurance Related Activi…</td><td>524291</td><td>&quot;Claims Adjusting&quot;</td></tr></tbody></table></div>"
      ],
      "text/plain": [
       "shape: (3, 131)\n",
       "┌───────────┬───────────┬───────────┬───────────┬───┬───────────┬───────────┬───────────┬──────────┐\n",
       "│ ID        ┆ LAST_UPDA ┆ LAST_UPDA ┆ DUPLICATE ┆ … ┆ NAICS_202 ┆ NAICS_202 ┆ NAICS_202 ┆ NAICS_20 │\n",
       "│ ---       ┆ TED_DATE  ┆ TED_TIMES ┆ S         ┆   ┆ 2_5       ┆ 2_5_NAME  ┆ 2_6       ┆ 22_6_NAM │\n",
       "│ str       ┆ ---       ┆ TAMP      ┆ ---       ┆   ┆ ---       ┆ ---       ┆ ---       ┆ E        │\n",
       "│           ┆ str       ┆ ---       ┆ i64       ┆   ┆ i64       ┆ str       ┆ i64       ┆ ---      │\n",
       "│           ┆           ┆ str       ┆           ┆   ┆           ┆           ┆           ┆ str      │\n",
       "╞═══════════╪═══════════╪═══════════╪═══════════╪═══╪═══════════╪═══════════╪═══════════╪══════════╡\n",
       "│ 1f57d95ac ┆ 9/6/2024  ┆ 2024-09-0 ┆ 0         ┆ … ┆ 44133     ┆ Automotiv ┆ 441330    ┆ Automoti │\n",
       "│ f4dc67ed2 ┆           ┆ 6 20:32:5 ┆           ┆   ┆           ┆ e Parts   ┆           ┆ ve Parts │\n",
       "│ 819eb12f0 ┆           ┆ 7.352 Z   ┆           ┆   ┆           ┆ and Acces ┆           ┆ and Acce │\n",
       "│ 49f…      ┆           ┆           ┆           ┆   ┆           ┆ sori…     ┆           ┆ ssori…   │\n",
       "│ 0cb072af2 ┆ 8/2/2024  ┆ 2024-08-0 ┆ 0         ┆ … ┆ 56132     ┆ Temporary ┆ 561320    ┆ Temporar │\n",
       "│ 6757b6c4e ┆           ┆ 2 17:08:5 ┆           ┆   ┆           ┆ Help      ┆           ┆ y Help   │\n",
       "│ a9464472a ┆           ┆ 8.838 Z   ┆           ┆   ┆           ┆ Services  ┆           ┆ Services │\n",
       "│ 50a…      ┆           ┆           ┆           ┆   ┆           ┆           ┆           ┆          │\n",
       "│ 85318b12b ┆ 9/6/2024  ┆ 2024-09-0 ┆ 1         ┆ … ┆ 52429     ┆ Other     ┆ 524291    ┆ Claims   │\n",
       "│ 3331fa490 ┆           ┆ 6 20:32:5 ┆           ┆   ┆           ┆ Insurance ┆           ┆ Adjustin │\n",
       "│ d32ad0143 ┆           ┆ 7.352 Z   ┆           ┆   ┆           ┆ Related   ┆           ┆ g        │\n",
       "│ 79d…      ┆           ┆           ┆           ┆   ┆           ┆ Activi…   ┆           ┆          │\n",
       "└───────────┴───────────┴───────────┴───────────┴───┴───────────┴───────────┴───────────┴──────────┘"
      ]
     },
     "execution_count": 3,
     "metadata": {},
     "output_type": "execute_result"
    }
   ],
   "source": [
    "print(Jobs.columns)\n",
    "Jobs.select(Jobs.columns).head(3)"
   ]
  },
  {
   "cell_type": "markdown",
   "id": "e3bfab6d-08a7-4187-ace8-f414a484d4ce",
   "metadata": {},
   "source": [
    "*__SQL connection__*"
   ]
  },
  {
   "cell_type": "code",
   "execution_count": 39,
   "id": "7f266622-2fab-4aa2-b867-5fc2e563530f",
   "metadata": {},
   "outputs": [],
   "source": [
    "con = duckdb.connect(database=':memory:')"
   ]
  },
  {
   "cell_type": "markdown",
   "id": "b01b00b9-6f1c-4ad0-9b0d-490ed24840cf",
   "metadata": {},
   "source": [
    "*__create dimensional table 1__*"
   ]
  },
  {
   "cell_type": "code",
   "execution_count": 40,
   "id": "0ab6f43b-aaad-4f91-9a8d-0d351ed0f3b7",
   "metadata": {},
   "outputs": [],
   "source": [
    "companies = Jobs.select([\n",
    "    \"COMPANY\", \n",
    "    \"COMPANY_NAME\", \n",
    "    \"COMPANY_RAW\", \n",
    "    \"COMPANY_IS_STAFFING\"\n",
    "]).unique().with_row_index(name=\"COMPANY_ID\")"
   ]
  },
  {
   "cell_type": "code",
   "execution_count": 41,
   "id": "47706898-8098-4399-a17f-6632cccb794d",
   "metadata": {},
   "outputs": [],
   "source": [
    "Jobs_db = Jobs.join(\n",
    "    companies, \n",
    "    on=[\"COMPANY\", \"COMPANY_NAME\", \"COMPANY_RAW\", \"COMPANY_IS_STAFFING\"], \n",
    "    how=\"left\"\n",
    ")"
   ]
  },
  {
   "cell_type": "code",
   "execution_count": 42,
   "id": "9bfa5a7d-e00f-44eb-aa22-5c1d8b7d76fb",
   "metadata": {},
   "outputs": [
    {
     "data": {
      "text/plain": [
       "<duckdb.duckdb.DuckDBPyConnection at 0x1b7d3a3f930>"
      ]
     },
     "execution_count": 42,
     "metadata": {},
     "output_type": "execute_result"
    }
   ],
   "source": [
    "con.register(\"Jobs_db\", Jobs_db.to_pandas())"
   ]
  },
  {
   "cell_type": "markdown",
   "id": "59fba0ed-bdd4-42b8-bc85-37a73b81bfdd",
   "metadata": {},
   "source": [
    "*__create dimensional table 2__*"
   ]
  },
  {
   "cell_type": "code",
   "execution_count": 43,
   "id": "01bb5769-9f08-40b8-bb93-5f3cfdeed2e7",
   "metadata": {},
   "outputs": [],
   "source": [
    "industries = Jobs.select([\n",
    "    \"NAICS_2022_6\",\n",
    "    \"NAICS_2022_6_NAME\",\n",
    "    \"SOC_5\",\n",
    "    \"SOC_5_NAME\",\n",
    "    \"LOT_SPECIALIZED_OCCUPATION_NAME\",\n",
    "    \"LOT_OCCUPATION_GROUP\"\n",
    "]).unique().with_row_index(name=\"INDUSTRY_ID\")"
   ]
  },
  {
   "cell_type": "code",
   "execution_count": 44,
   "id": "d58f4d6b-4b9b-4207-a35a-686bb2bdb6a0",
   "metadata": {},
   "outputs": [],
   "source": [
    "Jobs_db = Jobs_db.join(\n",
    "    industries, \n",
    "    on=[\n",
    "        \"NAICS_2022_6\",\n",
    "        \"NAICS_2022_6_NAME\",\n",
    "        \"SOC_5\",\n",
    "        \"SOC_5_NAME\",\n",
    "        \"LOT_SPECIALIZED_OCCUPATION_NAME\",\n",
    "        \"LOT_OCCUPATION_GROUP\"\n",
    "    ], \n",
    "    how=\"left\"\n",
    ")"
   ]
  },
  {
   "cell_type": "code",
   "execution_count": 45,
   "id": "6753ceac-22ee-43cc-82dc-c7361ae64204",
   "metadata": {},
   "outputs": [
    {
     "data": {
      "text/plain": [
       "<duckdb.duckdb.DuckDBPyConnection at 0x1b7d3a3f930>"
      ]
     },
     "execution_count": 45,
     "metadata": {},
     "output_type": "execute_result"
    }
   ],
   "source": [
    "con.register(\"industries\", industries.to_pandas())\n",
    "con.register(\"Jobs_db\", Jobs_db.to_pandas())"
   ]
  },
  {
   "cell_type": "markdown",
   "id": "9ec5cdeb-8577-4227-ab39-c97e9959a48d",
   "metadata": {},
   "source": [
    "*__create dimensional table 3__*"
   ]
  },
  {
   "cell_type": "code",
   "execution_count": 46,
   "id": "98b8d754-92ac-47c3-8ee8-a04483004fe6",
   "metadata": {},
   "outputs": [],
   "source": [
    "locations = Jobs.select([\n",
    "    \"LOCATION\",\n",
    "    \"CITY_NAME\",\n",
    "    \"STATE_NAME\",\n",
    "    \"COUNTY_NAME\",\n",
    "    \"MSA\",\n",
    "    \"MSA_NAME\"\n",
    "]).unique().with_row_index(name=\"LOCATION_ID\")"
   ]
  },
  {
   "cell_type": "code",
   "execution_count": 47,
   "id": "c05913dc-17ee-49f1-99f8-2795e928e52f",
   "metadata": {},
   "outputs": [],
   "source": [
    "Jobs_db = Jobs_db.join(\n",
    "    locations,\n",
    "    on=[\n",
    "        \"LOCATION\",\n",
    "        \"CITY_NAME\",\n",
    "        \"STATE_NAME\",\n",
    "        \"COUNTY_NAME\",\n",
    "        \"MSA\",\n",
    "        \"MSA_NAME\"\n",
    "    ],\n",
    "    how=\"left\"\n",
    ")"
   ]
  },
  {
   "cell_type": "code",
   "execution_count": 48,
   "id": "d6804ade-6270-42d9-bae9-d52817b3bff2",
   "metadata": {},
   "outputs": [
    {
     "data": {
      "text/plain": [
       "<duckdb.duckdb.DuckDBPyConnection at 0x1b7d3a3f930>"
      ]
     },
     "execution_count": 48,
     "metadata": {},
     "output_type": "execute_result"
    }
   ],
   "source": [
    "con.register(\"locations\", locations.to_pandas())\n",
    "con.register(\"Jobs_db\", Jobs_db.to_pandas())"
   ]
  },
  {
   "cell_type": "markdown",
   "id": "ca9b2c66-b65e-43b6-ae30-0b0d035936c1",
   "metadata": {},
   "source": [
    "*__create the primary fact table__*"
   ]
  },
  {
   "cell_type": "code",
   "execution_count": 49,
   "id": "60346a92-8d33-417f-a9ab-d8d758029ec8",
   "metadata": {},
   "outputs": [],
   "source": [
    "job_postings = Jobs_db.select([\n",
    "    \"ID\",\n",
    "    \"TITLE_CLEAN\",\n",
    "    \"COMPANY_ID\",\n",
    "    \"INDUSTRY_ID\",\n",
    "    \"EMPLOYMENT_TYPE_NAME\",\n",
    "    \"REMOTE_TYPE_NAME\",\n",
    "    \"BODY\",\n",
    "    \"MIN_YEARS_EXPERIENCE\",\n",
    "    \"MAX_YEARS_EXPERIENCE\",\n",
    "    \"SALARY\",\n",
    "    \"SALARY_FROM\",\n",
    "    \"SALARY_TO\",\n",
    "    \"LOCATION_ID\",\n",
    "    \"POSTED\",\n",
    "    \"EXPIRED\",\n",
    "    \"DURATION\"\n",
    "])"
   ]
  },
  {
   "cell_type": "code",
   "execution_count": 50,
   "id": "bf7437a0-40d1-490d-8c75-12ceee29b3af",
   "metadata": {},
   "outputs": [
    {
     "data": {
      "text/plain": [
       "<duckdb.duckdb.DuckDBPyConnection at 0x1b7d3a3f930>"
      ]
     },
     "execution_count": 50,
     "metadata": {},
     "output_type": "execute_result"
    }
   ],
   "source": [
    "con.register(\"job_postings\", job_postings.to_pandas())"
   ]
  },
  {
   "cell_type": "markdown",
   "id": "851fa94d-9d95-41bf-964f-34e0423ead0b",
   "metadata": {},
   "source": [
    "*__save tables__*"
   ]
  },
  {
   "cell_type": "code",
   "execution_count": 51,
   "id": "99c5a20e-cbd0-441c-8a84-d30caabeb28f",
   "metadata": {},
   "outputs": [],
   "source": [
    "os.makedirs(\"tables\", exist_ok=True)"
   ]
  },
  {
   "cell_type": "code",
   "execution_count": 52,
   "id": "210280e4-9a6e-4048-b2b6-6f76a7e646e5",
   "metadata": {},
   "outputs": [],
   "source": [
    "job_postings.write_csv(\"tables/job_postings.csv\")\n",
    "companies.write_csv(\"tables/companies.csv\")\n",
    "industries.write_csv(\"tables/industries.csv\")\n",
    "locations.write_csv(\"tables/locations.csv\")"
   ]
  },
  {
   "cell_type": "markdown",
   "id": "69a90191-9758-48ae-adca-aed7d76ace96",
   "metadata": {},
   "source": [
    "*__looking at NAICS_2022_6__*"
   ]
  },
  {
   "cell_type": "code",
   "execution_count": 53,
   "id": "483c87cf-f2c4-4720-b9b8-c8344131f36a",
   "metadata": {},
   "outputs": [
    {
     "data": {
      "text/html": [
       "<div>\n",
       "<style scoped>\n",
       "    .dataframe tbody tr th:only-of-type {\n",
       "        vertical-align: middle;\n",
       "    }\n",
       "\n",
       "    .dataframe tbody tr th {\n",
       "        vertical-align: top;\n",
       "    }\n",
       "\n",
       "    .dataframe thead th {\n",
       "        text-align: right;\n",
       "    }\n",
       "</style>\n",
       "<table border=\"1\" class=\"dataframe\">\n",
       "  <thead>\n",
       "    <tr style=\"text-align: right;\">\n",
       "      <th></th>\n",
       "      <th>LOT_SPECIALIZED_OCCUPATION_NAME</th>\n",
       "      <th>posting_count</th>\n",
       "    </tr>\n",
       "  </thead>\n",
       "  <tbody>\n",
       "    <tr>\n",
       "      <th>0</th>\n",
       "      <td>Data Analyst</td>\n",
       "      <td>430</td>\n",
       "    </tr>\n",
       "    <tr>\n",
       "      <th>1</th>\n",
       "      <td>Enterprise Architect</td>\n",
       "      <td>158</td>\n",
       "    </tr>\n",
       "    <tr>\n",
       "      <th>2</th>\n",
       "      <td>General ERP Analyst / Consultant</td>\n",
       "      <td>125</td>\n",
       "    </tr>\n",
       "    <tr>\n",
       "      <th>3</th>\n",
       "      <td>SAP Analyst / Admin</td>\n",
       "      <td>80</td>\n",
       "    </tr>\n",
       "    <tr>\n",
       "      <th>4</th>\n",
       "      <td>Oracle Consultant / Analyst</td>\n",
       "      <td>48</td>\n",
       "    </tr>\n",
       "    <tr>\n",
       "      <th>5</th>\n",
       "      <td>Business Intelligence Analyst</td>\n",
       "      <td>32</td>\n",
       "    </tr>\n",
       "    <tr>\n",
       "      <th>6</th>\n",
       "      <td>Business Analyst (General)</td>\n",
       "      <td>27</td>\n",
       "    </tr>\n",
       "    <tr>\n",
       "      <th>7</th>\n",
       "      <td>Data Quality Analyst</td>\n",
       "      <td>10</td>\n",
       "    </tr>\n",
       "    <tr>\n",
       "      <th>8</th>\n",
       "      <td>Financial Data Analyst</td>\n",
       "      <td>7</td>\n",
       "    </tr>\n",
       "    <tr>\n",
       "      <th>9</th>\n",
       "      <td>Marketing Analyst</td>\n",
       "      <td>5</td>\n",
       "    </tr>\n",
       "    <tr>\n",
       "      <th>10</th>\n",
       "      <td>Healthcare Analyst</td>\n",
       "      <td>1</td>\n",
       "    </tr>\n",
       "  </tbody>\n",
       "</table>\n",
       "</div>"
      ],
      "text/plain": [
       "     LOT_SPECIALIZED_OCCUPATION_NAME  posting_count\n",
       "0                       Data Analyst            430\n",
       "1               Enterprise Architect            158\n",
       "2   General ERP Analyst / Consultant            125\n",
       "3                SAP Analyst / Admin             80\n",
       "4        Oracle Consultant / Analyst             48\n",
       "5      Business Intelligence Analyst             32\n",
       "6         Business Analyst (General)             27\n",
       "7               Data Quality Analyst             10\n",
       "8             Financial Data Analyst              7\n",
       "9                  Marketing Analyst              5\n",
       "10                Healthcare Analyst              1"
      ]
     },
     "execution_count": 53,
     "metadata": {},
     "output_type": "execute_result"
    }
   ],
   "source": [
    "query_occupations = \"\"\"\n",
    "SELECT \n",
    "    LOT_SPECIALIZED_OCCUPATION_NAME,\n",
    "    COUNT(*) AS posting_count\n",
    "FROM job_postings j\n",
    "JOIN industries i ON j.INDUSTRY_ID = i.INDUSTRY_ID\n",
    "WHERE i.NAICS_2022_6 = '518210'\n",
    "GROUP BY LOT_SPECIALIZED_OCCUPATION_NAME\n",
    "ORDER BY posting_count DESC\n",
    "\"\"\"\n",
    "df_occupations = con.execute(query_occupations).df()\n",
    "df_occupations"
   ]
  },
  {
   "cell_type": "markdown",
   "id": "ca7b1441-96f9-49aa-a1d7-c08bff4be68f",
   "metadata": {},
   "source": [
    "*__query 1__*"
   ]
  },
  {
   "cell_type": "code",
   "execution_count": 54,
   "id": "bdfcc7d0-1fb4-4b74-87d5-cb6677e62f44",
   "metadata": {},
   "outputs": [],
   "source": [
    "query_01 = \"\"\"\n",
    "SELECT \n",
    "    i.NAICS_2022_6_NAME AS industry_name,\n",
    "    i.LOT_SPECIALIZED_OCCUPATION_NAME AS specialized_occupation,\n",
    "    median(j.SALARY) AS median_salary,\n",
    "    COUNT(*) AS posting_count\n",
    "FROM job_postings j\n",
    "JOIN industries i ON j.INDUSTRY_ID = i.INDUSTRY_ID\n",
    "WHERE i.NAICS_2022_6 = '518210'\n",
    "  AND j.SALARY IS NOT NULL\n",
    "  AND j.SALARY > 0\n",
    "GROUP BY industry_name, specialized_occupation\n",
    "ORDER BY median_salary DESC\n",
    "\"\"\"\n",
    "df_salary = con.execute(query_01).df()"
   ]
  },
  {
   "cell_type": "code",
   "execution_count": 55,
   "id": "5b750681-80d6-4675-8f92-0760f165f48d",
   "metadata": {},
   "outputs": [
    {
     "data": {
      "application/vnd.plotly.v1+json": {
       "config": {
        "plotlyServerURL": "https://plot.ly"
       },
       "data": [
        {
         "alignmentgroup": "True",
         "customdata": [
          [
           63
          ]
         ],
         "hovertemplate": "Specialized Occupation=%{y}<br>Median Salary (USD)=%{x}<br>Job Postings=%{customdata[0]}<extra></extra>",
         "legendgroup": "Enterprise Architect",
         "marker": {
          "color": "rgb(251,180,174)",
          "pattern": {
           "shape": ""
          }
         },
         "name": "Enterprise Architect",
         "offsetgroup": "Enterprise Architect",
         "orientation": "h",
         "showlegend": true,
         "textposition": "auto",
         "type": "bar",
         "x": [
          190000
         ],
         "xaxis": "x",
         "y": [
          "Enterprise Architect"
         ],
         "yaxis": "y"
        },
        {
         "alignmentgroup": "True",
         "customdata": [
          [
           1
          ]
         ],
         "hovertemplate": "Specialized Occupation=%{y}<br>Median Salary (USD)=%{x}<br>Job Postings=%{customdata[0]}<extra></extra>",
         "legendgroup": "Marketing Analyst",
         "marker": {
          "color": "rgb(179,205,227)",
          "pattern": {
           "shape": ""
          }
         },
         "name": "Marketing Analyst",
         "offsetgroup": "Marketing Analyst",
         "orientation": "h",
         "showlegend": true,
         "textposition": "auto",
         "type": "bar",
         "x": [
          179250
         ],
         "xaxis": "x",
         "y": [
          "Marketing Analyst"
         ],
         "yaxis": "y"
        },
        {
         "alignmentgroup": "True",
         "customdata": [
          [
           11
          ]
         ],
         "hovertemplate": "Specialized Occupation=%{y}<br>Median Salary (USD)=%{x}<br>Job Postings=%{customdata[0]}<extra></extra>",
         "legendgroup": "Oracle Consultant / Analyst",
         "marker": {
          "color": "rgb(204,235,197)",
          "pattern": {
           "shape": ""
          }
         },
         "name": "Oracle Consultant / Analyst",
         "offsetgroup": "Oracle Consultant / Analyst",
         "orientation": "h",
         "showlegend": true,
         "textposition": "auto",
         "type": "bar",
         "x": [
          143000
         ],
         "xaxis": "x",
         "y": [
          "Oracle Consultant / Analyst"
         ],
         "yaxis": "y"
        },
        {
         "alignmentgroup": "True",
         "customdata": [
          [
           22
          ]
         ],
         "hovertemplate": "Specialized Occupation=%{y}<br>Median Salary (USD)=%{x}<br>Job Postings=%{customdata[0]}<extra></extra>",
         "legendgroup": "General ERP Analyst / Consultant",
         "marker": {
          "color": "rgb(222,203,228)",
          "pattern": {
           "shape": ""
          }
         },
         "name": "General ERP Analyst / Consultant",
         "offsetgroup": "General ERP Analyst / Consultant",
         "orientation": "h",
         "showlegend": true,
         "textposition": "auto",
         "type": "bar",
         "x": [
          136874
         ],
         "xaxis": "x",
         "y": [
          "General ERP Analyst / Consultant"
         ],
         "yaxis": "y"
        },
        {
         "alignmentgroup": "True",
         "customdata": [
          [
           19
          ]
         ],
         "hovertemplate": "Specialized Occupation=%{y}<br>Median Salary (USD)=%{x}<br>Job Postings=%{customdata[0]}<extra></extra>",
         "legendgroup": "Business Intelligence Analyst",
         "marker": {
          "color": "rgb(254,217,166)",
          "pattern": {
           "shape": ""
          }
         },
         "name": "Business Intelligence Analyst",
         "offsetgroup": "Business Intelligence Analyst",
         "orientation": "h",
         "showlegend": true,
         "textposition": "auto",
         "type": "bar",
         "x": [
          123250
         ],
         "xaxis": "x",
         "y": [
          "Business Intelligence Analyst"
         ],
         "yaxis": "y"
        },
        {
         "alignmentgroup": "True",
         "customdata": [
          [
           137
          ]
         ],
         "hovertemplate": "Specialized Occupation=%{y}<br>Median Salary (USD)=%{x}<br>Job Postings=%{customdata[0]}<extra></extra>",
         "legendgroup": "Data Analyst",
         "marker": {
          "color": "rgb(255,255,204)",
          "pattern": {
           "shape": ""
          }
         },
         "name": "Data Analyst",
         "offsetgroup": "Data Analyst",
         "orientation": "h",
         "showlegend": true,
         "textposition": "auto",
         "type": "bar",
         "x": [
          110833
         ],
         "xaxis": "x",
         "y": [
          "Data Analyst"
         ],
         "yaxis": "y"
        },
        {
         "alignmentgroup": "True",
         "customdata": [
          [
           4
          ]
         ],
         "hovertemplate": "Specialized Occupation=%{y}<br>Median Salary (USD)=%{x}<br>Job Postings=%{customdata[0]}<extra></extra>",
         "legendgroup": "Data Quality Analyst",
         "marker": {
          "color": "rgb(229,216,189)",
          "pattern": {
           "shape": ""
          }
         },
         "name": "Data Quality Analyst",
         "offsetgroup": "Data Quality Analyst",
         "orientation": "h",
         "showlegend": true,
         "textposition": "auto",
         "type": "bar",
         "x": [
          108000
         ],
         "xaxis": "x",
         "y": [
          "Data Quality Analyst"
         ],
         "yaxis": "y"
        },
        {
         "alignmentgroup": "True",
         "customdata": [
          [
           10
          ]
         ],
         "hovertemplate": "Specialized Occupation=%{y}<br>Median Salary (USD)=%{x}<br>Job Postings=%{customdata[0]}<extra></extra>",
         "legendgroup": "SAP Analyst / Admin",
         "marker": {
          "color": "rgb(253,218,236)",
          "pattern": {
           "shape": ""
          }
         },
         "name": "SAP Analyst / Admin",
         "offsetgroup": "SAP Analyst / Admin",
         "orientation": "h",
         "showlegend": true,
         "textposition": "auto",
         "type": "bar",
         "x": [
          88917
         ],
         "xaxis": "x",
         "y": [
          "SAP Analyst / Admin"
         ],
         "yaxis": "y"
        },
        {
         "alignmentgroup": "True",
         "customdata": [
          [
           12
          ]
         ],
         "hovertemplate": "Specialized Occupation=%{y}<br>Median Salary (USD)=%{x}<br>Job Postings=%{customdata[0]}<extra></extra>",
         "legendgroup": "Business Analyst (General)",
         "marker": {
          "color": "rgb(242,242,242)",
          "pattern": {
           "shape": ""
          }
         },
         "name": "Business Analyst (General)",
         "offsetgroup": "Business Analyst (General)",
         "orientation": "h",
         "showlegend": true,
         "textposition": "auto",
         "type": "bar",
         "x": [
          87169.5
         ],
         "xaxis": "x",
         "y": [
          "Business Analyst (General)"
         ],
         "yaxis": "y"
        },
        {
         "alignmentgroup": "True",
         "customdata": [
          [
           5
          ]
         ],
         "hovertemplate": "Specialized Occupation=%{y}<br>Median Salary (USD)=%{x}<br>Job Postings=%{customdata[0]}<extra></extra>",
         "legendgroup": "Financial Data Analyst",
         "marker": {
          "color": "rgb(251,180,174)",
          "pattern": {
           "shape": ""
          }
         },
         "name": "Financial Data Analyst",
         "offsetgroup": "Financial Data Analyst",
         "orientation": "h",
         "showlegend": true,
         "textposition": "auto",
         "type": "bar",
         "x": [
          29295
         ],
         "xaxis": "x",
         "y": [
          "Financial Data Analyst"
         ],
         "yaxis": "y"
        }
       ],
       "layout": {
        "autosize": true,
        "barmode": "relative",
        "legend": {
         "title": {
          "text": "Specialized Occupation"
         },
         "tracegroupgap": 0
        },
        "margin": {
         "b": 60,
         "l": 160,
         "r": 40,
         "t": 80
        },
        "paper_bgcolor": "#F9F9F9",
        "plot_bgcolor": "#FFFFFF",
        "showlegend": false,
        "template": {
         "data": {
          "bar": [
           {
            "error_x": {
             "color": "#2a3f5f"
            },
            "error_y": {
             "color": "#2a3f5f"
            },
            "marker": {
             "line": {
              "color": "#E5ECF6",
              "width": 0.5
             },
             "pattern": {
              "fillmode": "overlay",
              "size": 10,
              "solidity": 0.2
             }
            },
            "type": "bar"
           }
          ],
          "barpolar": [
           {
            "marker": {
             "line": {
              "color": "#E5ECF6",
              "width": 0.5
             },
             "pattern": {
              "fillmode": "overlay",
              "size": 10,
              "solidity": 0.2
             }
            },
            "type": "barpolar"
           }
          ],
          "carpet": [
           {
            "aaxis": {
             "endlinecolor": "#2a3f5f",
             "gridcolor": "white",
             "linecolor": "white",
             "minorgridcolor": "white",
             "startlinecolor": "#2a3f5f"
            },
            "baxis": {
             "endlinecolor": "#2a3f5f",
             "gridcolor": "white",
             "linecolor": "white",
             "minorgridcolor": "white",
             "startlinecolor": "#2a3f5f"
            },
            "type": "carpet"
           }
          ],
          "choropleth": [
           {
            "colorbar": {
             "outlinewidth": 0,
             "ticks": ""
            },
            "type": "choropleth"
           }
          ],
          "contour": [
           {
            "colorbar": {
             "outlinewidth": 0,
             "ticks": ""
            },
            "colorscale": [
             [
              0,
              "#0d0887"
             ],
             [
              0.1111111111111111,
              "#46039f"
             ],
             [
              0.2222222222222222,
              "#7201a8"
             ],
             [
              0.3333333333333333,
              "#9c179e"
             ],
             [
              0.4444444444444444,
              "#bd3786"
             ],
             [
              0.5555555555555556,
              "#d8576b"
             ],
             [
              0.6666666666666666,
              "#ed7953"
             ],
             [
              0.7777777777777778,
              "#fb9f3a"
             ],
             [
              0.8888888888888888,
              "#fdca26"
             ],
             [
              1,
              "#f0f921"
             ]
            ],
            "type": "contour"
           }
          ],
          "contourcarpet": [
           {
            "colorbar": {
             "outlinewidth": 0,
             "ticks": ""
            },
            "type": "contourcarpet"
           }
          ],
          "heatmap": [
           {
            "colorbar": {
             "outlinewidth": 0,
             "ticks": ""
            },
            "colorscale": [
             [
              0,
              "#0d0887"
             ],
             [
              0.1111111111111111,
              "#46039f"
             ],
             [
              0.2222222222222222,
              "#7201a8"
             ],
             [
              0.3333333333333333,
              "#9c179e"
             ],
             [
              0.4444444444444444,
              "#bd3786"
             ],
             [
              0.5555555555555556,
              "#d8576b"
             ],
             [
              0.6666666666666666,
              "#ed7953"
             ],
             [
              0.7777777777777778,
              "#fb9f3a"
             ],
             [
              0.8888888888888888,
              "#fdca26"
             ],
             [
              1,
              "#f0f921"
             ]
            ],
            "type": "heatmap"
           }
          ],
          "heatmapgl": [
           {
            "colorbar": {
             "outlinewidth": 0,
             "ticks": ""
            },
            "colorscale": [
             [
              0,
              "#0d0887"
             ],
             [
              0.1111111111111111,
              "#46039f"
             ],
             [
              0.2222222222222222,
              "#7201a8"
             ],
             [
              0.3333333333333333,
              "#9c179e"
             ],
             [
              0.4444444444444444,
              "#bd3786"
             ],
             [
              0.5555555555555556,
              "#d8576b"
             ],
             [
              0.6666666666666666,
              "#ed7953"
             ],
             [
              0.7777777777777778,
              "#fb9f3a"
             ],
             [
              0.8888888888888888,
              "#fdca26"
             ],
             [
              1,
              "#f0f921"
             ]
            ],
            "type": "heatmapgl"
           }
          ],
          "histogram": [
           {
            "marker": {
             "pattern": {
              "fillmode": "overlay",
              "size": 10,
              "solidity": 0.2
             }
            },
            "type": "histogram"
           }
          ],
          "histogram2d": [
           {
            "colorbar": {
             "outlinewidth": 0,
             "ticks": ""
            },
            "colorscale": [
             [
              0,
              "#0d0887"
             ],
             [
              0.1111111111111111,
              "#46039f"
             ],
             [
              0.2222222222222222,
              "#7201a8"
             ],
             [
              0.3333333333333333,
              "#9c179e"
             ],
             [
              0.4444444444444444,
              "#bd3786"
             ],
             [
              0.5555555555555556,
              "#d8576b"
             ],
             [
              0.6666666666666666,
              "#ed7953"
             ],
             [
              0.7777777777777778,
              "#fb9f3a"
             ],
             [
              0.8888888888888888,
              "#fdca26"
             ],
             [
              1,
              "#f0f921"
             ]
            ],
            "type": "histogram2d"
           }
          ],
          "histogram2dcontour": [
           {
            "colorbar": {
             "outlinewidth": 0,
             "ticks": ""
            },
            "colorscale": [
             [
              0,
              "#0d0887"
             ],
             [
              0.1111111111111111,
              "#46039f"
             ],
             [
              0.2222222222222222,
              "#7201a8"
             ],
             [
              0.3333333333333333,
              "#9c179e"
             ],
             [
              0.4444444444444444,
              "#bd3786"
             ],
             [
              0.5555555555555556,
              "#d8576b"
             ],
             [
              0.6666666666666666,
              "#ed7953"
             ],
             [
              0.7777777777777778,
              "#fb9f3a"
             ],
             [
              0.8888888888888888,
              "#fdca26"
             ],
             [
              1,
              "#f0f921"
             ]
            ],
            "type": "histogram2dcontour"
           }
          ],
          "mesh3d": [
           {
            "colorbar": {
             "outlinewidth": 0,
             "ticks": ""
            },
            "type": "mesh3d"
           }
          ],
          "parcoords": [
           {
            "line": {
             "colorbar": {
              "outlinewidth": 0,
              "ticks": ""
             }
            },
            "type": "parcoords"
           }
          ],
          "pie": [
           {
            "automargin": true,
            "type": "pie"
           }
          ],
          "scatter": [
           {
            "fillpattern": {
             "fillmode": "overlay",
             "size": 10,
             "solidity": 0.2
            },
            "type": "scatter"
           }
          ],
          "scatter3d": [
           {
            "line": {
             "colorbar": {
              "outlinewidth": 0,
              "ticks": ""
             }
            },
            "marker": {
             "colorbar": {
              "outlinewidth": 0,
              "ticks": ""
             }
            },
            "type": "scatter3d"
           }
          ],
          "scattercarpet": [
           {
            "marker": {
             "colorbar": {
              "outlinewidth": 0,
              "ticks": ""
             }
            },
            "type": "scattercarpet"
           }
          ],
          "scattergeo": [
           {
            "marker": {
             "colorbar": {
              "outlinewidth": 0,
              "ticks": ""
             }
            },
            "type": "scattergeo"
           }
          ],
          "scattergl": [
           {
            "marker": {
             "colorbar": {
              "outlinewidth": 0,
              "ticks": ""
             }
            },
            "type": "scattergl"
           }
          ],
          "scattermapbox": [
           {
            "marker": {
             "colorbar": {
              "outlinewidth": 0,
              "ticks": ""
             }
            },
            "type": "scattermapbox"
           }
          ],
          "scatterpolar": [
           {
            "marker": {
             "colorbar": {
              "outlinewidth": 0,
              "ticks": ""
             }
            },
            "type": "scatterpolar"
           }
          ],
          "scatterpolargl": [
           {
            "marker": {
             "colorbar": {
              "outlinewidth": 0,
              "ticks": ""
             }
            },
            "type": "scatterpolargl"
           }
          ],
          "scatterternary": [
           {
            "marker": {
             "colorbar": {
              "outlinewidth": 0,
              "ticks": ""
             }
            },
            "type": "scatterternary"
           }
          ],
          "surface": [
           {
            "colorbar": {
             "outlinewidth": 0,
             "ticks": ""
            },
            "colorscale": [
             [
              0,
              "#0d0887"
             ],
             [
              0.1111111111111111,
              "#46039f"
             ],
             [
              0.2222222222222222,
              "#7201a8"
             ],
             [
              0.3333333333333333,
              "#9c179e"
             ],
             [
              0.4444444444444444,
              "#bd3786"
             ],
             [
              0.5555555555555556,
              "#d8576b"
             ],
             [
              0.6666666666666666,
              "#ed7953"
             ],
             [
              0.7777777777777778,
              "#fb9f3a"
             ],
             [
              0.8888888888888888,
              "#fdca26"
             ],
             [
              1,
              "#f0f921"
             ]
            ],
            "type": "surface"
           }
          ],
          "table": [
           {
            "cells": {
             "fill": {
              "color": "#EBF0F8"
             },
             "line": {
              "color": "white"
             }
            },
            "header": {
             "fill": {
              "color": "#C8D4E3"
             },
             "line": {
              "color": "white"
             }
            },
            "type": "table"
           }
          ]
         },
         "layout": {
          "annotationdefaults": {
           "arrowcolor": "#2a3f5f",
           "arrowhead": 0,
           "arrowwidth": 1
          },
          "autotypenumbers": "strict",
          "coloraxis": {
           "colorbar": {
            "outlinewidth": 0,
            "ticks": ""
           }
          },
          "colorscale": {
           "diverging": [
            [
             0,
             "#8e0152"
            ],
            [
             0.1,
             "#c51b7d"
            ],
            [
             0.2,
             "#de77ae"
            ],
            [
             0.3,
             "#f1b6da"
            ],
            [
             0.4,
             "#fde0ef"
            ],
            [
             0.5,
             "#f7f7f7"
            ],
            [
             0.6,
             "#e6f5d0"
            ],
            [
             0.7,
             "#b8e186"
            ],
            [
             0.8,
             "#7fbc41"
            ],
            [
             0.9,
             "#4d9221"
            ],
            [
             1,
             "#276419"
            ]
           ],
           "sequential": [
            [
             0,
             "#0d0887"
            ],
            [
             0.1111111111111111,
             "#46039f"
            ],
            [
             0.2222222222222222,
             "#7201a8"
            ],
            [
             0.3333333333333333,
             "#9c179e"
            ],
            [
             0.4444444444444444,
             "#bd3786"
            ],
            [
             0.5555555555555556,
             "#d8576b"
            ],
            [
             0.6666666666666666,
             "#ed7953"
            ],
            [
             0.7777777777777778,
             "#fb9f3a"
            ],
            [
             0.8888888888888888,
             "#fdca26"
            ],
            [
             1,
             "#f0f921"
            ]
           ],
           "sequentialminus": [
            [
             0,
             "#0d0887"
            ],
            [
             0.1111111111111111,
             "#46039f"
            ],
            [
             0.2222222222222222,
             "#7201a8"
            ],
            [
             0.3333333333333333,
             "#9c179e"
            ],
            [
             0.4444444444444444,
             "#bd3786"
            ],
            [
             0.5555555555555556,
             "#d8576b"
            ],
            [
             0.6666666666666666,
             "#ed7953"
            ],
            [
             0.7777777777777778,
             "#fb9f3a"
            ],
            [
             0.8888888888888888,
             "#fdca26"
            ],
            [
             1,
             "#f0f921"
            ]
           ]
          },
          "colorway": [
           "#636efa",
           "#EF553B",
           "#00cc96",
           "#ab63fa",
           "#FFA15A",
           "#19d3f3",
           "#FF6692",
           "#B6E880",
           "#FF97FF",
           "#FECB52"
          ],
          "font": {
           "color": "#2a3f5f"
          },
          "geo": {
           "bgcolor": "white",
           "lakecolor": "white",
           "landcolor": "#E5ECF6",
           "showlakes": true,
           "showland": true,
           "subunitcolor": "white"
          },
          "hoverlabel": {
           "align": "left"
          },
          "hovermode": "closest",
          "mapbox": {
           "style": "light"
          },
          "paper_bgcolor": "white",
          "plot_bgcolor": "#E5ECF6",
          "polar": {
           "angularaxis": {
            "gridcolor": "white",
            "linecolor": "white",
            "ticks": ""
           },
           "bgcolor": "#E5ECF6",
           "radialaxis": {
            "gridcolor": "white",
            "linecolor": "white",
            "ticks": ""
           }
          },
          "scene": {
           "xaxis": {
            "backgroundcolor": "#E5ECF6",
            "gridcolor": "white",
            "gridwidth": 2,
            "linecolor": "white",
            "showbackground": true,
            "ticks": "",
            "zerolinecolor": "white"
           },
           "yaxis": {
            "backgroundcolor": "#E5ECF6",
            "gridcolor": "white",
            "gridwidth": 2,
            "linecolor": "white",
            "showbackground": true,
            "ticks": "",
            "zerolinecolor": "white"
           },
           "zaxis": {
            "backgroundcolor": "#E5ECF6",
            "gridcolor": "white",
            "gridwidth": 2,
            "linecolor": "white",
            "showbackground": true,
            "ticks": "",
            "zerolinecolor": "white"
           }
          },
          "shapedefaults": {
           "line": {
            "color": "#2a3f5f"
           }
          },
          "ternary": {
           "aaxis": {
            "gridcolor": "white",
            "linecolor": "white",
            "ticks": ""
           },
           "baxis": {
            "gridcolor": "white",
            "linecolor": "white",
            "ticks": ""
           },
           "bgcolor": "#E5ECF6",
           "caxis": {
            "gridcolor": "white",
            "linecolor": "white",
            "ticks": ""
           }
          },
          "title": {
           "x": 0.05
          },
          "xaxis": {
           "automargin": true,
           "gridcolor": "white",
           "linecolor": "white",
           "ticks": "",
           "title": {
            "standoff": 15
           },
           "zerolinecolor": "white",
           "zerolinewidth": 2
          },
          "yaxis": {
           "automargin": true,
           "gridcolor": "white",
           "linecolor": "white",
           "ticks": "",
           "title": {
            "standoff": 15
           },
           "zerolinecolor": "white",
           "zerolinewidth": 2
          }
         }
        },
        "title": {
         "text": "POSTED Median Salaries by Specialized Occupation (NAICS_2022_6 = 518210) in the Technology Industry"
        },
        "xaxis": {
         "anchor": "y",
         "autorange": true,
         "domain": [
          0,
          1
         ],
         "range": [
          0,
          200000
         ],
         "title": {
          "text": "Median Salary (USD)"
         },
         "type": "linear"
        },
        "yaxis": {
         "anchor": "x",
         "autorange": true,
         "categoryarray": [
          "Financial Data Analyst",
          "Business Analyst (General)",
          "SAP Analyst / Admin",
          "Data Quality Analyst",
          "Data Analyst",
          "Business Intelligence Analyst",
          "General ERP Analyst / Consultant",
          "Oracle Consultant / Analyst",
          "Marketing Analyst",
          "Enterprise Architect"
         ],
         "categoryorder": "array",
         "domain": [
          0,
          1
         ],
         "range": [
          -0.5,
          9.5
         ],
         "title": {
          "text": "Specialized Occupation"
         },
         "type": "category"
        }
       }
      },
      "image/png": "[encoded data removed]",
      "text/html": [
       "<div>                            <div id=\"e7eb6b87-7f62-43eb-9970-477aec199815\" class=\"plotly-graph-div\" style=\"height:500px; width:100%;\"></div>            <script type=\"text/javascript\">                require([\"plotly\"], function(Plotly) {                    window.PLOTLYENV=window.PLOTLYENV || {};                                    if (document.getElementById(\"e7eb6b87-7f62-43eb-9970-477aec199815\")) {                    Plotly.newPlot(                        \"e7eb6b87-7f62-43eb-9970-477aec199815\",                        [{\"alignmentgroup\":\"True\",\"customdata\":[[63]],\"hovertemplate\":\"Specialized Occupation=%{y}\\u003cbr\\u003eMedian Salary (USD)=%{x}\\u003cbr\\u003eJob Postings=%{customdata[0]}\\u003cextra\\u003e\\u003c\\u002fextra\\u003e\",\"legendgroup\":\"Enterprise Architect\",\"marker\":{\"color\":\"rgb(251,180,174)\",\"pattern\":{\"shape\":\"\"}},\"name\":\"Enterprise Architect\",\"offsetgroup\":\"Enterprise Architect\",\"orientation\":\"h\",\"showlegend\":true,\"textposition\":\"auto\",\"x\":[190000.0],\"xaxis\":\"x\",\"y\":[\"Enterprise Architect\"],\"yaxis\":\"y\",\"type\":\"bar\"},{\"alignmentgroup\":\"True\",\"customdata\":[[1]],\"hovertemplate\":\"Specialized Occupation=%{y}\\u003cbr\\u003eMedian Salary (USD)=%{x}\\u003cbr\\u003eJob Postings=%{customdata[0]}\\u003cextra\\u003e\\u003c\\u002fextra\\u003e\",\"legendgroup\":\"Marketing Analyst\",\"marker\":{\"color\":\"rgb(179,205,227)\",\"pattern\":{\"shape\":\"\"}},\"name\":\"Marketing Analyst\",\"offsetgroup\":\"Marketing Analyst\",\"orientation\":\"h\",\"showlegend\":true,\"textposition\":\"auto\",\"x\":[179250.0],\"xaxis\":\"x\",\"y\":[\"Marketing Analyst\"],\"yaxis\":\"y\",\"type\":\"bar\"},{\"alignmentgroup\":\"True\",\"customdata\":[[11]],\"hovertemplate\":\"Specialized Occupation=%{y}\\u003cbr\\u003eMedian Salary (USD)=%{x}\\u003cbr\\u003eJob Postings=%{customdata[0]}\\u003cextra\\u003e\\u003c\\u002fextra\\u003e\",\"legendgroup\":\"Oracle Consultant \\u002f Analyst\",\"marker\":{\"color\":\"rgb(204,235,197)\",\"pattern\":{\"shape\":\"\"}},\"name\":\"Oracle Consultant \\u002f Analyst\",\"offsetgroup\":\"Oracle Consultant \\u002f Analyst\",\"orientation\":\"h\",\"showlegend\":true,\"textposition\":\"auto\",\"x\":[143000.0],\"xaxis\":\"x\",\"y\":[\"Oracle Consultant \\u002f Analyst\"],\"yaxis\":\"y\",\"type\":\"bar\"},{\"alignmentgroup\":\"True\",\"customdata\":[[22]],\"hovertemplate\":\"Specialized Occupation=%{y}\\u003cbr\\u003eMedian Salary (USD)=%{x}\\u003cbr\\u003eJob Postings=%{customdata[0]}\\u003cextra\\u003e\\u003c\\u002fextra\\u003e\",\"legendgroup\":\"General ERP Analyst \\u002f Consultant\",\"marker\":{\"color\":\"rgb(222,203,228)\",\"pattern\":{\"shape\":\"\"}},\"name\":\"General ERP Analyst \\u002f Consultant\",\"offsetgroup\":\"General ERP Analyst \\u002f Consultant\",\"orientation\":\"h\",\"showlegend\":true,\"textposition\":\"auto\",\"x\":[136874.0],\"xaxis\":\"x\",\"y\":[\"General ERP Analyst \\u002f Consultant\"],\"yaxis\":\"y\",\"type\":\"bar\"},{\"alignmentgroup\":\"True\",\"customdata\":[[19]],\"hovertemplate\":\"Specialized Occupation=%{y}\\u003cbr\\u003eMedian Salary (USD)=%{x}\\u003cbr\\u003eJob Postings=%{customdata[0]}\\u003cextra\\u003e\\u003c\\u002fextra\\u003e\",\"legendgroup\":\"Business Intelligence Analyst\",\"marker\":{\"color\":\"rgb(254,217,166)\",\"pattern\":{\"shape\":\"\"}},\"name\":\"Business Intelligence Analyst\",\"offsetgroup\":\"Business Intelligence Analyst\",\"orientation\":\"h\",\"showlegend\":true,\"textposition\":\"auto\",\"x\":[123250.0],\"xaxis\":\"x\",\"y\":[\"Business Intelligence Analyst\"],\"yaxis\":\"y\",\"type\":\"bar\"},{\"alignmentgroup\":\"True\",\"customdata\":[[137]],\"hovertemplate\":\"Specialized Occupation=%{y}\\u003cbr\\u003eMedian Salary (USD)=%{x}\\u003cbr\\u003eJob Postings=%{customdata[0]}\\u003cextra\\u003e\\u003c\\u002fextra\\u003e\",\"legendgroup\":\"Data Analyst\",\"marker\":{\"color\":\"rgb(255,255,204)\",\"pattern\":{\"shape\":\"\"}},\"name\":\"Data Analyst\",\"offsetgroup\":\"Data Analyst\",\"orientation\":\"h\",\"showlegend\":true,\"textposition\":\"auto\",\"x\":[110833.0],\"xaxis\":\"x\",\"y\":[\"Data Analyst\"],\"yaxis\":\"y\",\"type\":\"bar\"},{\"alignmentgroup\":\"True\",\"customdata\":[[4]],\"hovertemplate\":\"Specialized Occupation=%{y}\\u003cbr\\u003eMedian Salary (USD)=%{x}\\u003cbr\\u003eJob Postings=%{customdata[0]}\\u003cextra\\u003e\\u003c\\u002fextra\\u003e\",\"legendgroup\":\"Data Quality Analyst\",\"marker\":{\"color\":\"rgb(229,216,189)\",\"pattern\":{\"shape\":\"\"}},\"name\":\"Data Quality Analyst\",\"offsetgroup\":\"Data Quality Analyst\",\"orientation\":\"h\",\"showlegend\":true,\"textposition\":\"auto\",\"x\":[108000.0],\"xaxis\":\"x\",\"y\":[\"Data Quality Analyst\"],\"yaxis\":\"y\",\"type\":\"bar\"},{\"alignmentgroup\":\"True\",\"customdata\":[[10]],\"hovertemplate\":\"Specialized Occupation=%{y}\\u003cbr\\u003eMedian Salary (USD)=%{x}\\u003cbr\\u003eJob Postings=%{customdata[0]}\\u003cextra\\u003e\\u003c\\u002fextra\\u003e\",\"legendgroup\":\"SAP Analyst \\u002f Admin\",\"marker\":{\"color\":\"rgb(253,218,236)\",\"pattern\":{\"shape\":\"\"}},\"name\":\"SAP Analyst \\u002f Admin\",\"offsetgroup\":\"SAP Analyst \\u002f Admin\",\"orientation\":\"h\",\"showlegend\":true,\"textposition\":\"auto\",\"x\":[88917.0],\"xaxis\":\"x\",\"y\":[\"SAP Analyst \\u002f Admin\"],\"yaxis\":\"y\",\"type\":\"bar\"},{\"alignmentgroup\":\"True\",\"customdata\":[[12]],\"hovertemplate\":\"Specialized Occupation=%{y}\\u003cbr\\u003eMedian Salary (USD)=%{x}\\u003cbr\\u003eJob Postings=%{customdata[0]}\\u003cextra\\u003e\\u003c\\u002fextra\\u003e\",\"legendgroup\":\"Business Analyst (General)\",\"marker\":{\"color\":\"rgb(242,242,242)\",\"pattern\":{\"shape\":\"\"}},\"name\":\"Business Analyst (General)\",\"offsetgroup\":\"Business Analyst (General)\",\"orientation\":\"h\",\"showlegend\":true,\"textposition\":\"auto\",\"x\":[87169.5],\"xaxis\":\"x\",\"y\":[\"Business Analyst (General)\"],\"yaxis\":\"y\",\"type\":\"bar\"},{\"alignmentgroup\":\"True\",\"customdata\":[[5]],\"hovertemplate\":\"Specialized Occupation=%{y}\\u003cbr\\u003eMedian Salary (USD)=%{x}\\u003cbr\\u003eJob Postings=%{customdata[0]}\\u003cextra\\u003e\\u003c\\u002fextra\\u003e\",\"legendgroup\":\"Financial Data Analyst\",\"marker\":{\"color\":\"rgb(251,180,174)\",\"pattern\":{\"shape\":\"\"}},\"name\":\"Financial Data Analyst\",\"offsetgroup\":\"Financial Data Analyst\",\"orientation\":\"h\",\"showlegend\":true,\"textposition\":\"auto\",\"x\":[29295.0],\"xaxis\":\"x\",\"y\":[\"Financial Data Analyst\"],\"yaxis\":\"y\",\"type\":\"bar\"}],                        {\"template\":{\"data\":{\"histogram2dcontour\":[{\"type\":\"histogram2dcontour\",\"colorbar\":{\"outlinewidth\":0,\"ticks\":\"\"},\"colorscale\":[[0.0,\"#0d0887\"],[0.1111111111111111,\"#46039f\"],[0.2222222222222222,\"#7201a8\"],[0.3333333333333333,\"#9c179e\"],[0.4444444444444444,\"#bd3786\"],[0.5555555555555556,\"#d8576b\"],[0.6666666666666666,\"#ed7953\"],[0.7777777777777778,\"#fb9f3a\"],[0.8888888888888888,\"#fdca26\"],[1.0,\"#f0f921\"]]}],\"choropleth\":[{\"type\":\"choropleth\",\"colorbar\":{\"outlinewidth\":0,\"ticks\":\"\"}}],\"histogram2d\":[{\"type\":\"histogram2d\",\"colorbar\":{\"outlinewidth\":0,\"ticks\":\"\"},\"colorscale\":[[0.0,\"#0d0887\"],[0.1111111111111111,\"#46039f\"],[0.2222222222222222,\"#7201a8\"],[0.3333333333333333,\"#9c179e\"],[0.4444444444444444,\"#bd3786\"],[0.5555555555555556,\"#d8576b\"],[0.6666666666666666,\"#ed7953\"],[0.7777777777777778,\"#fb9f3a\"],[0.8888888888888888,\"#fdca26\"],[1.0,\"#f0f921\"]]}],\"heatmap\":[{\"type\":\"heatmap\",\"colorbar\":{\"outlinewidth\":0,\"ticks\":\"\"},\"colorscale\":[[0.0,\"#0d0887\"],[0.1111111111111111,\"#46039f\"],[0.2222222222222222,\"#7201a8\"],[0.3333333333333333,\"#9c179e\"],[0.4444444444444444,\"#bd3786\"],[0.5555555555555556,\"#d8576b\"],[0.6666666666666666,\"#ed7953\"],[0.7777777777777778,\"#fb9f3a\"],[0.8888888888888888,\"#fdca26\"],[1.0,\"#f0f921\"]]}],\"heatmapgl\":[{\"type\":\"heatmapgl\",\"colorbar\":{\"outlinewidth\":0,\"ticks\":\"\"},\"colorscale\":[[0.0,\"#0d0887\"],[0.1111111111111111,\"#46039f\"],[0.2222222222222222,\"#7201a8\"],[0.3333333333333333,\"#9c179e\"],[0.4444444444444444,\"#bd3786\"],[0.5555555555555556,\"#d8576b\"],[0.6666666666666666,\"#ed7953\"],[0.7777777777777778,\"#fb9f3a\"],[0.8888888888888888,\"#fdca26\"],[1.0,\"#f0f921\"]]}],\"contourcarpet\":[{\"type\":\"contourcarpet\",\"colorbar\":{\"outlinewidth\":0,\"ticks\":\"\"}}],\"contour\":[{\"type\":\"contour\",\"colorbar\":{\"outlinewidth\":0,\"ticks\":\"\"},\"colorscale\":[[0.0,\"#0d0887\"],[0.1111111111111111,\"#46039f\"],[0.2222222222222222,\"#7201a8\"],[0.3333333333333333,\"#9c179e\"],[0.4444444444444444,\"#bd3786\"],[0.5555555555555556,\"#d8576b\"],[0.6666666666666666,\"#ed7953\"],[0.7777777777777778,\"#fb9f3a\"],[0.8888888888888888,\"#fdca26\"],[1.0,\"#f0f921\"]]}],\"surface\":[{\"type\":\"surface\",\"colorbar\":{\"outlinewidth\":0,\"ticks\":\"\"},\"colorscale\":[[0.0,\"#0d0887\"],[0.1111111111111111,\"#46039f\"],[0.2222222222222222,\"#7201a8\"],[0.3333333333333333,\"#9c179e\"],[0.4444444444444444,\"#bd3786\"],[0.5555555555555556,\"#d8576b\"],[0.6666666666666666,\"#ed7953\"],[0.7777777777777778,\"#fb9f3a\"],[0.8888888888888888,\"#fdca26\"],[1.0,\"#f0f921\"]]}],\"mesh3d\":[{\"type\":\"mesh3d\",\"colorbar\":{\"outlinewidth\":0,\"ticks\":\"\"}}],\"scatter\":[{\"fillpattern\":{\"fillmode\":\"overlay\",\"size\":10,\"solidity\":0.2},\"type\":\"scatter\"}],\"parcoords\":[{\"type\":\"parcoords\",\"line\":{\"colorbar\":{\"outlinewidth\":0,\"ticks\":\"\"}}}],\"scatterpolargl\":[{\"type\":\"scatterpolargl\",\"marker\":{\"colorbar\":{\"outlinewidth\":0,\"ticks\":\"\"}}}],\"bar\":[{\"error_x\":{\"color\":\"#2a3f5f\"},\"error_y\":{\"color\":\"#2a3f5f\"},\"marker\":{\"line\":{\"color\":\"#E5ECF6\",\"width\":0.5},\"pattern\":{\"fillmode\":\"overlay\",\"size\":10,\"solidity\":0.2}},\"type\":\"bar\"}],\"scattergeo\":[{\"type\":\"scattergeo\",\"marker\":{\"colorbar\":{\"outlinewidth\":0,\"ticks\":\"\"}}}],\"scatterpolar\":[{\"type\":\"scatterpolar\",\"marker\":{\"colorbar\":{\"outlinewidth\":0,\"ticks\":\"\"}}}],\"histogram\":[{\"marker\":{\"pattern\":{\"fillmode\":\"overlay\",\"size\":10,\"solidity\":0.2}},\"type\":\"histogram\"}],\"scattergl\":[{\"type\":\"scattergl\",\"marker\":{\"colorbar\":{\"outlinewidth\":0,\"ticks\":\"\"}}}],\"scatter3d\":[{\"type\":\"scatter3d\",\"line\":{\"colorbar\":{\"outlinewidth\":0,\"ticks\":\"\"}},\"marker\":{\"colorbar\":{\"outlinewidth\":0,\"ticks\":\"\"}}}],\"scattermapbox\":[{\"type\":\"scattermapbox\",\"marker\":{\"colorbar\":{\"outlinewidth\":0,\"ticks\":\"\"}}}],\"scatterternary\":[{\"type\":\"scatterternary\",\"marker\":{\"colorbar\":{\"outlinewidth\":0,\"ticks\":\"\"}}}],\"scattercarpet\":[{\"type\":\"scattercarpet\",\"marker\":{\"colorbar\":{\"outlinewidth\":0,\"ticks\":\"\"}}}],\"carpet\":[{\"aaxis\":{\"endlinecolor\":\"#2a3f5f\",\"gridcolor\":\"white\",\"linecolor\":\"white\",\"minorgridcolor\":\"white\",\"startlinecolor\":\"#2a3f5f\"},\"baxis\":{\"endlinecolor\":\"#2a3f5f\",\"gridcolor\":\"white\",\"linecolor\":\"white\",\"minorgridcolor\":\"white\",\"startlinecolor\":\"#2a3f5f\"},\"type\":\"carpet\"}],\"table\":[{\"cells\":{\"fill\":{\"color\":\"#EBF0F8\"},\"line\":{\"color\":\"white\"}},\"header\":{\"fill\":{\"color\":\"#C8D4E3\"},\"line\":{\"color\":\"white\"}},\"type\":\"table\"}],\"barpolar\":[{\"marker\":{\"line\":{\"color\":\"#E5ECF6\",\"width\":0.5},\"pattern\":{\"fillmode\":\"overlay\",\"size\":10,\"solidity\":0.2}},\"type\":\"barpolar\"}],\"pie\":[{\"automargin\":true,\"type\":\"pie\"}]},\"layout\":{\"autotypenumbers\":\"strict\",\"colorway\":[\"#636efa\",\"#EF553B\",\"#00cc96\",\"#ab63fa\",\"#FFA15A\",\"#19d3f3\",\"#FF6692\",\"#B6E880\",\"#FF97FF\",\"#FECB52\"],\"font\":{\"color\":\"#2a3f5f\"},\"hovermode\":\"closest\",\"hoverlabel\":{\"align\":\"left\"},\"paper_bgcolor\":\"white\",\"plot_bgcolor\":\"#E5ECF6\",\"polar\":{\"bgcolor\":\"#E5ECF6\",\"angularaxis\":{\"gridcolor\":\"white\",\"linecolor\":\"white\",\"ticks\":\"\"},\"radialaxis\":{\"gridcolor\":\"white\",\"linecolor\":\"white\",\"ticks\":\"\"}},\"ternary\":{\"bgcolor\":\"#E5ECF6\",\"aaxis\":{\"gridcolor\":\"white\",\"linecolor\":\"white\",\"ticks\":\"\"},\"baxis\":{\"gridcolor\":\"white\",\"linecolor\":\"white\",\"ticks\":\"\"},\"caxis\":{\"gridcolor\":\"white\",\"linecolor\":\"white\",\"ticks\":\"\"}},\"coloraxis\":{\"colorbar\":{\"outlinewidth\":0,\"ticks\":\"\"}},\"colorscale\":{\"sequential\":[[0.0,\"#0d0887\"],[0.1111111111111111,\"#46039f\"],[0.2222222222222222,\"#7201a8\"],[0.3333333333333333,\"#9c179e\"],[0.4444444444444444,\"#bd3786\"],[0.5555555555555556,\"#d8576b\"],[0.6666666666666666,\"#ed7953\"],[0.7777777777777778,\"#fb9f3a\"],[0.8888888888888888,\"#fdca26\"],[1.0,\"#f0f921\"]],\"sequentialminus\":[[0.0,\"#0d0887\"],[0.1111111111111111,\"#46039f\"],[0.2222222222222222,\"#7201a8\"],[0.3333333333333333,\"#9c179e\"],[0.4444444444444444,\"#bd3786\"],[0.5555555555555556,\"#d8576b\"],[0.6666666666666666,\"#ed7953\"],[0.7777777777777778,\"#fb9f3a\"],[0.8888888888888888,\"#fdca26\"],[1.0,\"#f0f921\"]],\"diverging\":[[0,\"#8e0152\"],[0.1,\"#c51b7d\"],[0.2,\"#de77ae\"],[0.3,\"#f1b6da\"],[0.4,\"#fde0ef\"],[0.5,\"#f7f7f7\"],[0.6,\"#e6f5d0\"],[0.7,\"#b8e186\"],[0.8,\"#7fbc41\"],[0.9,\"#4d9221\"],[1,\"#276419\"]]},\"xaxis\":{\"gridcolor\":\"white\",\"linecolor\":\"white\",\"ticks\":\"\",\"title\":{\"standoff\":15},\"zerolinecolor\":\"white\",\"automargin\":true,\"zerolinewidth\":2},\"yaxis\":{\"gridcolor\":\"white\",\"linecolor\":\"white\",\"ticks\":\"\",\"title\":{\"standoff\":15},\"zerolinecolor\":\"white\",\"automargin\":true,\"zerolinewidth\":2},\"scene\":{\"xaxis\":{\"backgroundcolor\":\"#E5ECF6\",\"gridcolor\":\"white\",\"linecolor\":\"white\",\"showbackground\":true,\"ticks\":\"\",\"zerolinecolor\":\"white\",\"gridwidth\":2},\"yaxis\":{\"backgroundcolor\":\"#E5ECF6\",\"gridcolor\":\"white\",\"linecolor\":\"white\",\"showbackground\":true,\"ticks\":\"\",\"zerolinecolor\":\"white\",\"gridwidth\":2},\"zaxis\":{\"backgroundcolor\":\"#E5ECF6\",\"gridcolor\":\"white\",\"linecolor\":\"white\",\"showbackground\":true,\"ticks\":\"\",\"zerolinecolor\":\"white\",\"gridwidth\":2}},\"shapedefaults\":{\"line\":{\"color\":\"#2a3f5f\"}},\"annotationdefaults\":{\"arrowcolor\":\"#2a3f5f\",\"arrowhead\":0,\"arrowwidth\":1},\"geo\":{\"bgcolor\":\"white\",\"landcolor\":\"#E5ECF6\",\"subunitcolor\":\"white\",\"showland\":true,\"showlakes\":true,\"lakecolor\":\"white\"},\"title\":{\"x\":0.05},\"mapbox\":{\"style\":\"light\"}}},\"xaxis\":{\"anchor\":\"y\",\"domain\":[0.0,1.0],\"title\":{\"text\":\"Median Salary (USD)\"}},\"yaxis\":{\"anchor\":\"x\",\"domain\":[0.0,1.0],\"title\":{\"text\":\"Specialized Occupation\"},\"categoryorder\":\"array\",\"categoryarray\":[\"Financial Data Analyst\",\"Business Analyst (General)\",\"SAP Analyst \\u002f Admin\",\"Data Quality Analyst\",\"Data Analyst\",\"Business Intelligence Analyst\",\"General ERP Analyst \\u002f Consultant\",\"Oracle Consultant \\u002f Analyst\",\"Marketing Analyst\",\"Enterprise Architect\"]},\"legend\":{\"title\":{\"text\":\"Specialized Occupation\"},\"tracegroupgap\":0},\"title\":{\"text\":\"POSTED Median Salaries by Specialized Occupation (NAICS_2022_6 = 518210) in the Technology Industry\"},\"barmode\":\"relative\",\"height\":500,\"margin\":{\"l\":160,\"r\":40,\"t\":80,\"b\":60},\"showlegend\":false,\"paper_bgcolor\":\"#F9F9F9\",\"plot_bgcolor\":\"#FFFFFF\"},                        {\"responsive\": true}                    ).then(function(){\n",
       "                            \n",
       "var gd = document.getElementById('e7eb6b87-7f62-43eb-9970-477aec199815');\n",
       "var x = new MutationObserver(function (mutations, observer) {{\n",
       "        var display = window.getComputedStyle(gd).display;\n",
       "        if (!display || display === 'none') {{\n",
       "            console.log([gd, 'removed!']);\n",
       "            Plotly.purge(gd);\n",
       "            observer.disconnect();\n",
       "        }}\n",
       "}});\n",
       "\n",
       "// Listen for the removal of the full notebook cells\n",
       "var notebookContainer = gd.closest('#notebook-container');\n",
       "if (notebookContainer) {{\n",
       "    x.observe(notebookContainer, {childList: true});\n",
       "}}\n",
       "\n",
       "// Listen for the clearing of the current output cell\n",
       "var outputEl = gd.closest('.output');\n",
       "if (outputEl) {{\n",
       "    x.observe(outputEl, {childList: true});\n",
       "}}\n",
       "\n",
       "                        })                };                });            </script>        </div>"
      ]
     },
     "metadata": {},
     "output_type": "display_data"
    }
   ],
   "source": [
    "fig_01 = px.bar(\n",
    "    df_salary,\n",
    "    y=\"specialized_occupation\",\n",
    "    x=\"median_salary\",\n",
    "    color=\"specialized_occupation\",\n",
    "    color_discrete_sequence=px.colors.qualitative.Pastel1,\n",
    "    title=\"POSTED Median Salaries by Specialized Occupation (NAICS_2022_6 = 518210) in the Technology Industry\",\n",
    "    labels={\n",
    "        \"specialized_occupation\": \"Specialized Occupation\",\n",
    "        \"median_salary\": \"Median Salary (USD)\",\n",
    "        \"posting_count\": \"Job Postings\"\n",
    "    },\n",
    "    hover_data=[\"median_salary\", \"posting_count\"],\n",
    "    height=500,\n",
    "    orientation=\"h\"\n",
    ")\n",
    "\n",
    "fig_01.update_layout(\n",
    "    showlegend=False,\n",
    "    yaxis_title=\"Specialized Occupation\",\n",
    "    xaxis_title=\"Median Salary (USD)\",\n",
    "    margin=dict(l=160, r=40, t=80, b=60),\n",
    "    paper_bgcolor=\"#F9F9F9\", \n",
    "    plot_bgcolor=\"#FFFFFF\"  \n",
    ")\n",
    "\n",
    "fig_01.show()"
   ]
  },
  {
   "cell_type": "markdown",
   "id": "ddc7fa31-46a2-4a31-9fdb-83ac36d3e8b6",
   "metadata": {},
   "source": [
    "*__query 2__*"
   ]
  },
  {
   "cell_type": "code",
   "execution_count": 56,
   "id": "914a7f0b-307f-408f-bdbd-0e96fff75b93",
   "metadata": {},
   "outputs": [],
   "source": [
    "query_02 = \"\"\"\n",
    "SELECT \n",
    "    c.COMPANY_NAME AS company_name,\n",
    "    COUNT(*) AS remote_jobs\n",
    "FROM job_postings j\n",
    "JOIN companies c ON j.COMPANY_ID = c.COMPANY_ID\n",
    "JOIN locations l ON j.LOCATION_ID = l.LOCATION_ID\n",
    "WHERE j.REMOTE_TYPE_NAME = 'Remote'\n",
    "  AND l.STATE_NAME = 'California'\n",
    "GROUP BY company_name\n",
    "ORDER BY remote_jobs DESC\n",
    "LIMIT 7\n",
    "\"\"\"\n",
    "df_remote_ca = con.execute(query_02).df()"
   ]
  },
  {
   "cell_type": "code",
   "execution_count": 57,
   "id": "a4d6ce04-4e20-41dc-af33-6b825ff4022a",
   "metadata": {},
   "outputs": [
    {
     "data": {
      "application/vnd.plotly.v1+json": {
       "config": {
        "plotlyServerURL": "https://plot.ly"
       },
       "data": [
        {
         "alignmentgroup": "True",
         "hovertemplate": "Company=%{x}<br>Remote Job Postings=%{text}<extra></extra>",
         "legendgroup": "Unclassified",
         "marker": {
          "color": "rgb(179,226,205)",
          "pattern": {
           "shape": ""
          }
         },
         "name": "Unclassified",
         "offsetgroup": "Unclassified",
         "orientation": "v",
         "showlegend": true,
         "text": [
          61
         ],
         "textposition": "outside",
         "type": "bar",
         "x": [
          "Unclassified"
         ],
         "xaxis": "x",
         "y": [
          61
         ],
         "yaxis": "y"
        },
        {
         "alignmentgroup": "True",
         "hovertemplate": "Company=%{x}<br>Remote Job Postings=%{text}<extra></extra>",
         "legendgroup": "Kaiser Permanente",
         "marker": {
          "color": "rgb(253,205,172)",
          "pattern": {
           "shape": ""
          }
         },
         "name": "Kaiser Permanente",
         "offsetgroup": "Kaiser Permanente",
         "orientation": "v",
         "showlegend": true,
         "text": [
          33
         ],
         "textposition": "outside",
         "type": "bar",
         "x": [
          "Kaiser Permanente"
         ],
         "xaxis": "x",
         "y": [
          33
         ],
         "yaxis": "y"
        },
        {
         "alignmentgroup": "True",
         "hovertemplate": "Company=%{x}<br>Remote Job Postings=%{text}<extra></extra>",
         "legendgroup": "University of California",
         "marker": {
          "color": "rgb(203,213,232)",
          "pattern": {
           "shape": ""
          }
         },
         "name": "University of California",
         "offsetgroup": "University of California",
         "orientation": "v",
         "showlegend": true,
         "text": [
          23
         ],
         "textposition": "outside",
         "type": "bar",
         "x": [
          "University of California"
         ],
         "xaxis": "x",
         "y": [
          23
         ],
         "yaxis": "y"
        },
        {
         "alignmentgroup": "True",
         "hovertemplate": "Company=%{x}<br>Remote Job Postings=%{text}<extra></extra>",
         "legendgroup": "The Judge Group",
         "marker": {
          "color": "rgb(244,202,228)",
          "pattern": {
           "shape": ""
          }
         },
         "name": "The Judge Group",
         "offsetgroup": "The Judge Group",
         "orientation": "v",
         "showlegend": true,
         "text": [
          21
         ],
         "textposition": "outside",
         "type": "bar",
         "x": [
          "The Judge Group"
         ],
         "xaxis": "x",
         "y": [
          21
         ],
         "yaxis": "y"
        },
        {
         "alignmentgroup": "True",
         "hovertemplate": "Company=%{x}<br>Remote Job Postings=%{text}<extra></extra>",
         "legendgroup": "California Public Employees' Retirement System",
         "marker": {
          "color": "rgb(230,245,201)",
          "pattern": {
           "shape": ""
          }
         },
         "name": "California Public Employees' Retirement System",
         "offsetgroup": "California Public Employees' Retirement System",
         "orientation": "v",
         "showlegend": true,
         "text": [
          12
         ],
         "textposition": "outside",
         "type": "bar",
         "x": [
          "California Public Employees' Retirement System"
         ],
         "xaxis": "x",
         "y": [
          12
         ],
         "yaxis": "y"
        },
        {
         "alignmentgroup": "True",
         "hovertemplate": "Company=%{x}<br>Remote Job Postings=%{text}<extra></extra>",
         "legendgroup": "Cognizant Technology Solutions",
         "marker": {
          "color": "rgb(255,242,174)",
          "pattern": {
           "shape": ""
          }
         },
         "name": "Cognizant Technology Solutions",
         "offsetgroup": "Cognizant Technology Solutions",
         "orientation": "v",
         "showlegend": true,
         "text": [
          11
         ],
         "textposition": "outside",
         "type": "bar",
         "x": [
          "Cognizant Technology Solutions"
         ],
         "xaxis": "x",
         "y": [
          11
         ],
         "yaxis": "y"
        },
        {
         "alignmentgroup": "True",
         "hovertemplate": "Company=%{x}<br>Remote Job Postings=%{text}<extra></extra>",
         "legendgroup": "Baer Group",
         "marker": {
          "color": "rgb(241,226,204)",
          "pattern": {
           "shape": ""
          }
         },
         "name": "Baer Group",
         "offsetgroup": "Baer Group",
         "orientation": "v",
         "showlegend": true,
         "text": [
          10
         ],
         "textposition": "outside",
         "type": "bar",
         "x": [
          "Baer Group"
         ],
         "xaxis": "x",
         "y": [
          10
         ],
         "yaxis": "y"
        }
       ],
       "layout": {
        "autosize": true,
        "barmode": "relative",
        "legend": {
         "title": {
          "text": "Company"
         },
         "tracegroupgap": 0
        },
        "margin": {
         "b": 100,
         "l": 40,
         "r": 40,
         "t": 80
        },
        "paper_bgcolor": "#F9F9F9",
        "plot_bgcolor": "#FFFFFF",
        "showlegend": false,
        "template": {
         "data": {
          "bar": [
           {
            "error_x": {
             "color": "#2a3f5f"
            },
            "error_y": {
             "color": "#2a3f5f"
            },
            "marker": {
             "line": {
              "color": "#E5ECF6",
              "width": 0.5
             },
             "pattern": {
              "fillmode": "overlay",
              "size": 10,
              "solidity": 0.2
             }
            },
            "type": "bar"
           }
          ],
          "barpolar": [
           {
            "marker": {
             "line": {
              "color": "#E5ECF6",
              "width": 0.5
             },
             "pattern": {
              "fillmode": "overlay",
              "size": 10,
              "solidity": 0.2
             }
            },
            "type": "barpolar"
           }
          ],
          "carpet": [
           {
            "aaxis": {
             "endlinecolor": "#2a3f5f",
             "gridcolor": "white",
             "linecolor": "white",
             "minorgridcolor": "white",
             "startlinecolor": "#2a3f5f"
            },
            "baxis": {
             "endlinecolor": "#2a3f5f",
             "gridcolor": "white",
             "linecolor": "white",
             "minorgridcolor": "white",
             "startlinecolor": "#2a3f5f"
            },
            "type": "carpet"
           }
          ],
          "choropleth": [
           {
            "colorbar": {
             "outlinewidth": 0,
             "ticks": ""
            },
            "type": "choropleth"
           }
          ],
          "contour": [
           {
            "colorbar": {
             "outlinewidth": 0,
             "ticks": ""
            },
            "colorscale": [
             [
              0,
              "#0d0887"
             ],
             [
              0.1111111111111111,
              "#46039f"
             ],
             [
              0.2222222222222222,
              "#7201a8"
             ],
             [
              0.3333333333333333,
              "#9c179e"
             ],
             [
              0.4444444444444444,
              "#bd3786"
             ],
             [
              0.5555555555555556,
              "#d8576b"
             ],
             [
              0.6666666666666666,
              "#ed7953"
             ],
             [
              0.7777777777777778,
              "#fb9f3a"
             ],
             [
              0.8888888888888888,
              "#fdca26"
             ],
             [
              1,
              "#f0f921"
             ]
            ],
            "type": "contour"
           }
          ],
          "contourcarpet": [
           {
            "colorbar": {
             "outlinewidth": 0,
             "ticks": ""
            },
            "type": "contourcarpet"
           }
          ],
          "heatmap": [
           {
            "colorbar": {
             "outlinewidth": 0,
             "ticks": ""
            },
            "colorscale": [
             [
              0,
              "#0d0887"
             ],
             [
              0.1111111111111111,
              "#46039f"
             ],
             [
              0.2222222222222222,
              "#7201a8"
             ],
             [
              0.3333333333333333,
              "#9c179e"
             ],
             [
              0.4444444444444444,
              "#bd3786"
             ],
             [
              0.5555555555555556,
              "#d8576b"
             ],
             [
              0.6666666666666666,
              "#ed7953"
             ],
             [
              0.7777777777777778,
              "#fb9f3a"
             ],
             [
              0.8888888888888888,
              "#fdca26"
             ],
             [
              1,
              "#f0f921"
             ]
            ],
            "type": "heatmap"
           }
          ],
          "heatmapgl": [
           {
            "colorbar": {
             "outlinewidth": 0,
             "ticks": ""
            },
            "colorscale": [
             [
              0,
              "#0d0887"
             ],
             [
              0.1111111111111111,
              "#46039f"
             ],
             [
              0.2222222222222222,
              "#7201a8"
             ],
             [
              0.3333333333333333,
              "#9c179e"
             ],
             [
              0.4444444444444444,
              "#bd3786"
             ],
             [
              0.5555555555555556,
              "#d8576b"
             ],
             [
              0.6666666666666666,
              "#ed7953"
             ],
             [
              0.7777777777777778,
              "#fb9f3a"
             ],
             [
              0.8888888888888888,
              "#fdca26"
             ],
             [
              1,
              "#f0f921"
             ]
            ],
            "type": "heatmapgl"
           }
          ],
          "histogram": [
           {
            "marker": {
             "pattern": {
              "fillmode": "overlay",
              "size": 10,
              "solidity": 0.2
             }
            },
            "type": "histogram"
           }
          ],
          "histogram2d": [
           {
            "colorbar": {
             "outlinewidth": 0,
             "ticks": ""
            },
            "colorscale": [
             [
              0,
              "#0d0887"
             ],
             [
              0.1111111111111111,
              "#46039f"
             ],
             [
              0.2222222222222222,
              "#7201a8"
             ],
             [
              0.3333333333333333,
              "#9c179e"
             ],
             [
              0.4444444444444444,
              "#bd3786"
             ],
             [
              0.5555555555555556,
              "#d8576b"
             ],
             [
              0.6666666666666666,
              "#ed7953"
             ],
             [
              0.7777777777777778,
              "#fb9f3a"
             ],
             [
              0.8888888888888888,
              "#fdca26"
             ],
             [
              1,
              "#f0f921"
             ]
            ],
            "type": "histogram2d"
           }
          ],
          "histogram2dcontour": [
           {
            "colorbar": {
             "outlinewidth": 0,
             "ticks": ""
            },
            "colorscale": [
             [
              0,
              "#0d0887"
             ],
             [
              0.1111111111111111,
              "#46039f"
             ],
             [
              0.2222222222222222,
              "#7201a8"
             ],
             [
              0.3333333333333333,
              "#9c179e"
             ],
             [
              0.4444444444444444,
              "#bd3786"
             ],
             [
              0.5555555555555556,
              "#d8576b"
             ],
             [
              0.6666666666666666,
              "#ed7953"
             ],
             [
              0.7777777777777778,
              "#fb9f3a"
             ],
             [
              0.8888888888888888,
              "#fdca26"
             ],
             [
              1,
              "#f0f921"
             ]
            ],
            "type": "histogram2dcontour"
           }
          ],
          "mesh3d": [
           {
            "colorbar": {
             "outlinewidth": 0,
             "ticks": ""
            },
            "type": "mesh3d"
           }
          ],
          "parcoords": [
           {
            "line": {
             "colorbar": {
              "outlinewidth": 0,
              "ticks": ""
             }
            },
            "type": "parcoords"
           }
          ],
          "pie": [
           {
            "automargin": true,
            "type": "pie"
           }
          ],
          "scatter": [
           {
            "fillpattern": {
             "fillmode": "overlay",
             "size": 10,
             "solidity": 0.2
            },
            "type": "scatter"
           }
          ],
          "scatter3d": [
           {
            "line": {
             "colorbar": {
              "outlinewidth": 0,
              "ticks": ""
             }
            },
            "marker": {
             "colorbar": {
              "outlinewidth": 0,
              "ticks": ""
             }
            },
            "type": "scatter3d"
           }
          ],
          "scattercarpet": [
           {
            "marker": {
             "colorbar": {
              "outlinewidth": 0,
              "ticks": ""
             }
            },
            "type": "scattercarpet"
           }
          ],
          "scattergeo": [
           {
            "marker": {
             "colorbar": {
              "outlinewidth": 0,
              "ticks": ""
             }
            },
            "type": "scattergeo"
           }
          ],
          "scattergl": [
           {
            "marker": {
             "colorbar": {
              "outlinewidth": 0,
              "ticks": ""
             }
            },
            "type": "scattergl"
           }
          ],
          "scattermapbox": [
           {
            "marker": {
             "colorbar": {
              "outlinewidth": 0,
              "ticks": ""
             }
            },
            "type": "scattermapbox"
           }
          ],
          "scatterpolar": [
           {
            "marker": {
             "colorbar": {
              "outlinewidth": 0,
              "ticks": ""
             }
            },
            "type": "scatterpolar"
           }
          ],
          "scatterpolargl": [
           {
            "marker": {
             "colorbar": {
              "outlinewidth": 0,
              "ticks": ""
             }
            },
            "type": "scatterpolargl"
           }
          ],
          "scatterternary": [
           {
            "marker": {
             "colorbar": {
              "outlinewidth": 0,
              "ticks": ""
             }
            },
            "type": "scatterternary"
           }
          ],
          "surface": [
           {
            "colorbar": {
             "outlinewidth": 0,
             "ticks": ""
            },
            "colorscale": [
             [
              0,
              "#0d0887"
             ],
             [
              0.1111111111111111,
              "#46039f"
             ],
             [
              0.2222222222222222,
              "#7201a8"
             ],
             [
              0.3333333333333333,
              "#9c179e"
             ],
             [
              0.4444444444444444,
              "#bd3786"
             ],
             [
              0.5555555555555556,
              "#d8576b"
             ],
             [
              0.6666666666666666,
              "#ed7953"
             ],
             [
              0.7777777777777778,
              "#fb9f3a"
             ],
             [
              0.8888888888888888,
              "#fdca26"
             ],
             [
              1,
              "#f0f921"
             ]
            ],
            "type": "surface"
           }
          ],
          "table": [
           {
            "cells": {
             "fill": {
              "color": "#EBF0F8"
             },
             "line": {
              "color": "white"
             }
            },
            "header": {
             "fill": {
              "color": "#C8D4E3"
             },
             "line": {
              "color": "white"
             }
            },
            "type": "table"
           }
          ]
         },
         "layout": {
          "annotationdefaults": {
           "arrowcolor": "#2a3f5f",
           "arrowhead": 0,
           "arrowwidth": 1
          },
          "autotypenumbers": "strict",
          "coloraxis": {
           "colorbar": {
            "outlinewidth": 0,
            "ticks": ""
           }
          },
          "colorscale": {
           "diverging": [
            [
             0,
             "#8e0152"
            ],
            [
             0.1,
             "#c51b7d"
            ],
            [
             0.2,
             "#de77ae"
            ],
            [
             0.3,
             "#f1b6da"
            ],
            [
             0.4,
             "#fde0ef"
            ],
            [
             0.5,
             "#f7f7f7"
            ],
            [
             0.6,
             "#e6f5d0"
            ],
            [
             0.7,
             "#b8e186"
            ],
            [
             0.8,
             "#7fbc41"
            ],
            [
             0.9,
             "#4d9221"
            ],
            [
             1,
             "#276419"
            ]
           ],
           "sequential": [
            [
             0,
             "#0d0887"
            ],
            [
             0.1111111111111111,
             "#46039f"
            ],
            [
             0.2222222222222222,
             "#7201a8"
            ],
            [
             0.3333333333333333,
             "#9c179e"
            ],
            [
             0.4444444444444444,
             "#bd3786"
            ],
            [
             0.5555555555555556,
             "#d8576b"
            ],
            [
             0.6666666666666666,
             "#ed7953"
            ],
            [
             0.7777777777777778,
             "#fb9f3a"
            ],
            [
             0.8888888888888888,
             "#fdca26"
            ],
            [
             1,
             "#f0f921"
            ]
           ],
           "sequentialminus": [
            [
             0,
             "#0d0887"
            ],
            [
             0.1111111111111111,
             "#46039f"
            ],
            [
             0.2222222222222222,
             "#7201a8"
            ],
            [
             0.3333333333333333,
             "#9c179e"
            ],
            [
             0.4444444444444444,
             "#bd3786"
            ],
            [
             0.5555555555555556,
             "#d8576b"
            ],
            [
             0.6666666666666666,
             "#ed7953"
            ],
            [
             0.7777777777777778,
             "#fb9f3a"
            ],
            [
             0.8888888888888888,
             "#fdca26"
            ],
            [
             1,
             "#f0f921"
            ]
           ]
          },
          "colorway": [
           "#636efa",
           "#EF553B",
           "#00cc96",
           "#ab63fa",
           "#FFA15A",
           "#19d3f3",
           "#FF6692",
           "#B6E880",
           "#FF97FF",
           "#FECB52"
          ],
          "font": {
           "color": "#2a3f5f"
          },
          "geo": {
           "bgcolor": "white",
           "lakecolor": "white",
           "landcolor": "#E5ECF6",
           "showlakes": true,
           "showland": true,
           "subunitcolor": "white"
          },
          "hoverlabel": {
           "align": "left"
          },
          "hovermode": "closest",
          "mapbox": {
           "style": "light"
          },
          "paper_bgcolor": "white",
          "plot_bgcolor": "#E5ECF6",
          "polar": {
           "angularaxis": {
            "gridcolor": "white",
            "linecolor": "white",
            "ticks": ""
           },
           "bgcolor": "#E5ECF6",
           "radialaxis": {
            "gridcolor": "white",
            "linecolor": "white",
            "ticks": ""
           }
          },
          "scene": {
           "xaxis": {
            "backgroundcolor": "#E5ECF6",
            "gridcolor": "white",
            "gridwidth": 2,
            "linecolor": "white",
            "showbackground": true,
            "ticks": "",
            "zerolinecolor": "white"
           },
           "yaxis": {
            "backgroundcolor": "#E5ECF6",
            "gridcolor": "white",
            "gridwidth": 2,
            "linecolor": "white",
            "showbackground": true,
            "ticks": "",
            "zerolinecolor": "white"
           },
           "zaxis": {
            "backgroundcolor": "#E5ECF6",
            "gridcolor": "white",
            "gridwidth": 2,
            "linecolor": "white",
            "showbackground": true,
            "ticks": "",
            "zerolinecolor": "white"
           }
          },
          "shapedefaults": {
           "line": {
            "color": "#2a3f5f"
           }
          },
          "ternary": {
           "aaxis": {
            "gridcolor": "white",
            "linecolor": "white",
            "ticks": ""
           },
           "baxis": {
            "gridcolor": "white",
            "linecolor": "white",
            "ticks": ""
           },
           "bgcolor": "#E5ECF6",
           "caxis": {
            "gridcolor": "white",
            "linecolor": "white",
            "ticks": ""
           }
          },
          "title": {
           "x": 0.05
          },
          "xaxis": {
           "automargin": true,
           "gridcolor": "white",
           "linecolor": "white",
           "ticks": "",
           "title": {
            "standoff": 15
           },
           "zerolinecolor": "white",
           "zerolinewidth": 2
          },
          "yaxis": {
           "automargin": true,
           "gridcolor": "white",
           "linecolor": "white",
           "ticks": "",
           "title": {
            "standoff": 15
           },
           "zerolinecolor": "white",
           "zerolinewidth": 2
          }
         }
        },
        "title": {
         "text": "Top 7 Companies with the Most Remote Jobs in California"
        },
        "xaxis": {
         "anchor": "y",
         "autorange": true,
         "categoryarray": [
          "Unclassified",
          "Kaiser Permanente",
          "University of California",
          "The Judge Group",
          "California Public Employees' Retirement System",
          "Cognizant Technology Solutions",
          "Baer Group"
         ],
         "categoryorder": "array",
         "domain": [
          0,
          1
         ],
         "range": [
          -0.5,
          6.5
         ],
         "tickangle": -45,
         "title": {
          "text": "Company"
         },
         "type": "category"
        },
        "yaxis": {
         "anchor": "x",
         "autorange": true,
         "domain": [
          0,
          1
         ],
         "range": [
          0,
          64.21052631578948
         ],
         "title": {
          "text": "Remote Job Postings"
         },
         "type": "linear"
        }
       }
      },
      "image/png": "[encoded data removed]",
      "text/html": [
       "<div>                            <div id=\"8a56e62f-ca3d-4fc3-adff-ca6db87ca925\" class=\"plotly-graph-div\" style=\"height:750px; width:100%;\"></div>            <script type=\"text/javascript\">                require([\"plotly\"], function(Plotly) {                    window.PLOTLYENV=window.PLOTLYENV || {};                                    if (document.getElementById(\"8a56e62f-ca3d-4fc3-adff-ca6db87ca925\")) {                    Plotly.newPlot(                        \"8a56e62f-ca3d-4fc3-adff-ca6db87ca925\",                        [{\"alignmentgroup\":\"True\",\"hovertemplate\":\"Company=%{x}\\u003cbr\\u003eRemote Job Postings=%{text}\\u003cextra\\u003e\\u003c\\u002fextra\\u003e\",\"legendgroup\":\"Unclassified\",\"marker\":{\"color\":\"rgb(179,226,205)\",\"pattern\":{\"shape\":\"\"}},\"name\":\"Unclassified\",\"offsetgroup\":\"Unclassified\",\"orientation\":\"v\",\"showlegend\":true,\"text\":[61.0],\"textposition\":\"outside\",\"x\":[\"Unclassified\"],\"xaxis\":\"x\",\"y\":[61],\"yaxis\":\"y\",\"type\":\"bar\"},{\"alignmentgroup\":\"True\",\"hovertemplate\":\"Company=%{x}\\u003cbr\\u003eRemote Job Postings=%{text}\\u003cextra\\u003e\\u003c\\u002fextra\\u003e\",\"legendgroup\":\"Kaiser Permanente\",\"marker\":{\"color\":\"rgb(253,205,172)\",\"pattern\":{\"shape\":\"\"}},\"name\":\"Kaiser Permanente\",\"offsetgroup\":\"Kaiser Permanente\",\"orientation\":\"v\",\"showlegend\":true,\"text\":[33.0],\"textposition\":\"outside\",\"x\":[\"Kaiser Permanente\"],\"xaxis\":\"x\",\"y\":[33],\"yaxis\":\"y\",\"type\":\"bar\"},{\"alignmentgroup\":\"True\",\"hovertemplate\":\"Company=%{x}\\u003cbr\\u003eRemote Job Postings=%{text}\\u003cextra\\u003e\\u003c\\u002fextra\\u003e\",\"legendgroup\":\"University of California\",\"marker\":{\"color\":\"rgb(203,213,232)\",\"pattern\":{\"shape\":\"\"}},\"name\":\"University of California\",\"offsetgroup\":\"University of California\",\"orientation\":\"v\",\"showlegend\":true,\"text\":[23.0],\"textposition\":\"outside\",\"x\":[\"University of California\"],\"xaxis\":\"x\",\"y\":[23],\"yaxis\":\"y\",\"type\":\"bar\"},{\"alignmentgroup\":\"True\",\"hovertemplate\":\"Company=%{x}\\u003cbr\\u003eRemote Job Postings=%{text}\\u003cextra\\u003e\\u003c\\u002fextra\\u003e\",\"legendgroup\":\"The Judge Group\",\"marker\":{\"color\":\"rgb(244,202,228)\",\"pattern\":{\"shape\":\"\"}},\"name\":\"The Judge Group\",\"offsetgroup\":\"The Judge Group\",\"orientation\":\"v\",\"showlegend\":true,\"text\":[21.0],\"textposition\":\"outside\",\"x\":[\"The Judge Group\"],\"xaxis\":\"x\",\"y\":[21],\"yaxis\":\"y\",\"type\":\"bar\"},{\"alignmentgroup\":\"True\",\"hovertemplate\":\"Company=%{x}\\u003cbr\\u003eRemote Job Postings=%{text}\\u003cextra\\u003e\\u003c\\u002fextra\\u003e\",\"legendgroup\":\"California Public Employees' Retirement System\",\"marker\":{\"color\":\"rgb(230,245,201)\",\"pattern\":{\"shape\":\"\"}},\"name\":\"California Public Employees' Retirement System\",\"offsetgroup\":\"California Public Employees' Retirement System\",\"orientation\":\"v\",\"showlegend\":true,\"text\":[12.0],\"textposition\":\"outside\",\"x\":[\"California Public Employees' Retirement System\"],\"xaxis\":\"x\",\"y\":[12],\"yaxis\":\"y\",\"type\":\"bar\"},{\"alignmentgroup\":\"True\",\"hovertemplate\":\"Company=%{x}\\u003cbr\\u003eRemote Job Postings=%{text}\\u003cextra\\u003e\\u003c\\u002fextra\\u003e\",\"legendgroup\":\"Cognizant Technology Solutions\",\"marker\":{\"color\":\"rgb(255,242,174)\",\"pattern\":{\"shape\":\"\"}},\"name\":\"Cognizant Technology Solutions\",\"offsetgroup\":\"Cognizant Technology Solutions\",\"orientation\":\"v\",\"showlegend\":true,\"text\":[11.0],\"textposition\":\"outside\",\"x\":[\"Cognizant Technology Solutions\"],\"xaxis\":\"x\",\"y\":[11],\"yaxis\":\"y\",\"type\":\"bar\"},{\"alignmentgroup\":\"True\",\"hovertemplate\":\"Company=%{x}\\u003cbr\\u003eRemote Job Postings=%{text}\\u003cextra\\u003e\\u003c\\u002fextra\\u003e\",\"legendgroup\":\"Baer Group\",\"marker\":{\"color\":\"rgb(241,226,204)\",\"pattern\":{\"shape\":\"\"}},\"name\":\"Baer Group\",\"offsetgroup\":\"Baer Group\",\"orientation\":\"v\",\"showlegend\":true,\"text\":[10.0],\"textposition\":\"outside\",\"x\":[\"Baer Group\"],\"xaxis\":\"x\",\"y\":[10],\"yaxis\":\"y\",\"type\":\"bar\"}],                        {\"template\":{\"data\":{\"histogram2dcontour\":[{\"type\":\"histogram2dcontour\",\"colorbar\":{\"outlinewidth\":0,\"ticks\":\"\"},\"colorscale\":[[0.0,\"#0d0887\"],[0.1111111111111111,\"#46039f\"],[0.2222222222222222,\"#7201a8\"],[0.3333333333333333,\"#9c179e\"],[0.4444444444444444,\"#bd3786\"],[0.5555555555555556,\"#d8576b\"],[0.6666666666666666,\"#ed7953\"],[0.7777777777777778,\"#fb9f3a\"],[0.8888888888888888,\"#fdca26\"],[1.0,\"#f0f921\"]]}],\"choropleth\":[{\"type\":\"choropleth\",\"colorbar\":{\"outlinewidth\":0,\"ticks\":\"\"}}],\"histogram2d\":[{\"type\":\"histogram2d\",\"colorbar\":{\"outlinewidth\":0,\"ticks\":\"\"},\"colorscale\":[[0.0,\"#0d0887\"],[0.1111111111111111,\"#46039f\"],[0.2222222222222222,\"#7201a8\"],[0.3333333333333333,\"#9c179e\"],[0.4444444444444444,\"#bd3786\"],[0.5555555555555556,\"#d8576b\"],[0.6666666666666666,\"#ed7953\"],[0.7777777777777778,\"#fb9f3a\"],[0.8888888888888888,\"#fdca26\"],[1.0,\"#f0f921\"]]}],\"heatmap\":[{\"type\":\"heatmap\",\"colorbar\":{\"outlinewidth\":0,\"ticks\":\"\"},\"colorscale\":[[0.0,\"#0d0887\"],[0.1111111111111111,\"#46039f\"],[0.2222222222222222,\"#7201a8\"],[0.3333333333333333,\"#9c179e\"],[0.4444444444444444,\"#bd3786\"],[0.5555555555555556,\"#d8576b\"],[0.6666666666666666,\"#ed7953\"],[0.7777777777777778,\"#fb9f3a\"],[0.8888888888888888,\"#fdca26\"],[1.0,\"#f0f921\"]]}],\"heatmapgl\":[{\"type\":\"heatmapgl\",\"colorbar\":{\"outlinewidth\":0,\"ticks\":\"\"},\"colorscale\":[[0.0,\"#0d0887\"],[0.1111111111111111,\"#46039f\"],[0.2222222222222222,\"#7201a8\"],[0.3333333333333333,\"#9c179e\"],[0.4444444444444444,\"#bd3786\"],[0.5555555555555556,\"#d8576b\"],[0.6666666666666666,\"#ed7953\"],[0.7777777777777778,\"#fb9f3a\"],[0.8888888888888888,\"#fdca26\"],[1.0,\"#f0f921\"]]}],\"contourcarpet\":[{\"type\":\"contourcarpet\",\"colorbar\":{\"outlinewidth\":0,\"ticks\":\"\"}}],\"contour\":[{\"type\":\"contour\",\"colorbar\":{\"outlinewidth\":0,\"ticks\":\"\"},\"colorscale\":[[0.0,\"#0d0887\"],[0.1111111111111111,\"#46039f\"],[0.2222222222222222,\"#7201a8\"],[0.3333333333333333,\"#9c179e\"],[0.4444444444444444,\"#bd3786\"],[0.5555555555555556,\"#d8576b\"],[0.6666666666666666,\"#ed7953\"],[0.7777777777777778,\"#fb9f3a\"],[0.8888888888888888,\"#fdca26\"],[1.0,\"#f0f921\"]]}],\"surface\":[{\"type\":\"surface\",\"colorbar\":{\"outlinewidth\":0,\"ticks\":\"\"},\"colorscale\":[[0.0,\"#0d0887\"],[0.1111111111111111,\"#46039f\"],[0.2222222222222222,\"#7201a8\"],[0.3333333333333333,\"#9c179e\"],[0.4444444444444444,\"#bd3786\"],[0.5555555555555556,\"#d8576b\"],[0.6666666666666666,\"#ed7953\"],[0.7777777777777778,\"#fb9f3a\"],[0.8888888888888888,\"#fdca26\"],[1.0,\"#f0f921\"]]}],\"mesh3d\":[{\"type\":\"mesh3d\",\"colorbar\":{\"outlinewidth\":0,\"ticks\":\"\"}}],\"scatter\":[{\"fillpattern\":{\"fillmode\":\"overlay\",\"size\":10,\"solidity\":0.2},\"type\":\"scatter\"}],\"parcoords\":[{\"type\":\"parcoords\",\"line\":{\"colorbar\":{\"outlinewidth\":0,\"ticks\":\"\"}}}],\"scatterpolargl\":[{\"type\":\"scatterpolargl\",\"marker\":{\"colorbar\":{\"outlinewidth\":0,\"ticks\":\"\"}}}],\"bar\":[{\"error_x\":{\"color\":\"#2a3f5f\"},\"error_y\":{\"color\":\"#2a3f5f\"},\"marker\":{\"line\":{\"color\":\"#E5ECF6\",\"width\":0.5},\"pattern\":{\"fillmode\":\"overlay\",\"size\":10,\"solidity\":0.2}},\"type\":\"bar\"}],\"scattergeo\":[{\"type\":\"scattergeo\",\"marker\":{\"colorbar\":{\"outlinewidth\":0,\"ticks\":\"\"}}}],\"scatterpolar\":[{\"type\":\"scatterpolar\",\"marker\":{\"colorbar\":{\"outlinewidth\":0,\"ticks\":\"\"}}}],\"histogram\":[{\"marker\":{\"pattern\":{\"fillmode\":\"overlay\",\"size\":10,\"solidity\":0.2}},\"type\":\"histogram\"}],\"scattergl\":[{\"type\":\"scattergl\",\"marker\":{\"colorbar\":{\"outlinewidth\":0,\"ticks\":\"\"}}}],\"scatter3d\":[{\"type\":\"scatter3d\",\"line\":{\"colorbar\":{\"outlinewidth\":0,\"ticks\":\"\"}},\"marker\":{\"colorbar\":{\"outlinewidth\":0,\"ticks\":\"\"}}}],\"scattermapbox\":[{\"type\":\"scattermapbox\",\"marker\":{\"colorbar\":{\"outlinewidth\":0,\"ticks\":\"\"}}}],\"scatterternary\":[{\"type\":\"scatterternary\",\"marker\":{\"colorbar\":{\"outlinewidth\":0,\"ticks\":\"\"}}}],\"scattercarpet\":[{\"type\":\"scattercarpet\",\"marker\":{\"colorbar\":{\"outlinewidth\":0,\"ticks\":\"\"}}}],\"carpet\":[{\"aaxis\":{\"endlinecolor\":\"#2a3f5f\",\"gridcolor\":\"white\",\"linecolor\":\"white\",\"minorgridcolor\":\"white\",\"startlinecolor\":\"#2a3f5f\"},\"baxis\":{\"endlinecolor\":\"#2a3f5f\",\"gridcolor\":\"white\",\"linecolor\":\"white\",\"minorgridcolor\":\"white\",\"startlinecolor\":\"#2a3f5f\"},\"type\":\"carpet\"}],\"table\":[{\"cells\":{\"fill\":{\"color\":\"#EBF0F8\"},\"line\":{\"color\":\"white\"}},\"header\":{\"fill\":{\"color\":\"#C8D4E3\"},\"line\":{\"color\":\"white\"}},\"type\":\"table\"}],\"barpolar\":[{\"marker\":{\"line\":{\"color\":\"#E5ECF6\",\"width\":0.5},\"pattern\":{\"fillmode\":\"overlay\",\"size\":10,\"solidity\":0.2}},\"type\":\"barpolar\"}],\"pie\":[{\"automargin\":true,\"type\":\"pie\"}]},\"layout\":{\"autotypenumbers\":\"strict\",\"colorway\":[\"#636efa\",\"#EF553B\",\"#00cc96\",\"#ab63fa\",\"#FFA15A\",\"#19d3f3\",\"#FF6692\",\"#B6E880\",\"#FF97FF\",\"#FECB52\"],\"font\":{\"color\":\"#2a3f5f\"},\"hovermode\":\"closest\",\"hoverlabel\":{\"align\":\"left\"},\"paper_bgcolor\":\"white\",\"plot_bgcolor\":\"#E5ECF6\",\"polar\":{\"bgcolor\":\"#E5ECF6\",\"angularaxis\":{\"gridcolor\":\"white\",\"linecolor\":\"white\",\"ticks\":\"\"},\"radialaxis\":{\"gridcolor\":\"white\",\"linecolor\":\"white\",\"ticks\":\"\"}},\"ternary\":{\"bgcolor\":\"#E5ECF6\",\"aaxis\":{\"gridcolor\":\"white\",\"linecolor\":\"white\",\"ticks\":\"\"},\"baxis\":{\"gridcolor\":\"white\",\"linecolor\":\"white\",\"ticks\":\"\"},\"caxis\":{\"gridcolor\":\"white\",\"linecolor\":\"white\",\"ticks\":\"\"}},\"coloraxis\":{\"colorbar\":{\"outlinewidth\":0,\"ticks\":\"\"}},\"colorscale\":{\"sequential\":[[0.0,\"#0d0887\"],[0.1111111111111111,\"#46039f\"],[0.2222222222222222,\"#7201a8\"],[0.3333333333333333,\"#9c179e\"],[0.4444444444444444,\"#bd3786\"],[0.5555555555555556,\"#d8576b\"],[0.6666666666666666,\"#ed7953\"],[0.7777777777777778,\"#fb9f3a\"],[0.8888888888888888,\"#fdca26\"],[1.0,\"#f0f921\"]],\"sequentialminus\":[[0.0,\"#0d0887\"],[0.1111111111111111,\"#46039f\"],[0.2222222222222222,\"#7201a8\"],[0.3333333333333333,\"#9c179e\"],[0.4444444444444444,\"#bd3786\"],[0.5555555555555556,\"#d8576b\"],[0.6666666666666666,\"#ed7953\"],[0.7777777777777778,\"#fb9f3a\"],[0.8888888888888888,\"#fdca26\"],[1.0,\"#f0f921\"]],\"diverging\":[[0,\"#8e0152\"],[0.1,\"#c51b7d\"],[0.2,\"#de77ae\"],[0.3,\"#f1b6da\"],[0.4,\"#fde0ef\"],[0.5,\"#f7f7f7\"],[0.6,\"#e6f5d0\"],[0.7,\"#b8e186\"],[0.8,\"#7fbc41\"],[0.9,\"#4d9221\"],[1,\"#276419\"]]},\"xaxis\":{\"gridcolor\":\"white\",\"linecolor\":\"white\",\"ticks\":\"\",\"title\":{\"standoff\":15},\"zerolinecolor\":\"white\",\"automargin\":true,\"zerolinewidth\":2},\"yaxis\":{\"gridcolor\":\"white\",\"linecolor\":\"white\",\"ticks\":\"\",\"title\":{\"standoff\":15},\"zerolinecolor\":\"white\",\"automargin\":true,\"zerolinewidth\":2},\"scene\":{\"xaxis\":{\"backgroundcolor\":\"#E5ECF6\",\"gridcolor\":\"white\",\"linecolor\":\"white\",\"showbackground\":true,\"ticks\":\"\",\"zerolinecolor\":\"white\",\"gridwidth\":2},\"yaxis\":{\"backgroundcolor\":\"#E5ECF6\",\"gridcolor\":\"white\",\"linecolor\":\"white\",\"showbackground\":true,\"ticks\":\"\",\"zerolinecolor\":\"white\",\"gridwidth\":2},\"zaxis\":{\"backgroundcolor\":\"#E5ECF6\",\"gridcolor\":\"white\",\"linecolor\":\"white\",\"showbackground\":true,\"ticks\":\"\",\"zerolinecolor\":\"white\",\"gridwidth\":2}},\"shapedefaults\":{\"line\":{\"color\":\"#2a3f5f\"}},\"annotationdefaults\":{\"arrowcolor\":\"#2a3f5f\",\"arrowhead\":0,\"arrowwidth\":1},\"geo\":{\"bgcolor\":\"white\",\"landcolor\":\"#E5ECF6\",\"subunitcolor\":\"white\",\"showland\":true,\"showlakes\":true,\"lakecolor\":\"white\"},\"title\":{\"x\":0.05},\"mapbox\":{\"style\":\"light\"}}},\"xaxis\":{\"anchor\":\"y\",\"domain\":[0.0,1.0],\"title\":{\"text\":\"Company\"},\"categoryorder\":\"array\",\"categoryarray\":[\"Unclassified\",\"Kaiser Permanente\",\"University of California\",\"The Judge Group\",\"California Public Employees' Retirement System\",\"Cognizant Technology Solutions\",\"Baer Group\"],\"tickangle\":-45},\"yaxis\":{\"anchor\":\"x\",\"domain\":[0.0,1.0],\"title\":{\"text\":\"Remote Job Postings\"}},\"legend\":{\"title\":{\"text\":\"Company\"},\"tracegroupgap\":0},\"title\":{\"text\":\"Top 7 Companies with the Most Remote Jobs in California\"},\"barmode\":\"relative\",\"height\":750,\"margin\":{\"l\":40,\"r\":40,\"t\":80,\"b\":100},\"showlegend\":false,\"paper_bgcolor\":\"#F9F9F9\",\"plot_bgcolor\":\"#FFFFFF\"},                        {\"responsive\": true}                    ).then(function(){\n",
       "                            \n",
       "var gd = document.getElementById('8a56e62f-ca3d-4fc3-adff-ca6db87ca925');\n",
       "var x = new MutationObserver(function (mutations, observer) {{\n",
       "        var display = window.getComputedStyle(gd).display;\n",
       "        if (!display || display === 'none') {{\n",
       "            console.log([gd, 'removed!']);\n",
       "            Plotly.purge(gd);\n",
       "            observer.disconnect();\n",
       "        }}\n",
       "}});\n",
       "\n",
       "// Listen for the removal of the full notebook cells\n",
       "var notebookContainer = gd.closest('#notebook-container');\n",
       "if (notebookContainer) {{\n",
       "    x.observe(notebookContainer, {childList: true});\n",
       "}}\n",
       "\n",
       "// Listen for the clearing of the current output cell\n",
       "var outputEl = gd.closest('.output');\n",
       "if (outputEl) {{\n",
       "    x.observe(outputEl, {childList: true});\n",
       "}}\n",
       "\n",
       "                        })                };                });            </script>        </div>"
      ]
     },
     "metadata": {},
     "output_type": "display_data"
    }
   ],
   "source": [
    "fig_02 = px.bar(\n",
    "    df_remote_ca,\n",
    "    x=\"company_name\",\n",
    "    y=\"remote_jobs\",\n",
    "    text=\"remote_jobs\",\n",
    "    title=\"Top 7 Companies with the Most Remote Jobs in California\",\n",
    "    labels={\n",
    "        \"company_name\": \"Company\",\n",
    "        \"remote_jobs\": \"Remote Job Postings\"\n",
    "    },\n",
    "    color=\"company_name\", \n",
    "    color_discrete_sequence=px.colors.qualitative.Pastel2,\n",
    "    height=750\n",
    ")\n",
    "\n",
    "fig_02.update_layout(\n",
    "    showlegend=False,\n",
    "    xaxis_tickangle=-45,\n",
    "    xaxis_title=\"Company\",\n",
    "    yaxis_title=\"Remote Job Postings\",\n",
    "    paper_bgcolor=\"#F9F9F9\",\n",
    "    plot_bgcolor=\"#FFFFFF\",\n",
    "    margin=dict(l=40, r=40, t=80, b=100)\n",
    ")\n",
    "\n",
    "fig_02.update_traces(textposition='outside')\n",
    "fig_02.show()"
   ]
  },
  {
   "cell_type": "markdown",
   "id": "9d185d55-898f-4561-bad5-cff9197c8c5c",
   "metadata": {},
   "source": [
    "*__query 3__*"
   ]
  },
  {
   "cell_type": "code",
   "execution_count": 58,
   "id": "56bb6b49-0910-4cf1-8e39-7b80f949b94b",
   "metadata": {},
   "outputs": [],
   "source": [
    "query_03 = \"\"\"\n",
    "SELECT \n",
    "    j.POSTED,\n",
    "    l.STATE_NAME\n",
    "FROM job_postings j\n",
    "JOIN locations l ON j.LOCATION_ID = l.LOCATION_ID\n",
    "WHERE l.STATE_NAME = 'California'\n",
    "  AND j.POSTED IS NOT NULL\n",
    "\"\"\"\n",
    "df_posted = con.execute(query_03).df()"
   ]
  },
  {
   "cell_type": "code",
   "execution_count": 59,
   "id": "1dbb7e4e-ae97-4788-bb39-74aba1532da5",
   "metadata": {},
   "outputs": [],
   "source": [
    "df_posted[\"POSTED\"] = pd.to_datetime(df_posted[\"POSTED\"], format=\"%m/%d/%Y\", errors=\"coerce\")"
   ]
  },
  {
   "cell_type": "code",
   "execution_count": 60,
   "id": "7159f0c6-c7c4-4f1a-a1e1-e4e4400a8efd",
   "metadata": {},
   "outputs": [],
   "source": [
    "df_posted = df_posted.dropna(subset=[\"POSTED\"])\n",
    "\n",
    "df_posted[\"year\"] = df_posted[\"POSTED\"].dt.year\n",
    "df_posted[\"month\"] = df_posted[\"POSTED\"].dt.month\n",
    "df_posted[\"date\"] = df_posted[\"POSTED\"].dt.to_period(\"M\").dt.to_timestamp()\n",
    "\n",
    "df_monthly = (\n",
    "    df_posted\n",
    "    .groupby([\"year\", \"month\", \"date\"])\n",
    "    .size()\n",
    "    .reset_index(name=\"job_count\")\n",
    "    .sort_values(\"date\")\n",
    ")"
   ]
  },
  {
   "cell_type": "code",
   "execution_count": 61,
   "id": "18cb70e0-5fb8-4081-8f83-f32debaef89f",
   "metadata": {},
   "outputs": [
    {
     "name": "stdout",
     "output_type": "stream",
     "text": [
      "Trendline Y values: [1334.2 1355.6 1377.  1398.4 1419.8]\n"
     ]
    }
   ],
   "source": [
    "df_monthly_sorted = df_monthly.sort_values(\"date\").reset_index(drop=True)\n",
    "\n",
    "x_numeric = np.arange(len(df_monthly_sorted))\n",
    "y = df_monthly_sorted[\"job_count\"].values\n",
    "\n",
    "z = np.polyfit(x_numeric, y, 1)\n",
    "p = np.poly1d(z)\n",
    "\n",
    "print(\"Trendline Y values:\", p(x_numeric))"
   ]
  },
  {
   "cell_type": "code",
   "execution_count": 62,
   "id": "b89faf4d-74b4-406a-ac43-941547ba7182",
   "metadata": {},
   "outputs": [],
   "source": [
    "tickvals = pd.date_range(\"2024-05-01\", \"2024-09-01\", freq=\"MS\")\n",
    "ticktext = tickvals.strftime(\"%B\") "
   ]
  },
  {
   "cell_type": "code",
   "execution_count": 63,
   "id": "467de556-671a-4432-a6c1-f7be6bbbe4b3",
   "metadata": {},
   "outputs": [
    {
     "data": {
      "application/vnd.plotly.v1+json": {
       "config": {
        "plotlyServerURL": "https://plot.ly"
       },
       "data": [
        {
         "line": {
          "color": "royalblue",
          "width": 4
         },
         "marker": {
          "size": 6
         },
         "mode": "lines+markers",
         "name": "Postings",
         "type": "scatter",
         "x": [
          "2024-05-01T00:00:00",
          "2024-06-01T00:00:00",
          "2024-07-01T00:00:00",
          "2024-08-01T00:00:00",
          "2024-09-01T00:00:00"
         ],
         "y": [
          1450,
          1317,
          1219,
          1367,
          1532
         ]
        },
        {
         "line": {
          "color": "lightcoral",
          "dash": "dash",
          "width": 2
         },
         "mode": "lines",
         "name": "Trendline",
         "type": "scatter",
         "x": [
          "2024-05-01T00:00:00",
          "2024-06-01T00:00:00",
          "2024-07-01T00:00:00",
          "2024-08-01T00:00:00",
          "2024-09-01T00:00:00"
         ],
         "y": [
          1334.1999999999994,
          1355.5999999999995,
          1376.9999999999993,
          1398.3999999999994,
          1419.7999999999993
         ]
        }
       ],
       "layout": {
        "autosize": true,
        "legend": {
         "title": {
          "text": "Legend"
         }
        },
        "margin": {
         "b": 60,
         "l": 40,
         "r": 40,
         "t": 80
        },
        "paper_bgcolor": "#F9F9F9",
        "plot_bgcolor": "#FFFFFF",
        "template": {
         "data": {
          "bar": [
           {
            "error_x": {
             "color": "#2a3f5f"
            },
            "error_y": {
             "color": "#2a3f5f"
            },
            "marker": {
             "line": {
              "color": "#E5ECF6",
              "width": 0.5
             },
             "pattern": {
              "fillmode": "overlay",
              "size": 10,
              "solidity": 0.2
             }
            },
            "type": "bar"
           }
          ],
          "barpolar": [
           {
            "marker": {
             "line": {
              "color": "#E5ECF6",
              "width": 0.5
             },
             "pattern": {
              "fillmode": "overlay",
              "size": 10,
              "solidity": 0.2
             }
            },
            "type": "barpolar"
           }
          ],
          "carpet": [
           {
            "aaxis": {
             "endlinecolor": "#2a3f5f",
             "gridcolor": "white",
             "linecolor": "white",
             "minorgridcolor": "white",
             "startlinecolor": "#2a3f5f"
            },
            "baxis": {
             "endlinecolor": "#2a3f5f",
             "gridcolor": "white",
             "linecolor": "white",
             "minorgridcolor": "white",
             "startlinecolor": "#2a3f5f"
            },
            "type": "carpet"
           }
          ],
          "choropleth": [
           {
            "colorbar": {
             "outlinewidth": 0,
             "ticks": ""
            },
            "type": "choropleth"
           }
          ],
          "contour": [
           {
            "colorbar": {
             "outlinewidth": 0,
             "ticks": ""
            },
            "colorscale": [
             [
              0,
              "#0d0887"
             ],
             [
              0.1111111111111111,
              "#46039f"
             ],
             [
              0.2222222222222222,
              "#7201a8"
             ],
             [
              0.3333333333333333,
              "#9c179e"
             ],
             [
              0.4444444444444444,
              "#bd3786"
             ],
             [
              0.5555555555555556,
              "#d8576b"
             ],
             [
              0.6666666666666666,
              "#ed7953"
             ],
             [
              0.7777777777777778,
              "#fb9f3a"
             ],
             [
              0.8888888888888888,
              "#fdca26"
             ],
             [
              1,
              "#f0f921"
             ]
            ],
            "type": "contour"
           }
          ],
          "contourcarpet": [
           {
            "colorbar": {
             "outlinewidth": 0,
             "ticks": ""
            },
            "type": "contourcarpet"
           }
          ],
          "heatmap": [
           {
            "colorbar": {
             "outlinewidth": 0,
             "ticks": ""
            },
            "colorscale": [
             [
              0,
              "#0d0887"
             ],
             [
              0.1111111111111111,
              "#46039f"
             ],
             [
              0.2222222222222222,
              "#7201a8"
             ],
             [
              0.3333333333333333,
              "#9c179e"
             ],
             [
              0.4444444444444444,
              "#bd3786"
             ],
             [
              0.5555555555555556,
              "#d8576b"
             ],
             [
              0.6666666666666666,
              "#ed7953"
             ],
             [
              0.7777777777777778,
              "#fb9f3a"
             ],
             [
              0.8888888888888888,
              "#fdca26"
             ],
             [
              1,
              "#f0f921"
             ]
            ],
            "type": "heatmap"
           }
          ],
          "heatmapgl": [
           {
            "colorbar": {
             "outlinewidth": 0,
             "ticks": ""
            },
            "colorscale": [
             [
              0,
              "#0d0887"
             ],
             [
              0.1111111111111111,
              "#46039f"
             ],
             [
              0.2222222222222222,
              "#7201a8"
             ],
             [
              0.3333333333333333,
              "#9c179e"
             ],
             [
              0.4444444444444444,
              "#bd3786"
             ],
             [
              0.5555555555555556,
              "#d8576b"
             ],
             [
              0.6666666666666666,
              "#ed7953"
             ],
             [
              0.7777777777777778,
              "#fb9f3a"
             ],
             [
              0.8888888888888888,
              "#fdca26"
             ],
             [
              1,
              "#f0f921"
             ]
            ],
            "type": "heatmapgl"
           }
          ],
          "histogram": [
           {
            "marker": {
             "pattern": {
              "fillmode": "overlay",
              "size": 10,
              "solidity": 0.2
             }
            },
            "type": "histogram"
           }
          ],
          "histogram2d": [
           {
            "colorbar": {
             "outlinewidth": 0,
             "ticks": ""
            },
            "colorscale": [
             [
              0,
              "#0d0887"
             ],
             [
              0.1111111111111111,
              "#46039f"
             ],
             [
              0.2222222222222222,
              "#7201a8"
             ],
             [
              0.3333333333333333,
              "#9c179e"
             ],
             [
              0.4444444444444444,
              "#bd3786"
             ],
             [
              0.5555555555555556,
              "#d8576b"
             ],
             [
              0.6666666666666666,
              "#ed7953"
             ],
             [
              0.7777777777777778,
              "#fb9f3a"
             ],
             [
              0.8888888888888888,
              "#fdca26"
             ],
             [
              1,
              "#f0f921"
             ]
            ],
            "type": "histogram2d"
           }
          ],
          "histogram2dcontour": [
           {
            "colorbar": {
             "outlinewidth": 0,
             "ticks": ""
            },
            "colorscale": [
             [
              0,
              "#0d0887"
             ],
             [
              0.1111111111111111,
              "#46039f"
             ],
             [
              0.2222222222222222,
              "#7201a8"
             ],
             [
              0.3333333333333333,
              "#9c179e"
             ],
             [
              0.4444444444444444,
              "#bd3786"
             ],
             [
              0.5555555555555556,
              "#d8576b"
             ],
             [
              0.6666666666666666,
              "#ed7953"
             ],
             [
              0.7777777777777778,
              "#fb9f3a"
             ],
             [
              0.8888888888888888,
              "#fdca26"
             ],
             [
              1,
              "#f0f921"
             ]
            ],
            "type": "histogram2dcontour"
           }
          ],
          "mesh3d": [
           {
            "colorbar": {
             "outlinewidth": 0,
             "ticks": ""
            },
            "type": "mesh3d"
           }
          ],
          "parcoords": [
           {
            "line": {
             "colorbar": {
              "outlinewidth": 0,
              "ticks": ""
             }
            },
            "type": "parcoords"
           }
          ],
          "pie": [
           {
            "automargin": true,
            "type": "pie"
           }
          ],
          "scatter": [
           {
            "fillpattern": {
             "fillmode": "overlay",
             "size": 10,
             "solidity": 0.2
            },
            "type": "scatter"
           }
          ],
          "scatter3d": [
           {
            "line": {
             "colorbar": {
              "outlinewidth": 0,
              "ticks": ""
             }
            },
            "marker": {
             "colorbar": {
              "outlinewidth": 0,
              "ticks": ""
             }
            },
            "type": "scatter3d"
           }
          ],
          "scattercarpet": [
           {
            "marker": {
             "colorbar": {
              "outlinewidth": 0,
              "ticks": ""
             }
            },
            "type": "scattercarpet"
           }
          ],
          "scattergeo": [
           {
            "marker": {
             "colorbar": {
              "outlinewidth": 0,
              "ticks": ""
             }
            },
            "type": "scattergeo"
           }
          ],
          "scattergl": [
           {
            "marker": {
             "colorbar": {
              "outlinewidth": 0,
              "ticks": ""
             }
            },
            "type": "scattergl"
           }
          ],
          "scattermapbox": [
           {
            "marker": {
             "colorbar": {
              "outlinewidth": 0,
              "ticks": ""
             }
            },
            "type": "scattermapbox"
           }
          ],
          "scatterpolar": [
           {
            "marker": {
             "colorbar": {
              "outlinewidth": 0,
              "ticks": ""
             }
            },
            "type": "scatterpolar"
           }
          ],
          "scatterpolargl": [
           {
            "marker": {
             "colorbar": {
              "outlinewidth": 0,
              "ticks": ""
             }
            },
            "type": "scatterpolargl"
           }
          ],
          "scatterternary": [
           {
            "marker": {
             "colorbar": {
              "outlinewidth": 0,
              "ticks": ""
             }
            },
            "type": "scatterternary"
           }
          ],
          "surface": [
           {
            "colorbar": {
             "outlinewidth": 0,
             "ticks": ""
            },
            "colorscale": [
             [
              0,
              "#0d0887"
             ],
             [
              0.1111111111111111,
              "#46039f"
             ],
             [
              0.2222222222222222,
              "#7201a8"
             ],
             [
              0.3333333333333333,
              "#9c179e"
             ],
             [
              0.4444444444444444,
              "#bd3786"
             ],
             [
              0.5555555555555556,
              "#d8576b"
             ],
             [
              0.6666666666666666,
              "#ed7953"
             ],
             [
              0.7777777777777778,
              "#fb9f3a"
             ],
             [
              0.8888888888888888,
              "#fdca26"
             ],
             [
              1,
              "#f0f921"
             ]
            ],
            "type": "surface"
           }
          ],
          "table": [
           {
            "cells": {
             "fill": {
              "color": "#EBF0F8"
             },
             "line": {
              "color": "white"
             }
            },
            "header": {
             "fill": {
              "color": "#C8D4E3"
             },
             "line": {
              "color": "white"
             }
            },
            "type": "table"
           }
          ]
         },
         "layout": {
          "annotationdefaults": {
           "arrowcolor": "#2a3f5f",
           "arrowhead": 0,
           "arrowwidth": 1
          },
          "autotypenumbers": "strict",
          "coloraxis": {
           "colorbar": {
            "outlinewidth": 0,
            "ticks": ""
           }
          },
          "colorscale": {
           "diverging": [
            [
             0,
             "#8e0152"
            ],
            [
             0.1,
             "#c51b7d"
            ],
            [
             0.2,
             "#de77ae"
            ],
            [
             0.3,
             "#f1b6da"
            ],
            [
             0.4,
             "#fde0ef"
            ],
            [
             0.5,
             "#f7f7f7"
            ],
            [
             0.6,
             "#e6f5d0"
            ],
            [
             0.7,
             "#b8e186"
            ],
            [
             0.8,
             "#7fbc41"
            ],
            [
             0.9,
             "#4d9221"
            ],
            [
             1,
             "#276419"
            ]
           ],
           "sequential": [
            [
             0,
             "#0d0887"
            ],
            [
             0.1111111111111111,
             "#46039f"
            ],
            [
             0.2222222222222222,
             "#7201a8"
            ],
            [
             0.3333333333333333,
             "#9c179e"
            ],
            [
             0.4444444444444444,
             "#bd3786"
            ],
            [
             0.5555555555555556,
             "#d8576b"
            ],
            [
             0.6666666666666666,
             "#ed7953"
            ],
            [
             0.7777777777777778,
             "#fb9f3a"
            ],
            [
             0.8888888888888888,
             "#fdca26"
            ],
            [
             1,
             "#f0f921"
            ]
           ],
           "sequentialminus": [
            [
             0,
             "#0d0887"
            ],
            [
             0.1111111111111111,
             "#46039f"
            ],
            [
             0.2222222222222222,
             "#7201a8"
            ],
            [
             0.3333333333333333,
             "#9c179e"
            ],
            [
             0.4444444444444444,
             "#bd3786"
            ],
            [
             0.5555555555555556,
             "#d8576b"
            ],
            [
             0.6666666666666666,
             "#ed7953"
            ],
            [
             0.7777777777777778,
             "#fb9f3a"
            ],
            [
             0.8888888888888888,
             "#fdca26"
            ],
            [
             1,
             "#f0f921"
            ]
           ]
          },
          "colorway": [
           "#636efa",
           "#EF553B",
           "#00cc96",
           "#ab63fa",
           "#FFA15A",
           "#19d3f3",
           "#FF6692",
           "#B6E880",
           "#FF97FF",
           "#FECB52"
          ],
          "font": {
           "color": "#2a3f5f"
          },
          "geo": {
           "bgcolor": "white",
           "lakecolor": "white",
           "landcolor": "#E5ECF6",
           "showlakes": true,
           "showland": true,
           "subunitcolor": "white"
          },
          "hoverlabel": {
           "align": "left"
          },
          "hovermode": "closest",
          "mapbox": {
           "style": "light"
          },
          "paper_bgcolor": "white",
          "plot_bgcolor": "#E5ECF6",
          "polar": {
           "angularaxis": {
            "gridcolor": "white",
            "linecolor": "white",
            "ticks": ""
           },
           "bgcolor": "#E5ECF6",
           "radialaxis": {
            "gridcolor": "white",
            "linecolor": "white",
            "ticks": ""
           }
          },
          "scene": {
           "xaxis": {
            "backgroundcolor": "#E5ECF6",
            "gridcolor": "white",
            "gridwidth": 2,
            "linecolor": "white",
            "showbackground": true,
            "ticks": "",
            "zerolinecolor": "white"
           },
           "yaxis": {
            "backgroundcolor": "#E5ECF6",
            "gridcolor": "white",
            "gridwidth": 2,
            "linecolor": "white",
            "showbackground": true,
            "ticks": "",
            "zerolinecolor": "white"
           },
           "zaxis": {
            "backgroundcolor": "#E5ECF6",
            "gridcolor": "white",
            "gridwidth": 2,
            "linecolor": "white",
            "showbackground": true,
            "ticks": "",
            "zerolinecolor": "white"
           }
          },
          "shapedefaults": {
           "line": {
            "color": "#2a3f5f"
           }
          },
          "ternary": {
           "aaxis": {
            "gridcolor": "white",
            "linecolor": "white",
            "ticks": ""
           },
           "baxis": {
            "gridcolor": "white",
            "linecolor": "white",
            "ticks": ""
           },
           "bgcolor": "#E5ECF6",
           "caxis": {
            "gridcolor": "white",
            "linecolor": "white",
            "ticks": ""
           }
          },
          "title": {
           "x": 0.05
          },
          "xaxis": {
           "automargin": true,
           "gridcolor": "white",
           "linecolor": "white",
           "ticks": "",
           "title": {
            "standoff": 15
           },
           "zerolinecolor": "white",
           "zerolinewidth": 2
          },
          "yaxis": {
           "automargin": true,
           "gridcolor": "white",
           "linecolor": "white",
           "ticks": "",
           "title": {
            "standoff": 15
           },
           "zerolinecolor": "white",
           "zerolinewidth": 2
          }
         }
        },
        "title": {
         "text": "Monthly Job Postings in California"
        },
        "xaxis": {
         "autorange": true,
         "range": [
          "2024-04-23 12:44:28.85",
          "2024-09-08 11:15:31.15"
         ],
         "tickmode": "array",
         "ticktext": [
          "May",
          "June",
          "July",
          "August",
          "September"
         ],
         "tickvals": [
          "2024-05-01T00:00:00",
          "2024-06-01T00:00:00",
          "2024-07-01T00:00:00",
          "2024-08-01T00:00:00",
          "2024-09-01T00:00:00"
         ],
         "title": {
          "text": "Month"
         },
         "type": "date"
        },
        "yaxis": {
         "range": [
          1000,
          1700
         ],
         "title": {
          "text": "Job Postings"
         },
         "type": "linear"
        }
       }
      },
      "image/png": "[encoded data removed]",
      "text/html": [
       "<div>                            <div id=\"45af8bb9-fb7b-4898-989e-a06521399219\" class=\"plotly-graph-div\" style=\"height:525px; width:100%;\"></div>            <script type=\"text/javascript\">                require([\"plotly\"], function(Plotly) {                    window.PLOTLYENV=window.PLOTLYENV || {};                                    if (document.getElementById(\"45af8bb9-fb7b-4898-989e-a06521399219\")) {                    Plotly.newPlot(                        \"45af8bb9-fb7b-4898-989e-a06521399219\",                        [{\"line\":{\"color\":\"royalblue\",\"width\":4},\"marker\":{\"size\":6},\"mode\":\"lines+markers\",\"name\":\"Postings\",\"x\":[\"2024-05-01T00:00:00\",\"2024-06-01T00:00:00\",\"2024-07-01T00:00:00\",\"2024-08-01T00:00:00\",\"2024-09-01T00:00:00\"],\"y\":[1450,1317,1219,1367,1532],\"type\":\"scatter\"},{\"line\":{\"color\":\"lightcoral\",\"dash\":\"dash\",\"width\":2},\"mode\":\"lines\",\"name\":\"Trendline\",\"x\":[\"2024-05-01T00:00:00\",\"2024-06-01T00:00:00\",\"2024-07-01T00:00:00\",\"2024-08-01T00:00:00\",\"2024-09-01T00:00:00\"],\"y\":[1334.1999999999994,1355.5999999999995,1376.9999999999993,1398.3999999999994,1419.7999999999993],\"type\":\"scatter\"}],                        {\"template\":{\"data\":{\"histogram2dcontour\":[{\"type\":\"histogram2dcontour\",\"colorbar\":{\"outlinewidth\":0,\"ticks\":\"\"},\"colorscale\":[[0.0,\"#0d0887\"],[0.1111111111111111,\"#46039f\"],[0.2222222222222222,\"#7201a8\"],[0.3333333333333333,\"#9c179e\"],[0.4444444444444444,\"#bd3786\"],[0.5555555555555556,\"#d8576b\"],[0.6666666666666666,\"#ed7953\"],[0.7777777777777778,\"#fb9f3a\"],[0.8888888888888888,\"#fdca26\"],[1.0,\"#f0f921\"]]}],\"choropleth\":[{\"type\":\"choropleth\",\"colorbar\":{\"outlinewidth\":0,\"ticks\":\"\"}}],\"histogram2d\":[{\"type\":\"histogram2d\",\"colorbar\":{\"outlinewidth\":0,\"ticks\":\"\"},\"colorscale\":[[0.0,\"#0d0887\"],[0.1111111111111111,\"#46039f\"],[0.2222222222222222,\"#7201a8\"],[0.3333333333333333,\"#9c179e\"],[0.4444444444444444,\"#bd3786\"],[0.5555555555555556,\"#d8576b\"],[0.6666666666666666,\"#ed7953\"],[0.7777777777777778,\"#fb9f3a\"],[0.8888888888888888,\"#fdca26\"],[1.0,\"#f0f921\"]]}],\"heatmap\":[{\"type\":\"heatmap\",\"colorbar\":{\"outlinewidth\":0,\"ticks\":\"\"},\"colorscale\":[[0.0,\"#0d0887\"],[0.1111111111111111,\"#46039f\"],[0.2222222222222222,\"#7201a8\"],[0.3333333333333333,\"#9c179e\"],[0.4444444444444444,\"#bd3786\"],[0.5555555555555556,\"#d8576b\"],[0.6666666666666666,\"#ed7953\"],[0.7777777777777778,\"#fb9f3a\"],[0.8888888888888888,\"#fdca26\"],[1.0,\"#f0f921\"]]}],\"heatmapgl\":[{\"type\":\"heatmapgl\",\"colorbar\":{\"outlinewidth\":0,\"ticks\":\"\"},\"colorscale\":[[0.0,\"#0d0887\"],[0.1111111111111111,\"#46039f\"],[0.2222222222222222,\"#7201a8\"],[0.3333333333333333,\"#9c179e\"],[0.4444444444444444,\"#bd3786\"],[0.5555555555555556,\"#d8576b\"],[0.6666666666666666,\"#ed7953\"],[0.7777777777777778,\"#fb9f3a\"],[0.8888888888888888,\"#fdca26\"],[1.0,\"#f0f921\"]]}],\"contourcarpet\":[{\"type\":\"contourcarpet\",\"colorbar\":{\"outlinewidth\":0,\"ticks\":\"\"}}],\"contour\":[{\"type\":\"contour\",\"colorbar\":{\"outlinewidth\":0,\"ticks\":\"\"},\"colorscale\":[[0.0,\"#0d0887\"],[0.1111111111111111,\"#46039f\"],[0.2222222222222222,\"#7201a8\"],[0.3333333333333333,\"#9c179e\"],[0.4444444444444444,\"#bd3786\"],[0.5555555555555556,\"#d8576b\"],[0.6666666666666666,\"#ed7953\"],[0.7777777777777778,\"#fb9f3a\"],[0.8888888888888888,\"#fdca26\"],[1.0,\"#f0f921\"]]}],\"surface\":[{\"type\":\"surface\",\"colorbar\":{\"outlinewidth\":0,\"ticks\":\"\"},\"colorscale\":[[0.0,\"#0d0887\"],[0.1111111111111111,\"#46039f\"],[0.2222222222222222,\"#7201a8\"],[0.3333333333333333,\"#9c179e\"],[0.4444444444444444,\"#bd3786\"],[0.5555555555555556,\"#d8576b\"],[0.6666666666666666,\"#ed7953\"],[0.7777777777777778,\"#fb9f3a\"],[0.8888888888888888,\"#fdca26\"],[1.0,\"#f0f921\"]]}],\"mesh3d\":[{\"type\":\"mesh3d\",\"colorbar\":{\"outlinewidth\":0,\"ticks\":\"\"}}],\"scatter\":[{\"fillpattern\":{\"fillmode\":\"overlay\",\"size\":10,\"solidity\":0.2},\"type\":\"scatter\"}],\"parcoords\":[{\"type\":\"parcoords\",\"line\":{\"colorbar\":{\"outlinewidth\":0,\"ticks\":\"\"}}}],\"scatterpolargl\":[{\"type\":\"scatterpolargl\",\"marker\":{\"colorbar\":{\"outlinewidth\":0,\"ticks\":\"\"}}}],\"bar\":[{\"error_x\":{\"color\":\"#2a3f5f\"},\"error_y\":{\"color\":\"#2a3f5f\"},\"marker\":{\"line\":{\"color\":\"#E5ECF6\",\"width\":0.5},\"pattern\":{\"fillmode\":\"overlay\",\"size\":10,\"solidity\":0.2}},\"type\":\"bar\"}],\"scattergeo\":[{\"type\":\"scattergeo\",\"marker\":{\"colorbar\":{\"outlinewidth\":0,\"ticks\":\"\"}}}],\"scatterpolar\":[{\"type\":\"scatterpolar\",\"marker\":{\"colorbar\":{\"outlinewidth\":0,\"ticks\":\"\"}}}],\"histogram\":[{\"marker\":{\"pattern\":{\"fillmode\":\"overlay\",\"size\":10,\"solidity\":0.2}},\"type\":\"histogram\"}],\"scattergl\":[{\"type\":\"scattergl\",\"marker\":{\"colorbar\":{\"outlinewidth\":0,\"ticks\":\"\"}}}],\"scatter3d\":[{\"type\":\"scatter3d\",\"line\":{\"colorbar\":{\"outlinewidth\":0,\"ticks\":\"\"}},\"marker\":{\"colorbar\":{\"outlinewidth\":0,\"ticks\":\"\"}}}],\"scattermapbox\":[{\"type\":\"scattermapbox\",\"marker\":{\"colorbar\":{\"outlinewidth\":0,\"ticks\":\"\"}}}],\"scatterternary\":[{\"type\":\"scatterternary\",\"marker\":{\"colorbar\":{\"outlinewidth\":0,\"ticks\":\"\"}}}],\"scattercarpet\":[{\"type\":\"scattercarpet\",\"marker\":{\"colorbar\":{\"outlinewidth\":0,\"ticks\":\"\"}}}],\"carpet\":[{\"aaxis\":{\"endlinecolor\":\"#2a3f5f\",\"gridcolor\":\"white\",\"linecolor\":\"white\",\"minorgridcolor\":\"white\",\"startlinecolor\":\"#2a3f5f\"},\"baxis\":{\"endlinecolor\":\"#2a3f5f\",\"gridcolor\":\"white\",\"linecolor\":\"white\",\"minorgridcolor\":\"white\",\"startlinecolor\":\"#2a3f5f\"},\"type\":\"carpet\"}],\"table\":[{\"cells\":{\"fill\":{\"color\":\"#EBF0F8\"},\"line\":{\"color\":\"white\"}},\"header\":{\"fill\":{\"color\":\"#C8D4E3\"},\"line\":{\"color\":\"white\"}},\"type\":\"table\"}],\"barpolar\":[{\"marker\":{\"line\":{\"color\":\"#E5ECF6\",\"width\":0.5},\"pattern\":{\"fillmode\":\"overlay\",\"size\":10,\"solidity\":0.2}},\"type\":\"barpolar\"}],\"pie\":[{\"automargin\":true,\"type\":\"pie\"}]},\"layout\":{\"autotypenumbers\":\"strict\",\"colorway\":[\"#636efa\",\"#EF553B\",\"#00cc96\",\"#ab63fa\",\"#FFA15A\",\"#19d3f3\",\"#FF6692\",\"#B6E880\",\"#FF97FF\",\"#FECB52\"],\"font\":{\"color\":\"#2a3f5f\"},\"hovermode\":\"closest\",\"hoverlabel\":{\"align\":\"left\"},\"paper_bgcolor\":\"white\",\"plot_bgcolor\":\"#E5ECF6\",\"polar\":{\"bgcolor\":\"#E5ECF6\",\"angularaxis\":{\"gridcolor\":\"white\",\"linecolor\":\"white\",\"ticks\":\"\"},\"radialaxis\":{\"gridcolor\":\"white\",\"linecolor\":\"white\",\"ticks\":\"\"}},\"ternary\":{\"bgcolor\":\"#E5ECF6\",\"aaxis\":{\"gridcolor\":\"white\",\"linecolor\":\"white\",\"ticks\":\"\"},\"baxis\":{\"gridcolor\":\"white\",\"linecolor\":\"white\",\"ticks\":\"\"},\"caxis\":{\"gridcolor\":\"white\",\"linecolor\":\"white\",\"ticks\":\"\"}},\"coloraxis\":{\"colorbar\":{\"outlinewidth\":0,\"ticks\":\"\"}},\"colorscale\":{\"sequential\":[[0.0,\"#0d0887\"],[0.1111111111111111,\"#46039f\"],[0.2222222222222222,\"#7201a8\"],[0.3333333333333333,\"#9c179e\"],[0.4444444444444444,\"#bd3786\"],[0.5555555555555556,\"#d8576b\"],[0.6666666666666666,\"#ed7953\"],[0.7777777777777778,\"#fb9f3a\"],[0.8888888888888888,\"#fdca26\"],[1.0,\"#f0f921\"]],\"sequentialminus\":[[0.0,\"#0d0887\"],[0.1111111111111111,\"#46039f\"],[0.2222222222222222,\"#7201a8\"],[0.3333333333333333,\"#9c179e\"],[0.4444444444444444,\"#bd3786\"],[0.5555555555555556,\"#d8576b\"],[0.6666666666666666,\"#ed7953\"],[0.7777777777777778,\"#fb9f3a\"],[0.8888888888888888,\"#fdca26\"],[1.0,\"#f0f921\"]],\"diverging\":[[0,\"#8e0152\"],[0.1,\"#c51b7d\"],[0.2,\"#de77ae\"],[0.3,\"#f1b6da\"],[0.4,\"#fde0ef\"],[0.5,\"#f7f7f7\"],[0.6,\"#e6f5d0\"],[0.7,\"#b8e186\"],[0.8,\"#7fbc41\"],[0.9,\"#4d9221\"],[1,\"#276419\"]]},\"xaxis\":{\"gridcolor\":\"white\",\"linecolor\":\"white\",\"ticks\":\"\",\"title\":{\"standoff\":15},\"zerolinecolor\":\"white\",\"automargin\":true,\"zerolinewidth\":2},\"yaxis\":{\"gridcolor\":\"white\",\"linecolor\":\"white\",\"ticks\":\"\",\"title\":{\"standoff\":15},\"zerolinecolor\":\"white\",\"automargin\":true,\"zerolinewidth\":2},\"scene\":{\"xaxis\":{\"backgroundcolor\":\"#E5ECF6\",\"gridcolor\":\"white\",\"linecolor\":\"white\",\"showbackground\":true,\"ticks\":\"\",\"zerolinecolor\":\"white\",\"gridwidth\":2},\"yaxis\":{\"backgroundcolor\":\"#E5ECF6\",\"gridcolor\":\"white\",\"linecolor\":\"white\",\"showbackground\":true,\"ticks\":\"\",\"zerolinecolor\":\"white\",\"gridwidth\":2},\"zaxis\":{\"backgroundcolor\":\"#E5ECF6\",\"gridcolor\":\"white\",\"linecolor\":\"white\",\"showbackground\":true,\"ticks\":\"\",\"zerolinecolor\":\"white\",\"gridwidth\":2}},\"shapedefaults\":{\"line\":{\"color\":\"#2a3f5f\"}},\"annotationdefaults\":{\"arrowcolor\":\"#2a3f5f\",\"arrowhead\":0,\"arrowwidth\":1},\"geo\":{\"bgcolor\":\"white\",\"landcolor\":\"#E5ECF6\",\"subunitcolor\":\"white\",\"showland\":true,\"showlakes\":true,\"lakecolor\":\"white\"},\"title\":{\"x\":0.05},\"mapbox\":{\"style\":\"light\"}}},\"yaxis\":{\"title\":{\"text\":\"Job Postings\"},\"range\":[1000,1700]},\"xaxis\":{\"title\":{\"text\":\"Month\"},\"tickmode\":\"array\",\"tickvals\":[\"2024-05-01T00:00:00\",\"2024-06-01T00:00:00\",\"2024-07-01T00:00:00\",\"2024-08-01T00:00:00\",\"2024-09-01T00:00:00\"],\"ticktext\":[\"May\",\"June\",\"July\",\"August\",\"September\"]},\"margin\":{\"l\":40,\"r\":40,\"t\":80,\"b\":60},\"legend\":{\"title\":{\"text\":\"Legend\"}},\"title\":{\"text\":\"Monthly Job Postings in California\"},\"paper_bgcolor\":\"#F9F9F9\",\"plot_bgcolor\":\"#FFFFFF\"},                        {\"responsive\": true}                    ).then(function(){\n",
       "                            \n",
       "var gd = document.getElementById('45af8bb9-fb7b-4898-989e-a06521399219');\n",
       "var x = new MutationObserver(function (mutations, observer) {{\n",
       "        var display = window.getComputedStyle(gd).display;\n",
       "        if (!display || display === 'none') {{\n",
       "            console.log([gd, 'removed!']);\n",
       "            Plotly.purge(gd);\n",
       "            observer.disconnect();\n",
       "        }}\n",
       "}});\n",
       "\n",
       "// Listen for the removal of the full notebook cells\n",
       "var notebookContainer = gd.closest('#notebook-container');\n",
       "if (notebookContainer) {{\n",
       "    x.observe(notebookContainer, {childList: true});\n",
       "}}\n",
       "\n",
       "// Listen for the clearing of the current output cell\n",
       "var outputEl = gd.closest('.output');\n",
       "if (outputEl) {{\n",
       "    x.observe(outputEl, {childList: true});\n",
       "}}\n",
       "\n",
       "                        })                };                });            </script>        </div>"
      ]
     },
     "metadata": {},
     "output_type": "display_data"
    }
   ],
   "source": [
    "fig_03 = go.Figure()\n",
    "\n",
    "fig_03.add_trace(go.Scatter(\n",
    "    x=df_monthly_sorted[\"date\"],\n",
    "    y=df_monthly_sorted[\"job_count\"],\n",
    "    mode=\"lines+markers\",\n",
    "    name=\"Postings\", \n",
    "    line=dict(color=\"royalblue\", width=4),\n",
    "    marker=dict(size=6)\n",
    "))\n",
    "\n",
    "fig_03.add_trace(go.Scatter(\n",
    "    x=df_monthly_sorted[\"date\"],\n",
    "    y=p(x_numeric),  # Predicted trendline values\n",
    "    mode=\"lines\",\n",
    "    name=\"Trendline\",\n",
    "    line=dict(color=\"lightcoral\", dash=\"dash\", width=2)\n",
    "))\n",
    "\n",
    "fig_03.update_layout(\n",
    "    title=\"Monthly Job Postings in California\",\n",
    "    xaxis_title=\"Month\",\n",
    "    yaxis_title=\"Job Postings\",\n",
    "    yaxis=dict(range=[1000, 1700]),\n",
    "    xaxis=dict(\n",
    "        tickmode=\"array\",\n",
    "        tickvals=tickvals,\n",
    "        ticktext=ticktext\n",
    "    ),\n",
    "    paper_bgcolor=\"#F9F9F9\",\n",
    "    plot_bgcolor=\"#FFFFFF\",\n",
    "    margin=dict(l=40, r=40, t=80, b=60),\n",
    "    legend_title_text=\"Legend\"\n",
    ")\n",
    "\n",
    "fig_03.show()\n"
   ]
  },
  {
   "cell_type": "markdown",
   "id": "145c4780-8b62-4701-8bc2-e5c4e129b899",
   "metadata": {},
   "source": [
    "*__query 04__*"
   ]
  },
  {
   "cell_type": "code",
   "execution_count": 64,
   "id": "0f2cd476-3a3c-49ef-8987-f1df4e8f7aa9",
   "metadata": {},
   "outputs": [],
   "source": [
    "msa_map = {\n",
    "    14460: \"Boston\",\n",
    "    47900: \"Washington DC\",\n",
    "    35620: \"New York\",\n",
    "    41860: \"San Francisco\",\n",
    "    42660: \"Seattle\",\n",
    "    31080: \"Los Angeles\",\n",
    "    19100: \"Dallas\",\n",
    "    26420: \"Houston\",\n",
    "    12420: \"Austin\",\n",
    "    34980: \"Nashville\",\n",
    "    28140: \"Kansas City\",\n",
    "    19740: \"Denver\"\n",
    "}\n",
    "msa_codes_str = \",\".join(str(code) for code in msa_map.keys())  # '14460,47900,...'"
   ]
  },
  {
   "cell_type": "code",
   "execution_count": 65,
   "id": "d9a4918d-89f4-4b6d-8688-76c22cc587b2",
   "metadata": {},
   "outputs": [],
   "source": [
    "query_04 = f\"\"\"\n",
    "SELECT \n",
    "    l.MSA,\n",
    "    ROUND(AVG(j.SALARY), -2) AS avg_salary,\n",
    "    COUNT(*) AS job_count\n",
    "FROM job_postings j\n",
    "JOIN locations l ON j.LOCATION_ID = l.LOCATION_ID\n",
    "WHERE j.SALARY IS NOT NULL\n",
    "  AND j.SALARY > 0\n",
    "  AND l.MSA IN ({msa_codes_str})\n",
    "GROUP BY l.MSA\n",
    "ORDER BY avg_salary DESC\n",
    "\"\"\"\n",
    "df_cities = con.execute(query_04).df()"
   ]
  },
  {
   "cell_type": "code",
   "execution_count": 66,
   "id": "b9d59c91-bc33-495e-aaa8-91b8da7bb113",
   "metadata": {},
   "outputs": [],
   "source": [
    "df_cities[\"City\"] = df_cities[\"MSA\"].map(msa_map)\n",
    "df_cities = df_cities.sort_values(\"avg_salary\", ascending=False)"
   ]
  },
  {
   "cell_type": "code",
   "execution_count": 67,
   "id": "dfccc6db-031b-454b-a427-e34f1926e90d",
   "metadata": {},
   "outputs": [
    {
     "data": {
      "application/vnd.plotly.v1+json": {
       "config": {
        "plotlyServerURL": "https://plot.ly"
       },
       "data": [
        {
         "alignmentgroup": "True",
         "hovertemplate": "Metro Area=%{x}<br>Average Salary (USD)=%{text}<extra></extra>",
         "legendgroup": "San Francisco",
         "marker": {
          "color": "rgb(136, 204, 238)",
          "pattern": {
           "shape": ""
          }
         },
         "name": "San Francisco",
         "offsetgroup": "San Francisco",
         "orientation": "v",
         "showlegend": true,
         "text": [
          137300
         ],
         "textposition": "outside",
         "texttemplate": "$%{text}",
         "type": "bar",
         "x": [
          "San Francisco"
         ],
         "xaxis": "x",
         "y": [
          137300
         ],
         "yaxis": "y"
        },
        {
         "alignmentgroup": "True",
         "hovertemplate": "Metro Area=%{x}<br>Average Salary (USD)=%{text}<extra></extra>",
         "legendgroup": "Seattle",
         "marker": {
          "color": "rgb(204, 102, 119)",
          "pattern": {
           "shape": ""
          }
         },
         "name": "Seattle",
         "offsetgroup": "Seattle",
         "orientation": "v",
         "showlegend": true,
         "text": [
          129300
         ],
         "textposition": "outside",
         "texttemplate": "$%{text}",
         "type": "bar",
         "x": [
          "Seattle"
         ],
         "xaxis": "x",
         "y": [
          129300
         ],
         "yaxis": "y"
        },
        {
         "alignmentgroup": "True",
         "hovertemplate": "Metro Area=%{x}<br>Average Salary (USD)=%{text}<extra></extra>",
         "legendgroup": "Washington DC",
         "marker": {
          "color": "rgb(221, 204, 119)",
          "pattern": {
           "shape": ""
          }
         },
         "name": "Washington DC",
         "offsetgroup": "Washington DC",
         "orientation": "v",
         "showlegend": true,
         "text": [
          127300
         ],
         "textposition": "outside",
         "texttemplate": "$%{text}",
         "type": "bar",
         "x": [
          "Washington DC"
         ],
         "xaxis": "x",
         "y": [
          127300
         ],
         "yaxis": "y"
        },
        {
         "alignmentgroup": "True",
         "hovertemplate": "Metro Area=%{x}<br>Average Salary (USD)=%{text}<extra></extra>",
         "legendgroup": "New York",
         "marker": {
          "color": "rgb(17, 119, 51)",
          "pattern": {
           "shape": ""
          }
         },
         "name": "New York",
         "offsetgroup": "New York",
         "orientation": "v",
         "showlegend": true,
         "text": [
          124500
         ],
         "textposition": "outside",
         "texttemplate": "$%{text}",
         "type": "bar",
         "x": [
          "New York"
         ],
         "xaxis": "x",
         "y": [
          124500
         ],
         "yaxis": "y"
        },
        {
         "alignmentgroup": "True",
         "hovertemplate": "Metro Area=%{x}<br>Average Salary (USD)=%{text}<extra></extra>",
         "legendgroup": "Boston",
         "marker": {
          "color": "rgb(51, 34, 136)",
          "pattern": {
           "shape": ""
          }
         },
         "name": "Boston",
         "offsetgroup": "Boston",
         "orientation": "v",
         "showlegend": true,
         "text": [
          124200
         ],
         "textposition": "outside",
         "texttemplate": "$%{text}",
         "type": "bar",
         "x": [
          "Boston"
         ],
         "xaxis": "x",
         "y": [
          124200
         ],
         "yaxis": "y"
        },
        {
         "alignmentgroup": "True",
         "hovertemplate": "Metro Area=%{x}<br>Average Salary (USD)=%{text}<extra></extra>",
         "legendgroup": "Austin",
         "marker": {
          "color": "rgb(170, 68, 153)",
          "pattern": {
           "shape": ""
          }
         },
         "name": "Austin",
         "offsetgroup": "Austin",
         "orientation": "v",
         "showlegend": true,
         "text": [
          122100
         ],
         "textposition": "outside",
         "texttemplate": "$%{text}",
         "type": "bar",
         "x": [
          "Austin"
         ],
         "xaxis": "x",
         "y": [
          122100
         ],
         "yaxis": "y"
        },
        {
         "alignmentgroup": "True",
         "hovertemplate": "Metro Area=%{x}<br>Average Salary (USD)=%{text}<extra></extra>",
         "legendgroup": "Kansas City",
         "marker": {
          "color": "rgb(68, 170, 153)",
          "pattern": {
           "shape": ""
          }
         },
         "name": "Kansas City",
         "offsetgroup": "Kansas City",
         "orientation": "v",
         "showlegend": true,
         "text": [
          122100
         ],
         "textposition": "outside",
         "texttemplate": "$%{text}",
         "type": "bar",
         "x": [
          "Kansas City"
         ],
         "xaxis": "x",
         "y": [
          122100
         ],
         "yaxis": "y"
        },
        {
         "alignmentgroup": "True",
         "hovertemplate": "Metro Area=%{x}<br>Average Salary (USD)=%{text}<extra></extra>",
         "legendgroup": "Dallas",
         "marker": {
          "color": "rgb(153, 153, 51)",
          "pattern": {
           "shape": ""
          }
         },
         "name": "Dallas",
         "offsetgroup": "Dallas",
         "orientation": "v",
         "showlegend": true,
         "text": [
          121100
         ],
         "textposition": "outside",
         "texttemplate": "$%{text}",
         "type": "bar",
         "x": [
          "Dallas"
         ],
         "xaxis": "x",
         "y": [
          121100
         ],
         "yaxis": "y"
        },
        {
         "alignmentgroup": "True",
         "hovertemplate": "Metro Area=%{x}<br>Average Salary (USD)=%{text}<extra></extra>",
         "legendgroup": "Houston",
         "marker": {
          "color": "rgb(136, 34, 85)",
          "pattern": {
           "shape": ""
          }
         },
         "name": "Houston",
         "offsetgroup": "Houston",
         "orientation": "v",
         "showlegend": true,
         "text": [
          116400
         ],
         "textposition": "outside",
         "texttemplate": "$%{text}",
         "type": "bar",
         "x": [
          "Houston"
         ],
         "xaxis": "x",
         "y": [
          116400
         ],
         "yaxis": "y"
        },
        {
         "alignmentgroup": "True",
         "hovertemplate": "Metro Area=%{x}<br>Average Salary (USD)=%{text}<extra></extra>",
         "legendgroup": "Nashville",
         "marker": {
          "color": "rgb(102, 17, 0)",
          "pattern": {
           "shape": ""
          }
         },
         "name": "Nashville",
         "offsetgroup": "Nashville",
         "orientation": "v",
         "showlegend": true,
         "text": [
          116300
         ],
         "textposition": "outside",
         "texttemplate": "$%{text}",
         "type": "bar",
         "x": [
          "Nashville"
         ],
         "xaxis": "x",
         "y": [
          116300
         ],
         "yaxis": "y"
        },
        {
         "alignmentgroup": "True",
         "hovertemplate": "Metro Area=%{x}<br>Average Salary (USD)=%{text}<extra></extra>",
         "legendgroup": "Los Angeles",
         "marker": {
          "color": "rgb(136, 136, 136)",
          "pattern": {
           "shape": ""
          }
         },
         "name": "Los Angeles",
         "offsetgroup": "Los Angeles",
         "orientation": "v",
         "showlegend": true,
         "text": [
          113700
         ],
         "textposition": "outside",
         "texttemplate": "$%{text}",
         "type": "bar",
         "x": [
          "Los Angeles"
         ],
         "xaxis": "x",
         "y": [
          113700
         ],
         "yaxis": "y"
        },
        {
         "alignmentgroup": "True",
         "hovertemplate": "Metro Area=%{x}<br>Average Salary (USD)=%{text}<extra></extra>",
         "legendgroup": "Denver",
         "marker": {
          "color": "rgb(136, 204, 238)",
          "pattern": {
           "shape": ""
          }
         },
         "name": "Denver",
         "offsetgroup": "Denver",
         "orientation": "v",
         "showlegend": true,
         "text": [
          112900
         ],
         "textposition": "outside",
         "texttemplate": "$%{text}",
         "type": "bar",
         "x": [
          "Denver"
         ],
         "xaxis": "x",
         "y": [
          112900
         ],
         "yaxis": "y"
        }
       ],
       "layout": {
        "autosize": true,
        "barmode": "relative",
        "legend": {
         "title": {
          "text": "Metro Area"
         },
         "tracegroupgap": 0
        },
        "margin": {
         "b": 100,
         "l": 40,
         "r": 40,
         "t": 80
        },
        "paper_bgcolor": "#F9F9F9",
        "plot_bgcolor": "#FFFFFF",
        "showlegend": false,
        "template": {
         "data": {
          "bar": [
           {
            "error_x": {
             "color": "#2a3f5f"
            },
            "error_y": {
             "color": "#2a3f5f"
            },
            "marker": {
             "line": {
              "color": "#E5ECF6",
              "width": 0.5
             },
             "pattern": {
              "fillmode": "overlay",
              "size": 10,
              "solidity": 0.2
             }
            },
            "type": "bar"
           }
          ],
          "barpolar": [
           {
            "marker": {
             "line": {
              "color": "#E5ECF6",
              "width": 0.5
             },
             "pattern": {
              "fillmode": "overlay",
              "size": 10,
              "solidity": 0.2
             }
            },
            "type": "barpolar"
           }
          ],
          "carpet": [
           {
            "aaxis": {
             "endlinecolor": "#2a3f5f",
             "gridcolor": "white",
             "linecolor": "white",
             "minorgridcolor": "white",
             "startlinecolor": "#2a3f5f"
            },
            "baxis": {
             "endlinecolor": "#2a3f5f",
             "gridcolor": "white",
             "linecolor": "white",
             "minorgridcolor": "white",
             "startlinecolor": "#2a3f5f"
            },
            "type": "carpet"
           }
          ],
          "choropleth": [
           {
            "colorbar": {
             "outlinewidth": 0,
             "ticks": ""
            },
            "type": "choropleth"
           }
          ],
          "contour": [
           {
            "colorbar": {
             "outlinewidth": 0,
             "ticks": ""
            },
            "colorscale": [
             [
              0,
              "#0d0887"
             ],
             [
              0.1111111111111111,
              "#46039f"
             ],
             [
              0.2222222222222222,
              "#7201a8"
             ],
             [
              0.3333333333333333,
              "#9c179e"
             ],
             [
              0.4444444444444444,
              "#bd3786"
             ],
             [
              0.5555555555555556,
              "#d8576b"
             ],
             [
              0.6666666666666666,
              "#ed7953"
             ],
             [
              0.7777777777777778,
              "#fb9f3a"
             ],
             [
              0.8888888888888888,
              "#fdca26"
             ],
             [
              1,
              "#f0f921"
             ]
            ],
            "type": "contour"
           }
          ],
          "contourcarpet": [
           {
            "colorbar": {
             "outlinewidth": 0,
             "ticks": ""
            },
            "type": "contourcarpet"
           }
          ],
          "heatmap": [
           {
            "colorbar": {
             "outlinewidth": 0,
             "ticks": ""
            },
            "colorscale": [
             [
              0,
              "#0d0887"
             ],
             [
              0.1111111111111111,
              "#46039f"
             ],
             [
              0.2222222222222222,
              "#7201a8"
             ],
             [
              0.3333333333333333,
              "#9c179e"
             ],
             [
              0.4444444444444444,
              "#bd3786"
             ],
             [
              0.5555555555555556,
              "#d8576b"
             ],
             [
              0.6666666666666666,
              "#ed7953"
             ],
             [
              0.7777777777777778,
              "#fb9f3a"
             ],
             [
              0.8888888888888888,
              "#fdca26"
             ],
             [
              1,
              "#f0f921"
             ]
            ],
            "type": "heatmap"
           }
          ],
          "heatmapgl": [
           {
            "colorbar": {
             "outlinewidth": 0,
             "ticks": ""
            },
            "colorscale": [
             [
              0,
              "#0d0887"
             ],
             [
              0.1111111111111111,
              "#46039f"
             ],
             [
              0.2222222222222222,
              "#7201a8"
             ],
             [
              0.3333333333333333,
              "#9c179e"
             ],
             [
              0.4444444444444444,
              "#bd3786"
             ],
             [
              0.5555555555555556,
              "#d8576b"
             ],
             [
              0.6666666666666666,
              "#ed7953"
             ],
             [
              0.7777777777777778,
              "#fb9f3a"
             ],
             [
              0.8888888888888888,
              "#fdca26"
             ],
             [
              1,
              "#f0f921"
             ]
            ],
            "type": "heatmapgl"
           }
          ],
          "histogram": [
           {
            "marker": {
             "pattern": {
              "fillmode": "overlay",
              "size": 10,
              "solidity": 0.2
             }
            },
            "type": "histogram"
           }
          ],
          "histogram2d": [
           {
            "colorbar": {
             "outlinewidth": 0,
             "ticks": ""
            },
            "colorscale": [
             [
              0,
              "#0d0887"
             ],
             [
              0.1111111111111111,
              "#46039f"
             ],
             [
              0.2222222222222222,
              "#7201a8"
             ],
             [
              0.3333333333333333,
              "#9c179e"
             ],
             [
              0.4444444444444444,
              "#bd3786"
             ],
             [
              0.5555555555555556,
              "#d8576b"
             ],
             [
              0.6666666666666666,
              "#ed7953"
             ],
             [
              0.7777777777777778,
              "#fb9f3a"
             ],
             [
              0.8888888888888888,
              "#fdca26"
             ],
             [
              1,
              "#f0f921"
             ]
            ],
            "type": "histogram2d"
           }
          ],
          "histogram2dcontour": [
           {
            "colorbar": {
             "outlinewidth": 0,
             "ticks": ""
            },
            "colorscale": [
             [
              0,
              "#0d0887"
             ],
             [
              0.1111111111111111,
              "#46039f"
             ],
             [
              0.2222222222222222,
              "#7201a8"
             ],
             [
              0.3333333333333333,
              "#9c179e"
             ],
             [
              0.4444444444444444,
              "#bd3786"
             ],
             [
              0.5555555555555556,
              "#d8576b"
             ],
             [
              0.6666666666666666,
              "#ed7953"
             ],
             [
              0.7777777777777778,
              "#fb9f3a"
             ],
             [
              0.8888888888888888,
              "#fdca26"
             ],
             [
              1,
              "#f0f921"
             ]
            ],
            "type": "histogram2dcontour"
           }
          ],
          "mesh3d": [
           {
            "colorbar": {
             "outlinewidth": 0,
             "ticks": ""
            },
            "type": "mesh3d"
           }
          ],
          "parcoords": [
           {
            "line": {
             "colorbar": {
              "outlinewidth": 0,
              "ticks": ""
             }
            },
            "type": "parcoords"
           }
          ],
          "pie": [
           {
            "automargin": true,
            "type": "pie"
           }
          ],
          "scatter": [
           {
            "fillpattern": {
             "fillmode": "overlay",
             "size": 10,
             "solidity": 0.2
            },
            "type": "scatter"
           }
          ],
          "scatter3d": [
           {
            "line": {
             "colorbar": {
              "outlinewidth": 0,
              "ticks": ""
             }
            },
            "marker": {
             "colorbar": {
              "outlinewidth": 0,
              "ticks": ""
             }
            },
            "type": "scatter3d"
           }
          ],
          "scattercarpet": [
           {
            "marker": {
             "colorbar": {
              "outlinewidth": 0,
              "ticks": ""
             }
            },
            "type": "scattercarpet"
           }
          ],
          "scattergeo": [
           {
            "marker": {
             "colorbar": {
              "outlinewidth": 0,
              "ticks": ""
             }
            },
            "type": "scattergeo"
           }
          ],
          "scattergl": [
           {
            "marker": {
             "colorbar": {
              "outlinewidth": 0,
              "ticks": ""
             }
            },
            "type": "scattergl"
           }
          ],
          "scattermapbox": [
           {
            "marker": {
             "colorbar": {
              "outlinewidth": 0,
              "ticks": ""
             }
            },
            "type": "scattermapbox"
           }
          ],
          "scatterpolar": [
           {
            "marker": {
             "colorbar": {
              "outlinewidth": 0,
              "ticks": ""
             }
            },
            "type": "scatterpolar"
           }
          ],
          "scatterpolargl": [
           {
            "marker": {
             "colorbar": {
              "outlinewidth": 0,
              "ticks": ""
             }
            },
            "type": "scatterpolargl"
           }
          ],
          "scatterternary": [
           {
            "marker": {
             "colorbar": {
              "outlinewidth": 0,
              "ticks": ""
             }
            },
            "type": "scatterternary"
           }
          ],
          "surface": [
           {
            "colorbar": {
             "outlinewidth": 0,
             "ticks": ""
            },
            "colorscale": [
             [
              0,
              "#0d0887"
             ],
             [
              0.1111111111111111,
              "#46039f"
             ],
             [
              0.2222222222222222,
              "#7201a8"
             ],
             [
              0.3333333333333333,
              "#9c179e"
             ],
             [
              0.4444444444444444,
              "#bd3786"
             ],
             [
              0.5555555555555556,
              "#d8576b"
             ],
             [
              0.6666666666666666,
              "#ed7953"
             ],
             [
              0.7777777777777778,
              "#fb9f3a"
             ],
             [
              0.8888888888888888,
              "#fdca26"
             ],
             [
              1,
              "#f0f921"
             ]
            ],
            "type": "surface"
           }
          ],
          "table": [
           {
            "cells": {
             "fill": {
              "color": "#EBF0F8"
             },
             "line": {
              "color": "white"
             }
            },
            "header": {
             "fill": {
              "color": "#C8D4E3"
             },
             "line": {
              "color": "white"
             }
            },
            "type": "table"
           }
          ]
         },
         "layout": {
          "annotationdefaults": {
           "arrowcolor": "#2a3f5f",
           "arrowhead": 0,
           "arrowwidth": 1
          },
          "autotypenumbers": "strict",
          "coloraxis": {
           "colorbar": {
            "outlinewidth": 0,
            "ticks": ""
           }
          },
          "colorscale": {
           "diverging": [
            [
             0,
             "#8e0152"
            ],
            [
             0.1,
             "#c51b7d"
            ],
            [
             0.2,
             "#de77ae"
            ],
            [
             0.3,
             "#f1b6da"
            ],
            [
             0.4,
             "#fde0ef"
            ],
            [
             0.5,
             "#f7f7f7"
            ],
            [
             0.6,
             "#e6f5d0"
            ],
            [
             0.7,
             "#b8e186"
            ],
            [
             0.8,
             "#7fbc41"
            ],
            [
             0.9,
             "#4d9221"
            ],
            [
             1,
             "#276419"
            ]
           ],
           "sequential": [
            [
             0,
             "#0d0887"
            ],
            [
             0.1111111111111111,
             "#46039f"
            ],
            [
             0.2222222222222222,
             "#7201a8"
            ],
            [
             0.3333333333333333,
             "#9c179e"
            ],
            [
             0.4444444444444444,
             "#bd3786"
            ],
            [
             0.5555555555555556,
             "#d8576b"
            ],
            [
             0.6666666666666666,
             "#ed7953"
            ],
            [
             0.7777777777777778,
             "#fb9f3a"
            ],
            [
             0.8888888888888888,
             "#fdca26"
            ],
            [
             1,
             "#f0f921"
            ]
           ],
           "sequentialminus": [
            [
             0,
             "#0d0887"
            ],
            [
             0.1111111111111111,
             "#46039f"
            ],
            [
             0.2222222222222222,
             "#7201a8"
            ],
            [
             0.3333333333333333,
             "#9c179e"
            ],
            [
             0.4444444444444444,
             "#bd3786"
            ],
            [
             0.5555555555555556,
             "#d8576b"
            ],
            [
             0.6666666666666666,
             "#ed7953"
            ],
            [
             0.7777777777777778,
             "#fb9f3a"
            ],
            [
             0.8888888888888888,
             "#fdca26"
            ],
            [
             1,
             "#f0f921"
            ]
           ]
          },
          "colorway": [
           "#636efa",
           "#EF553B",
           "#00cc96",
           "#ab63fa",
           "#FFA15A",
           "#19d3f3",
           "#FF6692",
           "#B6E880",
           "#FF97FF",
           "#FECB52"
          ],
          "font": {
           "color": "#2a3f5f"
          },
          "geo": {
           "bgcolor": "white",
           "lakecolor": "white",
           "landcolor": "#E5ECF6",
           "showlakes": true,
           "showland": true,
           "subunitcolor": "white"
          },
          "hoverlabel": {
           "align": "left"
          },
          "hovermode": "closest",
          "mapbox": {
           "style": "light"
          },
          "paper_bgcolor": "white",
          "plot_bgcolor": "#E5ECF6",
          "polar": {
           "angularaxis": {
            "gridcolor": "white",
            "linecolor": "white",
            "ticks": ""
           },
           "bgcolor": "#E5ECF6",
           "radialaxis": {
            "gridcolor": "white",
            "linecolor": "white",
            "ticks": ""
           }
          },
          "scene": {
           "xaxis": {
            "backgroundcolor": "#E5ECF6",
            "gridcolor": "white",
            "gridwidth": 2,
            "linecolor": "white",
            "showbackground": true,
            "ticks": "",
            "zerolinecolor": "white"
           },
           "yaxis": {
            "backgroundcolor": "#E5ECF6",
            "gridcolor": "white",
            "gridwidth": 2,
            "linecolor": "white",
            "showbackground": true,
            "ticks": "",
            "zerolinecolor": "white"
           },
           "zaxis": {
            "backgroundcolor": "#E5ECF6",
            "gridcolor": "white",
            "gridwidth": 2,
            "linecolor": "white",
            "showbackground": true,
            "ticks": "",
            "zerolinecolor": "white"
           }
          },
          "shapedefaults": {
           "line": {
            "color": "#2a3f5f"
           }
          },
          "ternary": {
           "aaxis": {
            "gridcolor": "white",
            "linecolor": "white",
            "ticks": ""
           },
           "baxis": {
            "gridcolor": "white",
            "linecolor": "white",
            "ticks": ""
           },
           "bgcolor": "#E5ECF6",
           "caxis": {
            "gridcolor": "white",
            "linecolor": "white",
            "ticks": ""
           }
          },
          "title": {
           "x": 0.05
          },
          "xaxis": {
           "automargin": true,
           "gridcolor": "white",
           "linecolor": "white",
           "ticks": "",
           "title": {
            "standoff": 15
           },
           "zerolinecolor": "white",
           "zerolinewidth": 2
          },
          "yaxis": {
           "automargin": true,
           "gridcolor": "white",
           "linecolor": "white",
           "ticks": "",
           "title": {
            "standoff": 15
           },
           "zerolinecolor": "white",
           "zerolinewidth": 2
          }
         }
        },
        "title": {
         "text": "Average Salaries Across Major US Metro Areas"
        },
        "xaxis": {
         "anchor": "y",
         "autorange": true,
         "categoryarray": [
          "San Francisco",
          "Seattle",
          "Washington DC",
          "New York",
          "Boston",
          "Austin",
          "Kansas City",
          "Dallas",
          "Houston",
          "Nashville",
          "Los Angeles",
          "Denver"
         ],
         "categoryorder": "array",
         "domain": [
          0,
          1
         ],
         "range": [
          -0.5,
          11.5
         ],
         "title": {
          "text": "Metro Area"
         },
         "type": "category"
        },
        "yaxis": {
         "anchor": "x",
         "autorange": true,
         "domain": [
          0,
          1
         ],
         "range": [
          0,
          144526.31578947368
         ],
         "title": {
          "text": "Average Salary (USD)"
         },
         "type": "linear"
        }
       }
      },
      "image/png": "[encoded data removed]",
      "text/html": [
       "<div>                            <div id=\"1dde2afb-c6cf-47ef-bd55-1c98d55be7d7\" class=\"plotly-graph-div\" style=\"height:500px; width:100%;\"></div>            <script type=\"text/javascript\">                require([\"plotly\"], function(Plotly) {                    window.PLOTLYENV=window.PLOTLYENV || {};                                    if (document.getElementById(\"1dde2afb-c6cf-47ef-bd55-1c98d55be7d7\")) {                    Plotly.newPlot(                        \"1dde2afb-c6cf-47ef-bd55-1c98d55be7d7\",                        [{\"alignmentgroup\":\"True\",\"hovertemplate\":\"Metro Area=%{x}\\u003cbr\\u003eAverage Salary (USD)=%{text}\\u003cextra\\u003e\\u003c\\u002fextra\\u003e\",\"legendgroup\":\"San Francisco\",\"marker\":{\"color\":\"rgb(136, 204, 238)\",\"pattern\":{\"shape\":\"\"}},\"name\":\"San Francisco\",\"offsetgroup\":\"San Francisco\",\"orientation\":\"v\",\"showlegend\":true,\"text\":[137300.0],\"textposition\":\"outside\",\"x\":[\"San Francisco\"],\"xaxis\":\"x\",\"y\":[137300.0],\"yaxis\":\"y\",\"type\":\"bar\",\"texttemplate\":\"$%{text}\"},{\"alignmentgroup\":\"True\",\"hovertemplate\":\"Metro Area=%{x}\\u003cbr\\u003eAverage Salary (USD)=%{text}\\u003cextra\\u003e\\u003c\\u002fextra\\u003e\",\"legendgroup\":\"Seattle\",\"marker\":{\"color\":\"rgb(204, 102, 119)\",\"pattern\":{\"shape\":\"\"}},\"name\":\"Seattle\",\"offsetgroup\":\"Seattle\",\"orientation\":\"v\",\"showlegend\":true,\"text\":[129300.0],\"textposition\":\"outside\",\"x\":[\"Seattle\"],\"xaxis\":\"x\",\"y\":[129300.0],\"yaxis\":\"y\",\"type\":\"bar\",\"texttemplate\":\"$%{text}\"},{\"alignmentgroup\":\"True\",\"hovertemplate\":\"Metro Area=%{x}\\u003cbr\\u003eAverage Salary (USD)=%{text}\\u003cextra\\u003e\\u003c\\u002fextra\\u003e\",\"legendgroup\":\"Washington DC\",\"marker\":{\"color\":\"rgb(221, 204, 119)\",\"pattern\":{\"shape\":\"\"}},\"name\":\"Washington DC\",\"offsetgroup\":\"Washington DC\",\"orientation\":\"v\",\"showlegend\":true,\"text\":[127300.0],\"textposition\":\"outside\",\"x\":[\"Washington DC\"],\"xaxis\":\"x\",\"y\":[127300.0],\"yaxis\":\"y\",\"type\":\"bar\",\"texttemplate\":\"$%{text}\"},{\"alignmentgroup\":\"True\",\"hovertemplate\":\"Metro Area=%{x}\\u003cbr\\u003eAverage Salary (USD)=%{text}\\u003cextra\\u003e\\u003c\\u002fextra\\u003e\",\"legendgroup\":\"New York\",\"marker\":{\"color\":\"rgb(17, 119, 51)\",\"pattern\":{\"shape\":\"\"}},\"name\":\"New York\",\"offsetgroup\":\"New York\",\"orientation\":\"v\",\"showlegend\":true,\"text\":[124500.0],\"textposition\":\"outside\",\"x\":[\"New York\"],\"xaxis\":\"x\",\"y\":[124500.0],\"yaxis\":\"y\",\"type\":\"bar\",\"texttemplate\":\"$%{text}\"},{\"alignmentgroup\":\"True\",\"hovertemplate\":\"Metro Area=%{x}\\u003cbr\\u003eAverage Salary (USD)=%{text}\\u003cextra\\u003e\\u003c\\u002fextra\\u003e\",\"legendgroup\":\"Boston\",\"marker\":{\"color\":\"rgb(51, 34, 136)\",\"pattern\":{\"shape\":\"\"}},\"name\":\"Boston\",\"offsetgroup\":\"Boston\",\"orientation\":\"v\",\"showlegend\":true,\"text\":[124200.0],\"textposition\":\"outside\",\"x\":[\"Boston\"],\"xaxis\":\"x\",\"y\":[124200.0],\"yaxis\":\"y\",\"type\":\"bar\",\"texttemplate\":\"$%{text}\"},{\"alignmentgroup\":\"True\",\"hovertemplate\":\"Metro Area=%{x}\\u003cbr\\u003eAverage Salary (USD)=%{text}\\u003cextra\\u003e\\u003c\\u002fextra\\u003e\",\"legendgroup\":\"Austin\",\"marker\":{\"color\":\"rgb(170, 68, 153)\",\"pattern\":{\"shape\":\"\"}},\"name\":\"Austin\",\"offsetgroup\":\"Austin\",\"orientation\":\"v\",\"showlegend\":true,\"text\":[122100.0],\"textposition\":\"outside\",\"x\":[\"Austin\"],\"xaxis\":\"x\",\"y\":[122100.0],\"yaxis\":\"y\",\"type\":\"bar\",\"texttemplate\":\"$%{text}\"},{\"alignmentgroup\":\"True\",\"hovertemplate\":\"Metro Area=%{x}\\u003cbr\\u003eAverage Salary (USD)=%{text}\\u003cextra\\u003e\\u003c\\u002fextra\\u003e\",\"legendgroup\":\"Kansas City\",\"marker\":{\"color\":\"rgb(68, 170, 153)\",\"pattern\":{\"shape\":\"\"}},\"name\":\"Kansas City\",\"offsetgroup\":\"Kansas City\",\"orientation\":\"v\",\"showlegend\":true,\"text\":[122100.0],\"textposition\":\"outside\",\"x\":[\"Kansas City\"],\"xaxis\":\"x\",\"y\":[122100.0],\"yaxis\":\"y\",\"type\":\"bar\",\"texttemplate\":\"$%{text}\"},{\"alignmentgroup\":\"True\",\"hovertemplate\":\"Metro Area=%{x}\\u003cbr\\u003eAverage Salary (USD)=%{text}\\u003cextra\\u003e\\u003c\\u002fextra\\u003e\",\"legendgroup\":\"Dallas\",\"marker\":{\"color\":\"rgb(153, 153, 51)\",\"pattern\":{\"shape\":\"\"}},\"name\":\"Dallas\",\"offsetgroup\":\"Dallas\",\"orientation\":\"v\",\"showlegend\":true,\"text\":[121100.0],\"textposition\":\"outside\",\"x\":[\"Dallas\"],\"xaxis\":\"x\",\"y\":[121100.0],\"yaxis\":\"y\",\"type\":\"bar\",\"texttemplate\":\"$%{text}\"},{\"alignmentgroup\":\"True\",\"hovertemplate\":\"Metro Area=%{x}\\u003cbr\\u003eAverage Salary (USD)=%{text}\\u003cextra\\u003e\\u003c\\u002fextra\\u003e\",\"legendgroup\":\"Houston\",\"marker\":{\"color\":\"rgb(136, 34, 85)\",\"pattern\":{\"shape\":\"\"}},\"name\":\"Houston\",\"offsetgroup\":\"Houston\",\"orientation\":\"v\",\"showlegend\":true,\"text\":[116400.0],\"textposition\":\"outside\",\"x\":[\"Houston\"],\"xaxis\":\"x\",\"y\":[116400.0],\"yaxis\":\"y\",\"type\":\"bar\",\"texttemplate\":\"$%{text}\"},{\"alignmentgroup\":\"True\",\"hovertemplate\":\"Metro Area=%{x}\\u003cbr\\u003eAverage Salary (USD)=%{text}\\u003cextra\\u003e\\u003c\\u002fextra\\u003e\",\"legendgroup\":\"Nashville\",\"marker\":{\"color\":\"rgb(102, 17, 0)\",\"pattern\":{\"shape\":\"\"}},\"name\":\"Nashville\",\"offsetgroup\":\"Nashville\",\"orientation\":\"v\",\"showlegend\":true,\"text\":[116300.0],\"textposition\":\"outside\",\"x\":[\"Nashville\"],\"xaxis\":\"x\",\"y\":[116300.0],\"yaxis\":\"y\",\"type\":\"bar\",\"texttemplate\":\"$%{text}\"},{\"alignmentgroup\":\"True\",\"hovertemplate\":\"Metro Area=%{x}\\u003cbr\\u003eAverage Salary (USD)=%{text}\\u003cextra\\u003e\\u003c\\u002fextra\\u003e\",\"legendgroup\":\"Los Angeles\",\"marker\":{\"color\":\"rgb(136, 136, 136)\",\"pattern\":{\"shape\":\"\"}},\"name\":\"Los Angeles\",\"offsetgroup\":\"Los Angeles\",\"orientation\":\"v\",\"showlegend\":true,\"text\":[113700.0],\"textposition\":\"outside\",\"x\":[\"Los Angeles\"],\"xaxis\":\"x\",\"y\":[113700.0],\"yaxis\":\"y\",\"type\":\"bar\",\"texttemplate\":\"$%{text}\"},{\"alignmentgroup\":\"True\",\"hovertemplate\":\"Metro Area=%{x}\\u003cbr\\u003eAverage Salary (USD)=%{text}\\u003cextra\\u003e\\u003c\\u002fextra\\u003e\",\"legendgroup\":\"Denver\",\"marker\":{\"color\":\"rgb(136, 204, 238)\",\"pattern\":{\"shape\":\"\"}},\"name\":\"Denver\",\"offsetgroup\":\"Denver\",\"orientation\":\"v\",\"showlegend\":true,\"text\":[112900.0],\"textposition\":\"outside\",\"x\":[\"Denver\"],\"xaxis\":\"x\",\"y\":[112900.0],\"yaxis\":\"y\",\"type\":\"bar\",\"texttemplate\":\"$%{text}\"}],                        {\"template\":{\"data\":{\"histogram2dcontour\":[{\"type\":\"histogram2dcontour\",\"colorbar\":{\"outlinewidth\":0,\"ticks\":\"\"},\"colorscale\":[[0.0,\"#0d0887\"],[0.1111111111111111,\"#46039f\"],[0.2222222222222222,\"#7201a8\"],[0.3333333333333333,\"#9c179e\"],[0.4444444444444444,\"#bd3786\"],[0.5555555555555556,\"#d8576b\"],[0.6666666666666666,\"#ed7953\"],[0.7777777777777778,\"#fb9f3a\"],[0.8888888888888888,\"#fdca26\"],[1.0,\"#f0f921\"]]}],\"choropleth\":[{\"type\":\"choropleth\",\"colorbar\":{\"outlinewidth\":0,\"ticks\":\"\"}}],\"histogram2d\":[{\"type\":\"histogram2d\",\"colorbar\":{\"outlinewidth\":0,\"ticks\":\"\"},\"colorscale\":[[0.0,\"#0d0887\"],[0.1111111111111111,\"#46039f\"],[0.2222222222222222,\"#7201a8\"],[0.3333333333333333,\"#9c179e\"],[0.4444444444444444,\"#bd3786\"],[0.5555555555555556,\"#d8576b\"],[0.6666666666666666,\"#ed7953\"],[0.7777777777777778,\"#fb9f3a\"],[0.8888888888888888,\"#fdca26\"],[1.0,\"#f0f921\"]]}],\"heatmap\":[{\"type\":\"heatmap\",\"colorbar\":{\"outlinewidth\":0,\"ticks\":\"\"},\"colorscale\":[[0.0,\"#0d0887\"],[0.1111111111111111,\"#46039f\"],[0.2222222222222222,\"#7201a8\"],[0.3333333333333333,\"#9c179e\"],[0.4444444444444444,\"#bd3786\"],[0.5555555555555556,\"#d8576b\"],[0.6666666666666666,\"#ed7953\"],[0.7777777777777778,\"#fb9f3a\"],[0.8888888888888888,\"#fdca26\"],[1.0,\"#f0f921\"]]}],\"heatmapgl\":[{\"type\":\"heatmapgl\",\"colorbar\":{\"outlinewidth\":0,\"ticks\":\"\"},\"colorscale\":[[0.0,\"#0d0887\"],[0.1111111111111111,\"#46039f\"],[0.2222222222222222,\"#7201a8\"],[0.3333333333333333,\"#9c179e\"],[0.4444444444444444,\"#bd3786\"],[0.5555555555555556,\"#d8576b\"],[0.6666666666666666,\"#ed7953\"],[0.7777777777777778,\"#fb9f3a\"],[0.8888888888888888,\"#fdca26\"],[1.0,\"#f0f921\"]]}],\"contourcarpet\":[{\"type\":\"contourcarpet\",\"colorbar\":{\"outlinewidth\":0,\"ticks\":\"\"}}],\"contour\":[{\"type\":\"contour\",\"colorbar\":{\"outlinewidth\":0,\"ticks\":\"\"},\"colorscale\":[[0.0,\"#0d0887\"],[0.1111111111111111,\"#46039f\"],[0.2222222222222222,\"#7201a8\"],[0.3333333333333333,\"#9c179e\"],[0.4444444444444444,\"#bd3786\"],[0.5555555555555556,\"#d8576b\"],[0.6666666666666666,\"#ed7953\"],[0.7777777777777778,\"#fb9f3a\"],[0.8888888888888888,\"#fdca26\"],[1.0,\"#f0f921\"]]}],\"surface\":[{\"type\":\"surface\",\"colorbar\":{\"outlinewidth\":0,\"ticks\":\"\"},\"colorscale\":[[0.0,\"#0d0887\"],[0.1111111111111111,\"#46039f\"],[0.2222222222222222,\"#7201a8\"],[0.3333333333333333,\"#9c179e\"],[0.4444444444444444,\"#bd3786\"],[0.5555555555555556,\"#d8576b\"],[0.6666666666666666,\"#ed7953\"],[0.7777777777777778,\"#fb9f3a\"],[0.8888888888888888,\"#fdca26\"],[1.0,\"#f0f921\"]]}],\"mesh3d\":[{\"type\":\"mesh3d\",\"colorbar\":{\"outlinewidth\":0,\"ticks\":\"\"}}],\"scatter\":[{\"fillpattern\":{\"fillmode\":\"overlay\",\"size\":10,\"solidity\":0.2},\"type\":\"scatter\"}],\"parcoords\":[{\"type\":\"parcoords\",\"line\":{\"colorbar\":{\"outlinewidth\":0,\"ticks\":\"\"}}}],\"scatterpolargl\":[{\"type\":\"scatterpolargl\",\"marker\":{\"colorbar\":{\"outlinewidth\":0,\"ticks\":\"\"}}}],\"bar\":[{\"error_x\":{\"color\":\"#2a3f5f\"},\"error_y\":{\"color\":\"#2a3f5f\"},\"marker\":{\"line\":{\"color\":\"#E5ECF6\",\"width\":0.5},\"pattern\":{\"fillmode\":\"overlay\",\"size\":10,\"solidity\":0.2}},\"type\":\"bar\"}],\"scattergeo\":[{\"type\":\"scattergeo\",\"marker\":{\"colorbar\":{\"outlinewidth\":0,\"ticks\":\"\"}}}],\"scatterpolar\":[{\"type\":\"scatterpolar\",\"marker\":{\"colorbar\":{\"outlinewidth\":0,\"ticks\":\"\"}}}],\"histogram\":[{\"marker\":{\"pattern\":{\"fillmode\":\"overlay\",\"size\":10,\"solidity\":0.2}},\"type\":\"histogram\"}],\"scattergl\":[{\"type\":\"scattergl\",\"marker\":{\"colorbar\":{\"outlinewidth\":0,\"ticks\":\"\"}}}],\"scatter3d\":[{\"type\":\"scatter3d\",\"line\":{\"colorbar\":{\"outlinewidth\":0,\"ticks\":\"\"}},\"marker\":{\"colorbar\":{\"outlinewidth\":0,\"ticks\":\"\"}}}],\"scattermapbox\":[{\"type\":\"scattermapbox\",\"marker\":{\"colorbar\":{\"outlinewidth\":0,\"ticks\":\"\"}}}],\"scatterternary\":[{\"type\":\"scatterternary\",\"marker\":{\"colorbar\":{\"outlinewidth\":0,\"ticks\":\"\"}}}],\"scattercarpet\":[{\"type\":\"scattercarpet\",\"marker\":{\"colorbar\":{\"outlinewidth\":0,\"ticks\":\"\"}}}],\"carpet\":[{\"aaxis\":{\"endlinecolor\":\"#2a3f5f\",\"gridcolor\":\"white\",\"linecolor\":\"white\",\"minorgridcolor\":\"white\",\"startlinecolor\":\"#2a3f5f\"},\"baxis\":{\"endlinecolor\":\"#2a3f5f\",\"gridcolor\":\"white\",\"linecolor\":\"white\",\"minorgridcolor\":\"white\",\"startlinecolor\":\"#2a3f5f\"},\"type\":\"carpet\"}],\"table\":[{\"cells\":{\"fill\":{\"color\":\"#EBF0F8\"},\"line\":{\"color\":\"white\"}},\"header\":{\"fill\":{\"color\":\"#C8D4E3\"},\"line\":{\"color\":\"white\"}},\"type\":\"table\"}],\"barpolar\":[{\"marker\":{\"line\":{\"color\":\"#E5ECF6\",\"width\":0.5},\"pattern\":{\"fillmode\":\"overlay\",\"size\":10,\"solidity\":0.2}},\"type\":\"barpolar\"}],\"pie\":[{\"automargin\":true,\"type\":\"pie\"}]},\"layout\":{\"autotypenumbers\":\"strict\",\"colorway\":[\"#636efa\",\"#EF553B\",\"#00cc96\",\"#ab63fa\",\"#FFA15A\",\"#19d3f3\",\"#FF6692\",\"#B6E880\",\"#FF97FF\",\"#FECB52\"],\"font\":{\"color\":\"#2a3f5f\"},\"hovermode\":\"closest\",\"hoverlabel\":{\"align\":\"left\"},\"paper_bgcolor\":\"white\",\"plot_bgcolor\":\"#E5ECF6\",\"polar\":{\"bgcolor\":\"#E5ECF6\",\"angularaxis\":{\"gridcolor\":\"white\",\"linecolor\":\"white\",\"ticks\":\"\"},\"radialaxis\":{\"gridcolor\":\"white\",\"linecolor\":\"white\",\"ticks\":\"\"}},\"ternary\":{\"bgcolor\":\"#E5ECF6\",\"aaxis\":{\"gridcolor\":\"white\",\"linecolor\":\"white\",\"ticks\":\"\"},\"baxis\":{\"gridcolor\":\"white\",\"linecolor\":\"white\",\"ticks\":\"\"},\"caxis\":{\"gridcolor\":\"white\",\"linecolor\":\"white\",\"ticks\":\"\"}},\"coloraxis\":{\"colorbar\":{\"outlinewidth\":0,\"ticks\":\"\"}},\"colorscale\":{\"sequential\":[[0.0,\"#0d0887\"],[0.1111111111111111,\"#46039f\"],[0.2222222222222222,\"#7201a8\"],[0.3333333333333333,\"#9c179e\"],[0.4444444444444444,\"#bd3786\"],[0.5555555555555556,\"#d8576b\"],[0.6666666666666666,\"#ed7953\"],[0.7777777777777778,\"#fb9f3a\"],[0.8888888888888888,\"#fdca26\"],[1.0,\"#f0f921\"]],\"sequentialminus\":[[0.0,\"#0d0887\"],[0.1111111111111111,\"#46039f\"],[0.2222222222222222,\"#7201a8\"],[0.3333333333333333,\"#9c179e\"],[0.4444444444444444,\"#bd3786\"],[0.5555555555555556,\"#d8576b\"],[0.6666666666666666,\"#ed7953\"],[0.7777777777777778,\"#fb9f3a\"],[0.8888888888888888,\"#fdca26\"],[1.0,\"#f0f921\"]],\"diverging\":[[0,\"#8e0152\"],[0.1,\"#c51b7d\"],[0.2,\"#de77ae\"],[0.3,\"#f1b6da\"],[0.4,\"#fde0ef\"],[0.5,\"#f7f7f7\"],[0.6,\"#e6f5d0\"],[0.7,\"#b8e186\"],[0.8,\"#7fbc41\"],[0.9,\"#4d9221\"],[1,\"#276419\"]]},\"xaxis\":{\"gridcolor\":\"white\",\"linecolor\":\"white\",\"ticks\":\"\",\"title\":{\"standoff\":15},\"zerolinecolor\":\"white\",\"automargin\":true,\"zerolinewidth\":2},\"yaxis\":{\"gridcolor\":\"white\",\"linecolor\":\"white\",\"ticks\":\"\",\"title\":{\"standoff\":15},\"zerolinecolor\":\"white\",\"automargin\":true,\"zerolinewidth\":2},\"scene\":{\"xaxis\":{\"backgroundcolor\":\"#E5ECF6\",\"gridcolor\":\"white\",\"linecolor\":\"white\",\"showbackground\":true,\"ticks\":\"\",\"zerolinecolor\":\"white\",\"gridwidth\":2},\"yaxis\":{\"backgroundcolor\":\"#E5ECF6\",\"gridcolor\":\"white\",\"linecolor\":\"white\",\"showbackground\":true,\"ticks\":\"\",\"zerolinecolor\":\"white\",\"gridwidth\":2},\"zaxis\":{\"backgroundcolor\":\"#E5ECF6\",\"gridcolor\":\"white\",\"linecolor\":\"white\",\"showbackground\":true,\"ticks\":\"\",\"zerolinecolor\":\"white\",\"gridwidth\":2}},\"shapedefaults\":{\"line\":{\"color\":\"#2a3f5f\"}},\"annotationdefaults\":{\"arrowcolor\":\"#2a3f5f\",\"arrowhead\":0,\"arrowwidth\":1},\"geo\":{\"bgcolor\":\"white\",\"landcolor\":\"#E5ECF6\",\"subunitcolor\":\"white\",\"showland\":true,\"showlakes\":true,\"lakecolor\":\"white\"},\"title\":{\"x\":0.05},\"mapbox\":{\"style\":\"light\"}}},\"xaxis\":{\"anchor\":\"y\",\"domain\":[0.0,1.0],\"title\":{\"text\":\"Metro Area\"},\"categoryorder\":\"array\",\"categoryarray\":[\"San Francisco\",\"Seattle\",\"Washington DC\",\"New York\",\"Boston\",\"Austin\",\"Kansas City\",\"Dallas\",\"Houston\",\"Nashville\",\"Los Angeles\",\"Denver\"]},\"yaxis\":{\"anchor\":\"x\",\"domain\":[0.0,1.0],\"title\":{\"text\":\"Average Salary (USD)\"}},\"legend\":{\"title\":{\"text\":\"Metro Area\"},\"tracegroupgap\":0},\"title\":{\"text\":\"Average Salaries Across Major US Metro Areas\"},\"barmode\":\"relative\",\"height\":500,\"margin\":{\"l\":40,\"r\":40,\"t\":80,\"b\":100},\"showlegend\":false,\"paper_bgcolor\":\"#F9F9F9\",\"plot_bgcolor\":\"#FFFFFF\"},                        {\"responsive\": true}                    ).then(function(){\n",
       "                            \n",
       "var gd = document.getElementById('1dde2afb-c6cf-47ef-bd55-1c98d55be7d7');\n",
       "var x = new MutationObserver(function (mutations, observer) {{\n",
       "        var display = window.getComputedStyle(gd).display;\n",
       "        if (!display || display === 'none') {{\n",
       "            console.log([gd, 'removed!']);\n",
       "            Plotly.purge(gd);\n",
       "            observer.disconnect();\n",
       "        }}\n",
       "}});\n",
       "\n",
       "// Listen for the removal of the full notebook cells\n",
       "var notebookContainer = gd.closest('#notebook-container');\n",
       "if (notebookContainer) {{\n",
       "    x.observe(notebookContainer, {childList: true});\n",
       "}}\n",
       "\n",
       "// Listen for the clearing of the current output cell\n",
       "var outputEl = gd.closest('.output');\n",
       "if (outputEl) {{\n",
       "    x.observe(outputEl, {childList: true});\n",
       "}}\n",
       "\n",
       "                        })                };                });            </script>        </div>"
      ]
     },
     "metadata": {},
     "output_type": "display_data"
    }
   ],
   "source": [
    "fig_04 = px.bar(\n",
    "    df_cities,\n",
    "    x=\"City\",\n",
    "    y=\"avg_salary\",\n",
    "    text=\"avg_salary\",\n",
    "    title=\"Average Salaries Across Major US Metro Areas\",\n",
    "    labels={\"avg_salary\": \"Average Salary (USD)\", \"City\": \"Metro Area\"},\n",
    "    color=\"City\",\n",
    "    color_discrete_sequence=px.colors.qualitative.Safe,\n",
    "    height=500\n",
    ")\n",
    "\n",
    "fig_04.update_traces(texttemplate='$%{text}', textposition=\"outside\")\n",
    "\n",
    "fig_04.update_layout(\n",
    "    showlegend=False,\n",
    "    yaxis_title=\"Average Salary (USD)\",\n",
    "    xaxis_title=\"Metro Area\",\n",
    "    paper_bgcolor=\"#F9F9F9\",\n",
    "    plot_bgcolor=\"#FFFFFF\",\n",
    "    margin=dict(l=40, r=40, t=80, b=100)\n",
    ")\n",
    "\n",
    "fig_04.show()"
   ]
  },
  {
   "cell_type": "markdown",
   "id": "8b55d017-ec37-4eac-af67-7b40c4eb7195",
   "metadata": {},
   "source": [
    "*__save figures__*"
   ]
  },
  {
   "cell_type": "code",
   "execution_count": 68,
   "id": "3643574f-5220-4bd1-a063-85bea8d36c14",
   "metadata": {},
   "outputs": [],
   "source": [
    "os.makedirs(\"plots\", exist_ok=True)"
   ]
  },
  {
   "cell_type": "code",
   "execution_count": 69,
   "id": "26a034eb-a55f-4fce-b3f8-32fbff44c657",
   "metadata": {},
   "outputs": [],
   "source": [
    "fig_01.write_html(\"plots/fig_01_salary_by_occupation.html\")\n",
    "fig_02.write_html(\"plots/fig_02_remote_jobs_ca.html\")\n",
    "fig_03.write_html(\"plots/fig_03_monthly_trends_ca.html\")\n",
    "fig_04.write_html(\"plots/fig_04_salary_by_city.html\")"
   ]
  },
  {
   "cell_type": "code",
   "execution_count": 70,
   "id": "4373fb90-56db-451b-98bb-abaa17dc3b12",
   "metadata": {},
   "outputs": [],
   "source": [
    "con.close()"
   ]
  }
 ],
 "metadata": {
  "kernelspec": {
   "display_name": "Python 3 (ipykernel)",
   "language": "python",
   "name": "python3"
  },
  "language_info": {
   "codemirror_mode": {
    "name": "ipython",
    "version": 3
   },
   "file_extension": ".py",
   "mimetype": "text/x-python",
   "name": "python",
   "nbconvert_exporter": "python",
   "pygments_lexer": "ipython3",
   "version": "3.12.4"
  }
 },
 "nbformat": 4,
 "nbformat_minor": 5
}
